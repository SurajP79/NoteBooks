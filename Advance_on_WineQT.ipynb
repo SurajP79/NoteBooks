{
 "cells": [
  {
   "cell_type": "code",
   "execution_count": null,
   "metadata": {
    "id": "iQEqpKyVsfih"
   },
   "outputs": [],
   "source": [
    "import pandas as pd\n",
    "import numpy as np \n",
    "import matplotlib\n",
    "import matplotlib.pyplot as plt\n",
    "import seaborn as sns\n",
    "%matplotlib inline"
   ]
  },
  {
   "cell_type": "markdown",
   "metadata": {
    "id": "98duuaQFH0Q0"
   },
   "source": [
    "The following settings will improve the default style and font sizes for our charts."
   ]
  },
  {
   "cell_type": "code",
   "execution_count": null,
   "metadata": {
    "id": "s8ezED7IHvPI"
   },
   "outputs": [],
   "source": [
    "# sns.set_style('darkgrid')\n",
    "# matplotlib.rcParams['font.size'] = 14\n",
    "# matplotlib.rcParams['figure.figsize'] = (10, 6)\n",
    "# matplotlib.rcParams['figure.facecolor'] = '#00000000'"
   ]
  },
  {
   "cell_type": "code",
   "execution_count": null,
   "metadata": {
    "id": "4WA1PYlpHxYX"
   },
   "outputs": [],
   "source": [
    "df = pd.read_csv('WineQT.csv')"
   ]
  },
  {
   "cell_type": "code",
   "execution_count": null,
   "metadata": {
    "colab": {
     "base_uri": "https://localhost:8080/",
     "height": 268
    },
    "id": "iFsIgIxlH4S7",
    "outputId": "350b8d63-466d-424b-d2ed-ddfa9afe669a"
   },
   "outputs": [
    {
     "data": {
      "text/html": [
       "\n",
       "  <div id=\"df-beb1a971-ee3e-4f58-a9cb-35cb2f4d87ea\">\n",
       "    <div class=\"colab-df-container\">\n",
       "      <div>\n",
       "<style scoped>\n",
       "    .dataframe tbody tr th:only-of-type {\n",
       "        vertical-align: middle;\n",
       "    }\n",
       "\n",
       "    .dataframe tbody tr th {\n",
       "        vertical-align: top;\n",
       "    }\n",
       "\n",
       "    .dataframe thead th {\n",
       "        text-align: right;\n",
       "    }\n",
       "</style>\n",
       "<table border=\"1\" class=\"dataframe\">\n",
       "  <thead>\n",
       "    <tr style=\"text-align: right;\">\n",
       "      <th></th>\n",
       "      <th>fixed acidity</th>\n",
       "      <th>volatile acidity</th>\n",
       "      <th>citric acid</th>\n",
       "      <th>residual sugar</th>\n",
       "      <th>chlorides</th>\n",
       "      <th>free sulfur dioxide</th>\n",
       "      <th>total sulfur dioxide</th>\n",
       "      <th>density</th>\n",
       "      <th>pH</th>\n",
       "      <th>sulphates</th>\n",
       "      <th>alcohol</th>\n",
       "      <th>quality</th>\n",
       "      <th>Id</th>\n",
       "    </tr>\n",
       "  </thead>\n",
       "  <tbody>\n",
       "    <tr>\n",
       "      <th>0</th>\n",
       "      <td>7.4</td>\n",
       "      <td>0.70</td>\n",
       "      <td>0.00</td>\n",
       "      <td>1.9</td>\n",
       "      <td>0.076</td>\n",
       "      <td>11.0</td>\n",
       "      <td>34.0</td>\n",
       "      <td>0.9978</td>\n",
       "      <td>3.51</td>\n",
       "      <td>0.56</td>\n",
       "      <td>9.4</td>\n",
       "      <td>5</td>\n",
       "      <td>0</td>\n",
       "    </tr>\n",
       "    <tr>\n",
       "      <th>1</th>\n",
       "      <td>7.8</td>\n",
       "      <td>0.88</td>\n",
       "      <td>0.00</td>\n",
       "      <td>2.6</td>\n",
       "      <td>0.098</td>\n",
       "      <td>25.0</td>\n",
       "      <td>67.0</td>\n",
       "      <td>0.9968</td>\n",
       "      <td>3.20</td>\n",
       "      <td>0.68</td>\n",
       "      <td>9.8</td>\n",
       "      <td>5</td>\n",
       "      <td>1</td>\n",
       "    </tr>\n",
       "    <tr>\n",
       "      <th>2</th>\n",
       "      <td>7.8</td>\n",
       "      <td>0.76</td>\n",
       "      <td>0.04</td>\n",
       "      <td>2.3</td>\n",
       "      <td>0.092</td>\n",
       "      <td>15.0</td>\n",
       "      <td>54.0</td>\n",
       "      <td>0.9970</td>\n",
       "      <td>3.26</td>\n",
       "      <td>0.65</td>\n",
       "      <td>9.8</td>\n",
       "      <td>5</td>\n",
       "      <td>2</td>\n",
       "    </tr>\n",
       "    <tr>\n",
       "      <th>3</th>\n",
       "      <td>11.2</td>\n",
       "      <td>0.28</td>\n",
       "      <td>0.56</td>\n",
       "      <td>1.9</td>\n",
       "      <td>0.075</td>\n",
       "      <td>17.0</td>\n",
       "      <td>60.0</td>\n",
       "      <td>0.9980</td>\n",
       "      <td>3.16</td>\n",
       "      <td>0.58</td>\n",
       "      <td>9.8</td>\n",
       "      <td>6</td>\n",
       "      <td>3</td>\n",
       "    </tr>\n",
       "    <tr>\n",
       "      <th>4</th>\n",
       "      <td>7.4</td>\n",
       "      <td>0.70</td>\n",
       "      <td>0.00</td>\n",
       "      <td>1.9</td>\n",
       "      <td>0.076</td>\n",
       "      <td>11.0</td>\n",
       "      <td>34.0</td>\n",
       "      <td>0.9978</td>\n",
       "      <td>3.51</td>\n",
       "      <td>0.56</td>\n",
       "      <td>9.4</td>\n",
       "      <td>5</td>\n",
       "      <td>4</td>\n",
       "    </tr>\n",
       "  </tbody>\n",
       "</table>\n",
       "</div>\n",
       "      <button class=\"colab-df-convert\" onclick=\"convertToInteractive('df-beb1a971-ee3e-4f58-a9cb-35cb2f4d87ea')\"\n",
       "              title=\"Convert this dataframe to an interactive table.\"\n",
       "              style=\"display:none;\">\n",
       "        \n",
       "  <svg xmlns=\"http://www.w3.org/2000/svg\" height=\"24px\"viewBox=\"0 0 24 24\"\n",
       "       width=\"24px\">\n",
       "    <path d=\"M0 0h24v24H0V0z\" fill=\"none\"/>\n",
       "    <path d=\"M18.56 5.44l.94 2.06.94-2.06 2.06-.94-2.06-.94-.94-2.06-.94 2.06-2.06.94zm-11 1L8.5 8.5l.94-2.06 2.06-.94-2.06-.94L8.5 2.5l-.94 2.06-2.06.94zm10 10l.94 2.06.94-2.06 2.06-.94-2.06-.94-.94-2.06-.94 2.06-2.06.94z\"/><path d=\"M17.41 7.96l-1.37-1.37c-.4-.4-.92-.59-1.43-.59-.52 0-1.04.2-1.43.59L10.3 9.45l-7.72 7.72c-.78.78-.78 2.05 0 2.83L4 21.41c.39.39.9.59 1.41.59.51 0 1.02-.2 1.41-.59l7.78-7.78 2.81-2.81c.8-.78.8-2.07 0-2.86zM5.41 20L4 18.59l7.72-7.72 1.47 1.35L5.41 20z\"/>\n",
       "  </svg>\n",
       "      </button>\n",
       "      \n",
       "  <style>\n",
       "    .colab-df-container {\n",
       "      display:flex;\n",
       "      flex-wrap:wrap;\n",
       "      gap: 12px;\n",
       "    }\n",
       "\n",
       "    .colab-df-convert {\n",
       "      background-color: #E8F0FE;\n",
       "      border: none;\n",
       "      border-radius: 50%;\n",
       "      cursor: pointer;\n",
       "      display: none;\n",
       "      fill: #1967D2;\n",
       "      height: 32px;\n",
       "      padding: 0 0 0 0;\n",
       "      width: 32px;\n",
       "    }\n",
       "\n",
       "    .colab-df-convert:hover {\n",
       "      background-color: #E2EBFA;\n",
       "      box-shadow: 0px 1px 2px rgba(60, 64, 67, 0.3), 0px 1px 3px 1px rgba(60, 64, 67, 0.15);\n",
       "      fill: #174EA6;\n",
       "    }\n",
       "\n",
       "    [theme=dark] .colab-df-convert {\n",
       "      background-color: #3B4455;\n",
       "      fill: #D2E3FC;\n",
       "    }\n",
       "\n",
       "    [theme=dark] .colab-df-convert:hover {\n",
       "      background-color: #434B5C;\n",
       "      box-shadow: 0px 1px 3px 1px rgba(0, 0, 0, 0.15);\n",
       "      filter: drop-shadow(0px 1px 2px rgba(0, 0, 0, 0.3));\n",
       "      fill: #FFFFFF;\n",
       "    }\n",
       "  </style>\n",
       "\n",
       "      <script>\n",
       "        const buttonEl =\n",
       "          document.querySelector('#df-beb1a971-ee3e-4f58-a9cb-35cb2f4d87ea button.colab-df-convert');\n",
       "        buttonEl.style.display =\n",
       "          google.colab.kernel.accessAllowed ? 'block' : 'none';\n",
       "\n",
       "        async function convertToInteractive(key) {\n",
       "          const element = document.querySelector('#df-beb1a971-ee3e-4f58-a9cb-35cb2f4d87ea');\n",
       "          const dataTable =\n",
       "            await google.colab.kernel.invokeFunction('convertToInteractive',\n",
       "                                                     [key], {});\n",
       "          if (!dataTable) return;\n",
       "\n",
       "          const docLinkHtml = 'Like what you see? Visit the ' +\n",
       "            '<a target=\"_blank\" href=https://colab.research.google.com/notebooks/data_table.ipynb>data table notebook</a>'\n",
       "            + ' to learn more about interactive tables.';\n",
       "          element.innerHTML = '';\n",
       "          dataTable['output_type'] = 'display_data';\n",
       "          await google.colab.output.renderOutput(dataTable, element);\n",
       "          const docLink = document.createElement('div');\n",
       "          docLink.innerHTML = docLinkHtml;\n",
       "          element.appendChild(docLink);\n",
       "        }\n",
       "      </script>\n",
       "    </div>\n",
       "  </div>\n",
       "  "
      ],
      "text/plain": [
       "   fixed acidity  volatile acidity  citric acid  residual sugar  chlorides  \\\n",
       "0            7.4              0.70         0.00             1.9      0.076   \n",
       "1            7.8              0.88         0.00             2.6      0.098   \n",
       "2            7.8              0.76         0.04             2.3      0.092   \n",
       "3           11.2              0.28         0.56             1.9      0.075   \n",
       "4            7.4              0.70         0.00             1.9      0.076   \n",
       "\n",
       "   free sulfur dioxide  total sulfur dioxide  density    pH  sulphates  \\\n",
       "0                 11.0                  34.0   0.9978  3.51       0.56   \n",
       "1                 25.0                  67.0   0.9968  3.20       0.68   \n",
       "2                 15.0                  54.0   0.9970  3.26       0.65   \n",
       "3                 17.0                  60.0   0.9980  3.16       0.58   \n",
       "4                 11.0                  34.0   0.9978  3.51       0.56   \n",
       "\n",
       "   alcohol  quality  Id  \n",
       "0      9.4        5   0  \n",
       "1      9.8        5   1  \n",
       "2      9.8        5   2  \n",
       "3      9.8        6   3  \n",
       "4      9.4        5   4  "
      ]
     },
     "execution_count": 4,
     "metadata": {},
     "output_type": "execute_result"
    }
   ],
   "source": [
    "df.head()"
   ]
  },
  {
   "cell_type": "code",
   "execution_count": null,
   "metadata": {
    "id": "Bwb7BNvmB7nq"
   },
   "outputs": [],
   "source": [
    "df.drop('Id', axis= 1, inplace= True)"
   ]
  },
  {
   "cell_type": "markdown",
   "metadata": {
    "id": "axL_5pB0CaNM"
   },
   "source": [
    "**Train Test Split**"
   ]
  },
  {
   "cell_type": "code",
   "execution_count": null,
   "metadata": {
    "id": "WbCKG_chB5fV"
   },
   "outputs": [],
   "source": [
    "from sklearn.model_selection import train_test_split\n",
    "X = df.drop('quality', axis= 1)\n",
    "y = df['quality']"
   ]
  },
  {
   "cell_type": "code",
   "execution_count": null,
   "metadata": {
    "id": "WghFigfvFpHi"
   },
   "outputs": [],
   "source": [
    "X_train, X_test, y_train, y_test = train_test_split(X,y,test_size= 0.2, random_state= 0)"
   ]
  },
  {
   "cell_type": "code",
   "execution_count": null,
   "metadata": {
    "colab": {
     "base_uri": "https://localhost:8080/"
    },
    "id": "deagPfUnFLec",
    "outputId": "7bf94f12-743f-4d3c-e701-6c2e499a0014"
   },
   "outputs": [
    {
     "data": {
      "text/plain": [
       "1"
      ]
     },
     "execution_count": 8,
     "metadata": {},
     "output_type": "execute_result"
    }
   ],
   "source": [
    "(y_test == 3).sum()"
   ]
  },
  {
   "cell_type": "markdown",
   "metadata": {
    "id": "-bD62qbTCffN"
   },
   "source": [
    "**Oversampling by SMOTE**"
   ]
  },
  {
   "cell_type": "code",
   "execution_count": null,
   "metadata": {
    "id": "TKb8v03deCfI"
   },
   "outputs": [],
   "source": [
    "from imblearn.over_sampling import SMOTE "
   ]
  },
  {
   "cell_type": "code",
   "execution_count": null,
   "metadata": {
    "colab": {
     "base_uri": "https://localhost:8080/"
    },
    "id": "K8c04Cq1zxEO",
    "outputId": "49923330-e401-4329-b7fb-0b86851cb131"
   },
   "outputs": [
    {
     "data": {
      "text/plain": [
       "{3: 5, 4: 26, 5: 383, 6: 370, 7: 116, 8: 14}"
      ]
     },
     "execution_count": 10,
     "metadata": {},
     "output_type": "execute_result"
    }
   ],
   "source": [
    "unique, count = np.unique(y_train, return_counts= True)\n",
    "y_train_dict_value_count = {k:v for (k,v) in zip(unique, count)}\n",
    "y_train_dict_value_count"
   ]
  },
  {
   "cell_type": "code",
   "execution_count": null,
   "metadata": {
    "colab": {
     "base_uri": "https://localhost:8080/"
    },
    "id": "f4RLr5pf4Sgr",
    "outputId": "07d34b47-4d1d-4008-c8ed-59980f40264a"
   },
   "outputs": [
    {
     "name": "stderr",
     "output_type": "stream",
     "text": [
      "/usr/local/lib/python3.7/dist-packages/imblearn/utils/_validation.py:591: FutureWarning: Pass sampling_strategy=minority as keyword args. From version 0.9 passing these as positional arguments will result in an error\n",
      "  FutureWarning,\n"
     ]
    }
   ],
   "source": [
    "sm = SMOTE(\"minority\", k_neighbors = 4)"
   ]
  },
  {
   "cell_type": "code",
   "execution_count": null,
   "metadata": {
    "id": "L7aM8bKd0qul"
   },
   "outputs": [],
   "source": [
    "X_train_res1, y_train_res1 = sm.fit_resample(X_train, y_train)\n",
    "X_train_res2, y_train_res2 = sm.fit_resample(X_train_res1,y_train_res1)\n",
    "X_train_res3, y_train_res3 = sm.fit_resample(X_train_res2,y_train_res2)\n",
    "X_train_res4, y_train_res4 = sm.fit_resample(X_train_res3,y_train_res3)"
   ]
  },
  {
   "cell_type": "code",
   "execution_count": null,
   "metadata": {
    "colab": {
     "base_uri": "https://localhost:8080/"
    },
    "id": "j9FvnkJm5fPf",
    "outputId": "9f9b7762-e245-4eb8-e0fd-e3d7f683e784"
   },
   "outputs": [
    {
     "data": {
      "text/plain": [
       "{3: 383, 4: 383, 5: 383, 6: 370, 7: 383, 8: 383}"
      ]
     },
     "execution_count": 25,
     "metadata": {},
     "output_type": "execute_result"
    }
   ],
   "source": [
    "unique, count = np.unique(y_train_res4, return_counts= True)\n",
    "y_train_smote_value_count = {k:v for (k,v) in zip(unique, count)}\n",
    "y_train_smote_value_count"
   ]
  },
  {
   "cell_type": "markdown",
   "metadata": {
    "id": "hJDX2AMpCl_1"
   },
   "source": [
    "**Decision Tree**"
   ]
  },
  {
   "cell_type": "code",
   "execution_count": null,
   "metadata": {
    "colab": {
     "base_uri": "https://localhost:8080/"
    },
    "id": "q9aiD-NK9RYJ",
    "outputId": "34b5d0b0-b7d2-48a1-a7eb-c8af5701b172"
   },
   "outputs": [
    {
     "data": {
      "text/plain": [
       "DecisionTreeClassifier()"
      ]
     },
     "execution_count": 26,
     "metadata": {},
     "output_type": "execute_result"
    }
   ],
   "source": [
    "from sklearn.metrics import classification_report, confusion_matrix\n",
    "from sklearn.tree import DecisionTreeClassifier\n",
    "dt = DecisionTreeClassifier()\n",
    "dt.fit(X_train_res4, y_train_res4)"
   ]
  },
  {
   "cell_type": "code",
   "execution_count": null,
   "metadata": {
    "colab": {
     "base_uri": "https://localhost:8080/"
    },
    "id": "n93ZKVOZ9Thn",
    "outputId": "72cd75ae-8077-425c-b4bb-66438b0a2bcd"
   },
   "outputs": [
    {
     "name": "stdout",
     "output_type": "stream",
     "text": [
      "Confusion Matrix: \n",
      " [[383   0   0   0   0   0]\n",
      " [  0 383   0   0   0   0]\n",
      " [  0   0 383   0   0   0]\n",
      " [  0   0   0 370   0   0]\n",
      " [  0   0   0   0 383   0]\n",
      " [  0   0   0   0   0 383]]\n",
      "Accuracy Score:  1.0\n"
     ]
    }
   ],
   "source": [
    "y_train_pred = dt.predict(X_train_res4)\n",
    "print('Confusion Matrix: \\n',confusion_matrix(y_train_res4, y_train_pred))\n",
    "print('Accuracy Score: ', dt.score(X_train_res4, y_train_res4))"
   ]
  },
  {
   "cell_type": "code",
   "execution_count": null,
   "metadata": {
    "colab": {
     "base_uri": "https://localhost:8080/"
    },
    "id": "Pjt0-eWK9fZ3",
    "outputId": "8b69c815-fe7d-42d5-d16a-36383f24525e"
   },
   "outputs": [
    {
     "name": "stdout",
     "output_type": "stream",
     "text": [
      "Confusion Matrix: \n",
      " [[ 0  0  1  0  0  0]\n",
      " [ 1  0  3  3  0  0]\n",
      " [ 1 10 59 30  0  0]\n",
      " [ 2  6 17 48 18  1]\n",
      " [ 0  1  2  7 16  1]\n",
      " [ 0  0  1  0  0  1]]\n",
      "Accuracy Score:  0.5414847161572053\n"
     ]
    }
   ],
   "source": [
    "y_test_pred = dt.predict(X_test)\n",
    "print('Confusion Matrix: \\n',confusion_matrix(y_test, y_test_pred))\n",
    "print('Accuracy Score: ', dt.score(X_test, y_test))"
   ]
  },
  {
   "cell_type": "code",
   "execution_count": null,
   "metadata": {
    "colab": {
     "base_uri": "https://localhost:8080/"
    },
    "id": "LBi-KX4SGxx6",
    "outputId": "89703b28-9d17-4d75-8810-9c2a4531fd57"
   },
   "outputs": [
    {
     "name": "stdout",
     "output_type": "stream",
     "text": [
      "for max_depth:  1\n",
      "Accuracy Score train:  0.33522975929978116\n",
      "Accuracy Score test:  0.008733624454148471\n",
      "\n",
      "for max_depth:  2\n",
      "Accuracy Score train:  0.4188183807439825\n",
      "Accuracy Score test:  0.15283842794759825\n",
      "\n",
      "for max_depth:  3\n",
      "Accuracy Score train:  0.5483588621444201\n",
      "Accuracy Score test:  0.2663755458515284\n",
      "\n",
      "for max_depth:  4\n",
      "Accuracy Score train:  0.612691466083151\n",
      "Accuracy Score test:  0.36681222707423583\n",
      "\n",
      "for max_depth:  5\n",
      "Accuracy Score train:  0.6822757111597374\n",
      "Accuracy Score test:  0.3930131004366812\n",
      "\n",
      "for max_depth:  6\n",
      "Accuracy Score train:  0.7553610503282275\n",
      "Accuracy Score test:  0.4017467248908297\n",
      "\n",
      "for max_depth:  7\n",
      "Accuracy Score train:  0.8135667396061269\n",
      "Accuracy Score test:  0.4366812227074236\n",
      "\n",
      "for max_depth:  8\n",
      "Accuracy Score train:  0.8722100656455142\n",
      "Accuracy Score test:  0.5021834061135371\n",
      "\n",
      "for max_depth:  9\n",
      "Accuracy Score train:  0.912035010940919\n",
      "Accuracy Score test:  0.5152838427947598\n",
      "\n",
      "for max_depth:  10\n",
      "Accuracy Score train:  0.9466083150984683\n",
      "Accuracy Score test:  0.5109170305676856\n",
      "\n",
      "for max_depth:  11\n",
      "Accuracy Score train:  0.9706783369803064\n",
      "Accuracy Score test:  0.5502183406113537\n",
      "\n",
      "for max_depth:  12\n",
      "Accuracy Score train:  0.9842450765864332\n",
      "Accuracy Score test:  0.5807860262008734\n",
      "\n",
      "for max_depth:  13\n",
      "Accuracy Score train:  0.9925601750547046\n",
      "Accuracy Score test:  0.5589519650655022\n",
      "\n",
      "for max_depth:  14\n",
      "Accuracy Score train:  0.9938730853391685\n",
      "Accuracy Score test:  0.5764192139737991\n",
      "\n",
      "for max_depth:  15\n",
      "Accuracy Score train:  0.9969365426695842\n",
      "Accuracy Score test:  0.5720524017467249\n",
      "\n",
      "for max_depth:  16\n",
      "Accuracy Score train:  0.999562363238512\n",
      "Accuracy Score test:  0.5633187772925764\n",
      "\n",
      "for max_depth:  17\n",
      "Accuracy Score train:  1.0\n",
      "Accuracy Score test:  0.5633187772925764\n",
      "\n",
      "for max_depth:  18\n",
      "Accuracy Score train:  1.0\n",
      "Accuracy Score test:  0.5851528384279476\n",
      "\n",
      "for max_depth:  19\n",
      "Accuracy Score train:  1.0\n",
      "Accuracy Score test:  0.5545851528384279\n",
      "\n"
     ]
    }
   ],
   "source": [
    "max_depth_range = np.arange(1,20,1)\n",
    "for x in max_depth_range:\n",
    "  dt = DecisionTreeClassifier(max_depth= x)\n",
    "  dt.fit(X_train_res4, y_train_res4)\n",
    "  print('for max_depth: ', x)\n",
    "  print('Accuracy Score train: ', dt.score(X_train_res4, y_train_res4))\n",
    "  print('Accuracy Score test: ', dt.score(X_test, y_test))\n",
    "  print()"
   ]
  },
  {
   "cell_type": "markdown",
   "metadata": {
    "id": "kcyVFgPP-X-r"
   },
   "source": [
    "Again the decision Tree model is not good"
   ]
  },
  {
   "cell_type": "code",
   "execution_count": null,
   "metadata": {
    "colab": {
     "base_uri": "https://localhost:8080/"
    },
    "id": "Wg8dTyHVEOvX",
    "outputId": "62762f63-b869-4687-f5c9-b53a85954f0c"
   },
   "outputs": [
    {
     "data": {
      "text/plain": [
       "7"
      ]
     },
     "execution_count": 30,
     "metadata": {},
     "output_type": "execute_result"
    }
   ],
   "source": [
    "(y_test == 4).sum()"
   ]
  },
  {
   "cell_type": "code",
   "execution_count": null,
   "metadata": {
    "colab": {
     "base_uri": "https://localhost:8080/"
    },
    "id": "3IOgcicsDobC",
    "outputId": "3475b3c9-a9ce-462f-81bf-15b5d4045048"
   },
   "outputs": [
    {
     "name": "stdout",
     "output_type": "stream",
     "text": [
      "              precision    recall  f1-score   support\n",
      "\n",
      "           3       0.00      0.00      0.00         1\n",
      "           4       0.00      0.00      0.00         7\n",
      "           5       0.68      0.60      0.64       100\n",
      "           6       0.56      0.53      0.55        92\n",
      "           7       0.55      0.63      0.59        27\n",
      "           8       0.25      0.50      0.33         2\n",
      "\n",
      "    accuracy                           0.55       229\n",
      "   macro avg       0.34      0.38      0.35       229\n",
      "weighted avg       0.59      0.55      0.57       229\n",
      "\n",
      "Confusion Matrix: \n",
      " [[ 0  0  1  0  0  0]\n",
      " [ 1  0  3  3  0  0]\n",
      " [ 0  9 60 31  0  0]\n",
      " [ 2  5 20 49 14  2]\n",
      " [ 0  2  3  4 17  1]\n",
      " [ 0  0  1  0  0  1]]\n",
      "Accuracy Score:  0.5545851528384279\n"
     ]
    }
   ],
   "source": [
    "y_test_pred = dt.predict(X_test)\n",
    "print(classification_report(y_test, y_test_pred))\n",
    "print('Confusion Matrix: \\n',confusion_matrix(y_test, y_test_pred))\n",
    "print('Accuracy Score: ', dt.score(X_test, y_test))"
   ]
  },
  {
   "cell_type": "markdown",
   "metadata": {
    "id": "QAvEjP1u-iVH"
   },
   "source": [
    "**Random Forest Classifier**"
   ]
  },
  {
   "cell_type": "code",
   "execution_count": null,
   "metadata": {
    "colab": {
     "base_uri": "https://localhost:8080/"
    },
    "id": "hrD8Zl_eM_S0",
    "outputId": "54b3b764-d92c-4d08-ea6c-95055c924b47"
   },
   "outputs": [
    {
     "data": {
      "text/plain": [
       "RandomForestClassifier()"
      ]
     },
     "execution_count": 32,
     "metadata": {},
     "output_type": "execute_result"
    }
   ],
   "source": [
    "from sklearn.ensemble import RandomForestClassifier\n",
    "rf = RandomForestClassifier()\n",
    "rf.fit(X_train_res4, y_train_res4)"
   ]
  },
  {
   "cell_type": "code",
   "execution_count": null,
   "metadata": {
    "colab": {
     "base_uri": "https://localhost:8080/"
    },
    "id": "ZI7v0Na_N2_1",
    "outputId": "b55ae791-edd9-41c4-d9ab-1f6040bbc3e8"
   },
   "outputs": [
    {
     "name": "stdout",
     "output_type": "stream",
     "text": [
      "Confusion Matrix: \n",
      " [[383   0   0   0   0   0]\n",
      " [  0 383   0   0   0   0]\n",
      " [  0   0 383   0   0   0]\n",
      " [  0   0   0 370   0   0]\n",
      " [  0   0   0   0 383   0]\n",
      " [  0   0   0   0   0 383]]\n",
      "Accuracy Score:  1.0\n"
     ]
    }
   ],
   "source": [
    "y_train_pred = rf.predict(X_train_res4)\n",
    "print('Confusion Matrix: \\n',confusion_matrix(y_train_res4, y_train_pred))\n",
    "print('Accuracy Score: ', rf.score(X_train_res4, y_train_res4))"
   ]
  },
  {
   "cell_type": "code",
   "execution_count": null,
   "metadata": {
    "colab": {
     "base_uri": "https://localhost:8080/"
    },
    "id": "CUaCLIv2N_8c",
    "outputId": "d70381d3-558f-4c6d-f1b4-c036e1c98b72"
   },
   "outputs": [
    {
     "name": "stdout",
     "output_type": "stream",
     "text": [
      "Confusion Matrix: \n",
      " [[ 0  0  1  0  0  0]\n",
      " [ 1  0  3  3  0  0]\n",
      " [ 1  8 70 21  0  0]\n",
      " [ 2  5 16 49 19  1]\n",
      " [ 0  0  2  6 19  0]\n",
      " [ 0  0  0  1  0  1]]\n",
      "Accuracy Score:  0.6069868995633187\n"
     ]
    }
   ],
   "source": [
    "y_test_pred = rf.predict(X_test)\n",
    "print('Confusion Matrix: \\n',confusion_matrix(y_test, y_test_pred))\n",
    "print('Accuracy Score: ', rf.score(X_test, y_test))"
   ]
  },
  {
   "cell_type": "code",
   "execution_count": null,
   "metadata": {
    "colab": {
     "base_uri": "https://localhost:8080/"
    },
    "id": "1d8ZYad7O9WC",
    "outputId": "c299dfba-1e23-4ddc-8de8-0d4c4dd8fd7b"
   },
   "outputs": [
    {
     "name": "stdout",
     "output_type": "stream",
     "text": [
      "for max_depth:  1\n",
      "Accuracy Score train:  0.4350109409190372\n",
      "Accuracy Score test:  0.14410480349344978\n",
      "\n",
      "for max_depth:  2\n",
      "Accuracy Score train:  0.5610503282275712\n",
      "Accuracy Score test:  0.2314410480349345\n",
      "\n",
      "for max_depth:  3\n",
      "Accuracy Score train:  0.6437636761487965\n",
      "Accuracy Score test:  0.37554585152838427\n",
      "\n",
      "for max_depth:  4\n",
      "Accuracy Score train:  0.7168490153172866\n",
      "Accuracy Score test:  0.4192139737991266\n",
      "\n",
      "for max_depth:  5\n",
      "Accuracy Score train:  0.7929978118161926\n",
      "Accuracy Score test:  0.44541484716157204\n",
      "\n",
      "for max_depth:  6\n",
      "Accuracy Score train:  0.8516411378555798\n",
      "Accuracy Score test:  0.48034934497816595\n",
      "\n",
      "for max_depth:  7\n",
      "Accuracy Score train:  0.9072210065645514\n",
      "Accuracy Score test:  0.5283842794759825\n",
      "\n",
      "for max_depth:  8\n",
      "Accuracy Score train:  0.9409190371991247\n",
      "Accuracy Score test:  0.5545851528384279\n",
      "\n",
      "for max_depth:  9\n",
      "Accuracy Score train:  0.973741794310722\n",
      "Accuracy Score test:  0.5676855895196506\n",
      "\n",
      "for max_depth:  10\n",
      "Accuracy Score train:  0.9864332603938731\n",
      "Accuracy Score test:  0.5458515283842795\n",
      "\n",
      "for max_depth:  11\n",
      "Accuracy Score train:  0.9929978118161925\n",
      "Accuracy Score test:  0.5502183406113537\n",
      "\n",
      "for max_depth:  12\n",
      "Accuracy Score train:  0.9960612691466083\n",
      "Accuracy Score test:  0.6026200873362445\n",
      "\n",
      "for max_depth:  13\n",
      "Accuracy Score train:  1.0\n",
      "Accuracy Score test:  0.5938864628820961\n",
      "\n",
      "for max_depth:  14\n",
      "Accuracy Score train:  1.0\n",
      "Accuracy Score test:  0.5895196506550219\n",
      "\n"
     ]
    }
   ],
   "source": [
    "max_depth_range = np.arange(1,15,1)\n",
    "for x in max_depth_range:\n",
    "  dt = RandomForestClassifier(max_depth= x)\n",
    "  dt.fit(X_train_res4, y_train_res4)\n",
    "  print('for max_depth: ', x)\n",
    "  print('Accuracy Score train: ', dt.score(X_train_res4, y_train_res4))\n",
    "  print('Accuracy Score test: ', dt.score(X_test, y_test))\n",
    "  print()"
   ]
  },
  {
   "cell_type": "markdown",
   "metadata": {
    "id": "A4x2gZ3u_Mfq"
   },
   "source": [
    "In this case max_depth = 9 is best."
   ]
  },
  {
   "cell_type": "code",
   "execution_count": null,
   "metadata": {
    "colab": {
     "base_uri": "https://localhost:8080/"
    },
    "id": "SgGGNNPS-8EX",
    "outputId": "0793c423-db64-455a-f523-4ed71e894034"
   },
   "outputs": [
    {
     "name": "stdout",
     "output_type": "stream",
     "text": [
      "Confusion Matrix: \n",
      " [[383   0   0   0   0   0]\n",
      " [  2 380   1   0   0   0]\n",
      " [  8   3 359   9   4   0]\n",
      " [  3   0   4 351   7   5]\n",
      " [  0   0   0   2 370  11]\n",
      " [  0   0   0   0   1 382]]\n",
      "Accuracy Score train:  0.973741794310722\n"
     ]
    }
   ],
   "source": [
    "rf = RandomForestClassifier(max_depth= 9)\n",
    "rf.fit(X_train_res4, y_train_res4)\n",
    "y_train_pred = rf.predict(X_train_res4)\n",
    "print('Confusion Matrix: \\n',confusion_matrix(y_train_res4, y_train_pred))\n",
    "print('Accuracy Score train: ', rf.score(X_train_res4, y_train_res4))\n"
   ]
  },
  {
   "cell_type": "code",
   "execution_count": null,
   "metadata": {
    "colab": {
     "base_uri": "https://localhost:8080/"
    },
    "id": "KOKC6WGxF7WI",
    "outputId": "89f5472a-7cb7-4371-9d0f-2c4d8bf37a61"
   },
   "outputs": [
    {
     "name": "stdout",
     "output_type": "stream",
     "text": [
      "              precision    recall  f1-score   support\n",
      "\n",
      "           3       0.00      0.00      0.00         1\n",
      "           4       0.06      0.14      0.09         7\n",
      "           5       0.76      0.66      0.71       100\n",
      "           6       0.61      0.55      0.58        92\n",
      "           7       0.50      0.63      0.56        27\n",
      "           8       0.33      0.50      0.40         2\n",
      "\n",
      "    accuracy                           0.59       229\n",
      "   macro avg       0.38      0.41      0.39       229\n",
      "weighted avg       0.64      0.59      0.61       229\n",
      "\n",
      "Confusion Matrix: \n",
      " [[ 0  0  1  0  0  0]\n",
      " [ 1  1  3  2  0  0]\n",
      " [ 1  9 66 23  1  0]\n",
      " [ 3  6 14 51 16  2]\n",
      " [ 0  0  3  7 17  0]\n",
      " [ 0  0  0  1  0  1]]\n",
      "Accuracy Score test:  0.5938864628820961\n"
     ]
    }
   ],
   "source": [
    "y_test_pred = rf.predict(X_test)\n",
    "print(classification_report(y_test, y_test_pred))\n",
    "print('Confusion Matrix: \\n',confusion_matrix(y_test, y_test_pred))\n",
    "print('Accuracy Score test: ', rf.score(X_test, y_test))"
   ]
  },
  {
   "cell_type": "markdown",
   "metadata": {
    "id": "PM2MYQzCAQew"
   },
   "source": [
    "**Gradient Boosting**"
   ]
  },
  {
   "cell_type": "code",
   "execution_count": null,
   "metadata": {
    "colab": {
     "base_uri": "https://localhost:8080/"
    },
    "id": "VFD9VKNDTebC",
    "outputId": "258e565a-da3d-43e0-9027-9847333786ca"
   },
   "outputs": [
    {
     "data": {
      "text/plain": [
       "GradientBoostingClassifier()"
      ]
     },
     "execution_count": 38,
     "metadata": {},
     "output_type": "execute_result"
    }
   ],
   "source": [
    "from sklearn.ensemble import GradientBoostingClassifier\n",
    "gb = GradientBoostingClassifier()\n",
    "gb.fit(X_train_res4, y_train_res4)"
   ]
  },
  {
   "cell_type": "code",
   "execution_count": null,
   "metadata": {
    "colab": {
     "base_uri": "https://localhost:8080/"
    },
    "id": "PbHBov01WQiR",
    "outputId": "30f25772-dcd7-4e40-c0cd-39fefe56c557"
   },
   "outputs": [
    {
     "name": "stdout",
     "output_type": "stream",
     "text": [
      "Confusion Matrix: \n",
      " [[383   0   0   0   0   0]\n",
      " [  0 382   0   1   0   0]\n",
      " [  0   8 334  35   6   0]\n",
      " [  0   2  37 308  21   2]\n",
      " [  0   0   1   7 372   3]\n",
      " [  0   0   0   0   0 383]]\n",
      "Accuracy Score:  0.9461706783369803\n"
     ]
    }
   ],
   "source": [
    "y_train_pred = gb.predict(X_train_res4)\n",
    "print('Confusion Matrix: \\n',confusion_matrix(y_train_res4, y_train_pred))\n",
    "print('Accuracy Score: ', gb.score(X_train_res4, y_train_res4))"
   ]
  },
  {
   "cell_type": "code",
   "execution_count": null,
   "metadata": {
    "colab": {
     "base_uri": "https://localhost:8080/"
    },
    "id": "0-xexU7MWXEh",
    "outputId": "7f65a7ea-dfc8-423f-b78a-a7a12621976c"
   },
   "outputs": [
    {
     "name": "stdout",
     "output_type": "stream",
     "text": [
      "Confusion Matrix: \n",
      " [[ 0  0  1  0  0  0]\n",
      " [ 1  0  3  3  0  0]\n",
      " [ 1  8 67 22  0  2]\n",
      " [ 1  5 15 48 21  2]\n",
      " [ 0  0  1  9 16  1]\n",
      " [ 0  0  0  1  0  1]]\n",
      "Accuracy Score:  0.5764192139737991\n"
     ]
    }
   ],
   "source": [
    "y_test_pred = gb.predict(X_test)\n",
    "print('Confusion Matrix: \\n',confusion_matrix(y_test, y_test_pred))\n",
    "print('Accuracy Score: ', gb.score(X_test, y_test))"
   ]
  },
  {
   "cell_type": "code",
   "execution_count": null,
   "metadata": {
    "colab": {
     "base_uri": "https://localhost:8080/"
    },
    "id": "SsoYGmQWWweF",
    "outputId": "f8a0ecec-23bc-4262-da2e-5066d4a4f863"
   },
   "outputs": [
    {
     "name": "stdout",
     "output_type": "stream",
     "text": [
      "for max_depth:  1\n",
      "Accuracy Score train:  0.7422319474835887\n",
      "Accuracy Score test:  0.4847161572052402\n",
      "\n",
      "for max_depth:  2\n",
      "Accuracy Score train:  0.8669584245076587\n",
      "Accuracy Score test:  0.5283842794759825\n",
      "\n",
      "for max_depth:  3\n",
      "Accuracy Score train:  0.9461706783369803\n",
      "Accuracy Score test:  0.5764192139737991\n",
      "\n",
      "for max_depth:  4\n",
      "Accuracy Score train:  0.9859956236323851\n",
      "Accuracy Score test:  0.6069868995633187\n",
      "\n",
      "for max_depth:  5\n",
      "Accuracy Score train:  1.0\n",
      "Accuracy Score test:  0.6375545851528385\n",
      "\n",
      "for max_depth:  6\n",
      "Accuracy Score train:  1.0\n",
      "Accuracy Score test:  0.6244541484716157\n",
      "\n",
      "for max_depth:  7\n",
      "Accuracy Score train:  1.0\n",
      "Accuracy Score test:  0.6069868995633187\n",
      "\n",
      "for max_depth:  8\n",
      "Accuracy Score train:  1.0\n",
      "Accuracy Score test:  0.6200873362445415\n",
      "\n",
      "for max_depth:  9\n",
      "Accuracy Score train:  1.0\n",
      "Accuracy Score test:  0.5851528384279476\n",
      "\n",
      "for max_depth:  10\n",
      "Accuracy Score train:  1.0\n",
      "Accuracy Score test:  0.5851528384279476\n",
      "\n",
      "for max_depth:  11\n",
      "Accuracy Score train:  1.0\n",
      "Accuracy Score test:  0.5807860262008734\n",
      "\n",
      "for max_depth:  12\n",
      "Accuracy Score train:  1.0\n",
      "Accuracy Score test:  0.5283842794759825\n",
      "\n",
      "for max_depth:  13\n",
      "Accuracy Score train:  1.0\n",
      "Accuracy Score test:  0.5283842794759825\n",
      "\n",
      "for max_depth:  14\n",
      "Accuracy Score train:  1.0\n",
      "Accuracy Score test:  0.5021834061135371\n",
      "\n",
      "CPU times: user 3min 1s, sys: 417 ms, total: 3min 1s\n",
      "Wall time: 3min 1s\n"
     ]
    }
   ],
   "source": [
    "%%time\n",
    "max_depth_range = np.arange(1,15,1)\n",
    "for x in max_depth_range:\n",
    "  dt = GradientBoostingClassifier(max_depth= x)\n",
    "  dt.fit(X_train_res4, y_train_res4)\n",
    "  print('for max_depth: ', x)\n",
    "  print('Accuracy Score train: ', dt.score(X_train_res4, y_train_res4))\n",
    "  print('Accuracy Score test: ', dt.score(X_test, y_test))\n",
    "  print()"
   ]
  },
  {
   "cell_type": "markdown",
   "metadata": {
    "id": "M4F_hftOA3QG"
   },
   "source": [
    "Max Depth 3 is best according to the accuracy\n"
   ]
  },
  {
   "cell_type": "code",
   "execution_count": null,
   "metadata": {
    "colab": {
     "base_uri": "https://localhost:8080/"
    },
    "id": "I45Bc_HrHdfX",
    "outputId": "3d1b50d1-d186-44be-d5e5-fd62d55e05f4"
   },
   "outputs": [
    {
     "data": {
      "text/plain": [
       "GradientBoostingClassifier()"
      ]
     },
     "execution_count": 42,
     "metadata": {},
     "output_type": "execute_result"
    }
   ],
   "source": [
    "gb = GradientBoostingClassifier(max_depth= 3)\n",
    "gb.fit(X_train_res4, y_train_res4)"
   ]
  },
  {
   "cell_type": "code",
   "execution_count": null,
   "metadata": {
    "colab": {
     "base_uri": "https://localhost:8080/"
    },
    "id": "iClIhW-QHORy",
    "outputId": "56f73b1f-3a52-468a-b314-78b6b09ce32c"
   },
   "outputs": [
    {
     "name": "stdout",
     "output_type": "stream",
     "text": [
      "Confusion Matrix: \n",
      " [[383   0   0   0   0   0]\n",
      " [  0 382   0   1   0   0]\n",
      " [  0   8 334  35   6   0]\n",
      " [  0   2  37 308  21   2]\n",
      " [  0   0   1   7 372   3]\n",
      " [  0   0   0   0   0 383]]\n",
      "Accuracy Score:  0.9461706783369803\n"
     ]
    }
   ],
   "source": [
    "y_train_pred = gb.predict(X_train_res4)\n",
    "print('Confusion Matrix: \\n',confusion_matrix(y_train_res4, y_train_pred))\n",
    "print('Accuracy Score: ', gb.score(X_train_res4, y_train_res4))"
   ]
  },
  {
   "cell_type": "code",
   "execution_count": null,
   "metadata": {
    "colab": {
     "base_uri": "https://localhost:8080/"
    },
    "id": "TE56eB_qHco1",
    "outputId": "9d8e75f5-2976-4d7e-8617-49c4cc1a5a3a"
   },
   "outputs": [
    {
     "name": "stdout",
     "output_type": "stream",
     "text": [
      "              precision    recall  f1-score   support\n",
      "\n",
      "           3       0.00      0.00      0.00         1\n",
      "           4       0.00      0.00      0.00         7\n",
      "           5       0.77      0.67      0.72       100\n",
      "           6       0.58      0.52      0.55        92\n",
      "           7       0.43      0.59      0.50        27\n",
      "           8       0.17      0.50      0.25         2\n",
      "\n",
      "    accuracy                           0.58       229\n",
      "   macro avg       0.32      0.38      0.34       229\n",
      "weighted avg       0.62      0.58      0.59       229\n",
      "\n",
      "Confusion Matrix: \n",
      " [[ 0  0  1  0  0  0]\n",
      " [ 1  0  3  3  0  0]\n",
      " [ 1  8 67 22  0  2]\n",
      " [ 1  5 15 48 21  2]\n",
      " [ 0  0  1  9 16  1]\n",
      " [ 0  0  0  1  0  1]]\n",
      "Accuracy Score:  0.5764192139737991\n"
     ]
    }
   ],
   "source": [
    "y_test_pred = gb.predict(X_test)\n",
    "print(classification_report(y_test, y_test_pred))\n",
    "print('Confusion Matrix: \\n',confusion_matrix(y_test, y_test_pred))\n",
    "print('Accuracy Score: ', gb.score(X_test, y_test))"
   ]
  },
  {
   "cell_type": "markdown",
   "metadata": {
    "id": "H98Bu0qXG9VD"
   },
   "source": [
    "**XG Boost**"
   ]
  },
  {
   "cell_type": "code",
   "execution_count": null,
   "metadata": {
    "colab": {
     "base_uri": "https://localhost:8080/"
    },
    "id": "VcIIcWk_ZFxJ",
    "outputId": "69838786-ca4d-4ccf-865e-ce6ce02d2209"
   },
   "outputs": [
    {
     "data": {
      "text/plain": [
       "XGBClassifier(objective='multi:softprob')"
      ]
     },
     "execution_count": 45,
     "metadata": {},
     "output_type": "execute_result"
    }
   ],
   "source": [
    "from xgboost import XGBClassifier\n",
    "xgb = XGBClassifier()\n",
    "xgb.fit(X_train_res4, y_train_res4)"
   ]
  },
  {
   "cell_type": "code",
   "execution_count": null,
   "metadata": {
    "colab": {
     "base_uri": "https://localhost:8080/"
    },
    "id": "pfcE9elvdLRQ",
    "outputId": "421363a7-fd54-47b2-d2f3-c148adbeb051"
   },
   "outputs": [
    {
     "name": "stdout",
     "output_type": "stream",
     "text": [
      "Confusion Matrix: \n",
      " [[383   0   0   0   0   0]\n",
      " [  2 381   0   0   0   0]\n",
      " [  9  18 294  49  13   0]\n",
      " [  2   6  58 245  50   9]\n",
      " [  0   4   1   7 357  14]\n",
      " [  0   0   0   0   2 381]]\n",
      "Accuracy Score:  0.8932166301969365\n"
     ]
    }
   ],
   "source": [
    "y_train_pred = xgb.predict(X_train_res4)\n",
    "print('Confusion Matrix: \\n',confusion_matrix(y_train_res4, y_train_pred))\n",
    "print('Accuracy Score: ', xgb.score(X_train_res4, y_train_res4))"
   ]
  },
  {
   "cell_type": "code",
   "execution_count": null,
   "metadata": {
    "colab": {
     "base_uri": "https://localhost:8080/"
    },
    "id": "5BXuNbJCdLRS",
    "outputId": "0a110ee5-09b5-4e06-a8bd-ea5ddf255f76"
   },
   "outputs": [
    {
     "name": "stdout",
     "output_type": "stream",
     "text": [
      "              precision    recall  f1-score   support\n",
      "\n",
      "           3       0.00      0.00      0.00         1\n",
      "           4       0.06      0.14      0.08         7\n",
      "           5       0.77      0.61      0.68       100\n",
      "           6       0.55      0.42      0.48        92\n",
      "           7       0.39      0.67      0.49        27\n",
      "           8       0.12      0.50      0.20         2\n",
      "\n",
      "    accuracy                           0.52       229\n",
      "   macro avg       0.32      0.39      0.32       229\n",
      "weighted avg       0.61      0.52      0.55       229\n",
      "\n",
      "Confusion Matrix: \n",
      " [[ 0  1  0  0  0  0]\n",
      " [ 1  1  2  3  0  0]\n",
      " [ 4  8 61 22  3  2]\n",
      " [ 3  7 15 39 25  3]\n",
      " [ 0  0  1  6 18  2]\n",
      " [ 0  0  0  1  0  1]]\n",
      "Accuracy Score:  0.5240174672489083\n"
     ]
    }
   ],
   "source": [
    "y_test_pred = xgb.predict(X_test)\n",
    "print(classification_report(y_test, y_test_pred))\n",
    "print('Confusion Matrix: \\n',confusion_matrix(y_test, y_test_pred))\n",
    "print('Accuracy Score: ', xgb.score(X_test, y_test))"
   ]
  },
  {
   "cell_type": "code",
   "execution_count": null,
   "metadata": {
    "colab": {
     "base_uri": "https://localhost:8080/"
    },
    "id": "yNT3rMdadQpm",
    "outputId": "b64ca05c-34e4-43e2-85d3-ad31f5f7b75c"
   },
   "outputs": [
    {
     "name": "stdout",
     "output_type": "stream",
     "text": [
      "for max_deoth:  1\n",
      "Accuracy Score train:  0.7032822757111598\n",
      "Accuracy Score test:  0.43231441048034935\n",
      "\n",
      "for max_deoth:  2\n",
      "Accuracy Score train:  0.8148796498905908\n",
      "Accuracy Score test:  0.5065502183406113\n",
      "\n",
      "for max_deoth:  3\n",
      "Accuracy Score train:  0.8932166301969365\n",
      "Accuracy Score test:  0.5240174672489083\n",
      "\n",
      "for max_deoth:  4\n",
      "Accuracy Score train:  0.9518599562363238\n",
      "Accuracy Score test:  0.5545851528384279\n",
      "\n",
      "for max_deoth:  5\n",
      "Accuracy Score train:  0.9816192560175054\n",
      "Accuracy Score test:  0.5938864628820961\n",
      "\n",
      "for max_deoth:  6\n",
      "Accuracy Score train:  0.9991247264770241\n",
      "Accuracy Score test:  0.5720524017467249\n",
      "\n",
      "for max_deoth:  7\n",
      "Accuracy Score train:  1.0\n",
      "Accuracy Score test:  0.5633187772925764\n",
      "\n",
      "for max_deoth:  8\n",
      "Accuracy Score train:  1.0\n",
      "Accuracy Score test:  0.5807860262008734\n",
      "\n",
      "for max_deoth:  9\n",
      "Accuracy Score train:  1.0\n",
      "Accuracy Score test:  0.5807860262008734\n",
      "\n",
      "for max_deoth:  10\n",
      "Accuracy Score train:  1.0\n",
      "Accuracy Score test:  0.6069868995633187\n",
      "\n",
      "for max_deoth:  11\n",
      "Accuracy Score train:  1.0\n",
      "Accuracy Score test:  0.5982532751091703\n",
      "\n",
      "for max_deoth:  12\n",
      "Accuracy Score train:  1.0\n",
      "Accuracy Score test:  0.5851528384279476\n",
      "\n",
      "for max_deoth:  13\n",
      "Accuracy Score train:  1.0\n",
      "Accuracy Score test:  0.611353711790393\n",
      "\n",
      "for max_deoth:  14\n",
      "Accuracy Score train:  1.0\n",
      "Accuracy Score test:  0.611353711790393\n",
      "\n"
     ]
    }
   ],
   "source": [
    "max_depth_range = np.arange(1,15,1)\n",
    "for x in max_depth_range:\n",
    "  dt = XGBClassifier(max_depth= x)\n",
    "  dt.fit(X_train_res4, y_train_res4)\n",
    "  print('for max_deoth: ', x)\n",
    "  print('Accuracy Score train: ', dt.score(X_train_res4, y_train_res4))\n",
    "  print('Accuracy Score test: ', dt.score(X_test, y_test))\n",
    "  print()"
   ]
  },
  {
   "cell_type": "code",
   "execution_count": null,
   "metadata": {
    "colab": {
     "base_uri": "https://localhost:8080/"
    },
    "id": "MTNigf97Aov0",
    "outputId": "b139e28b-8288-44ed-fcd4-022a31f0336c"
   },
   "outputs": [
    {
     "data": {
      "text/plain": [
       "XGBClassifier(max_depth=5, objective='multi:softprob')"
      ]
     },
     "execution_count": 49,
     "metadata": {},
     "output_type": "execute_result"
    }
   ],
   "source": [
    "xgb = XGBClassifier(max_depth= 5)\n",
    "xgb.fit(X_train_res4, y_train_res4)"
   ]
  },
  {
   "cell_type": "code",
   "execution_count": null,
   "metadata": {
    "colab": {
     "base_uri": "https://localhost:8080/"
    },
    "id": "DhqkniUAIAR6",
    "outputId": "26402b05-be96-45d2-c31d-042241e12edb"
   },
   "outputs": [
    {
     "name": "stdout",
     "output_type": "stream",
     "text": [
      "Confusion Matrix: \n",
      " [[383   0   0   0   0   0]\n",
      " [  0 383   0   0   0   0]\n",
      " [  0   1 364  17   1   0]\n",
      " [  0   0  12 350   8   0]\n",
      " [  0   0   0   1 380   2]\n",
      " [  0   0   0   0   0 383]]\n",
      "Accuracy Score:  0.9816192560175054\n"
     ]
    }
   ],
   "source": [
    "y_train_pred = xgb.predict(X_train_res4)\n",
    "print('Confusion Matrix: \\n',confusion_matrix(y_train_res4, y_train_pred))\n",
    "print('Accuracy Score: ', xgb.score(X_train_res4, y_train_res4))"
   ]
  },
  {
   "cell_type": "code",
   "execution_count": null,
   "metadata": {
    "colab": {
     "base_uri": "https://localhost:8080/"
    },
    "id": "_lmxwyU_IAR9",
    "outputId": "ba077a44-914f-49b2-9eed-3b7cb162ca66"
   },
   "outputs": [
    {
     "name": "stdout",
     "output_type": "stream",
     "text": [
      "              precision    recall  f1-score   support\n",
      "\n",
      "           3       0.00      0.00      0.00         1\n",
      "           4       0.00      0.00      0.00         7\n",
      "           5       0.75      0.69      0.72       100\n",
      "           6       0.57      0.54      0.56        92\n",
      "           7       0.46      0.59      0.52        27\n",
      "           8       0.33      0.50      0.40         2\n",
      "\n",
      "    accuracy                           0.59       229\n",
      "   macro avg       0.35      0.39      0.37       229\n",
      "weighted avg       0.62      0.59      0.60       229\n",
      "\n",
      "Confusion Matrix: \n",
      " [[ 0  0  0  1  0  0]\n",
      " [ 1  0  3  3  0  0]\n",
      " [ 1  6 69 23  1  0]\n",
      " [ 1  3 18 50 18  2]\n",
      " [ 0  0  2  9 16  0]\n",
      " [ 0  0  0  1  0  1]]\n",
      "Accuracy Score:  0.5938864628820961\n"
     ]
    }
   ],
   "source": [
    "y_test_pred = xgb.predict(X_test)\n",
    "print(classification_report(y_test, y_test_pred))\n",
    "print('Confusion Matrix: \\n',confusion_matrix(y_test, y_test_pred))\n",
    "print('Accuracy Score: ', xgb.score(X_test, y_test))"
   ]
  },
  {
   "cell_type": "markdown",
   "metadata": {
    "id": "LMnDmw5SIPXW"
   },
   "source": [
    "From the above analysis, it is clear that XG perform best on the dataset"
   ]
  },
  {
   "cell_type": "markdown",
   "metadata": {
    "id": "UtDi_UwFKO_H"
   },
   "source": [
    "**SVM**"
   ]
  },
  {
   "cell_type": "code",
   "execution_count": null,
   "metadata": {
    "colab": {
     "base_uri": "https://localhost:8080/"
    },
    "id": "7_5TBnUDQ-I7",
    "outputId": "2e5134e5-05b5-42c1-d0ef-04111a9f3721"
   },
   "outputs": [
    {
     "data": {
      "text/plain": [
       "SVC()"
      ]
     },
     "execution_count": 52,
     "metadata": {},
     "output_type": "execute_result"
    }
   ],
   "source": [
    "\n",
    "from sklearn.svm import SVC\n",
    "svc = SVC()\n",
    "svc.fit(X_train_res4, y_train_res4)"
   ]
  },
  {
   "cell_type": "code",
   "execution_count": null,
   "metadata": {
    "colab": {
     "base_uri": "https://localhost:8080/"
    },
    "id": "9ZaC_0GdSL32",
    "outputId": "15eba488-f50e-4237-af81-a22191b7c2bf"
   },
   "outputs": [
    {
     "name": "stdout",
     "output_type": "stream",
     "text": [
      "Confusion Matrix: \n",
      " [[322  30   0  31   0   0]\n",
      " [ 86 158  22  33  62  22]\n",
      " [117  85  83  35  33  30]\n",
      " [ 88  57  17  68  75  65]\n",
      " [ 27  36  17  34 121 148]\n",
      " [ 20  19   1   3  85 255]]\n",
      "Accuracy Score:  0.44070021881838073\n"
     ]
    }
   ],
   "source": [
    "y_train_pred = svc.predict(X_train_res4)\n",
    "print('Confusion Matrix: \\n',confusion_matrix(y_train_res4, y_train_pred))\n",
    "print('Accuracy Score: ', svc.score(X_train_res4, y_train_res4))"
   ]
  },
  {
   "cell_type": "code",
   "execution_count": null,
   "metadata": {
    "colab": {
     "base_uri": "https://localhost:8080/"
    },
    "id": "kq-I1dYmSL34",
    "outputId": "a8ea9070-7f1e-4901-db01-3288145038c2"
   },
   "outputs": [
    {
     "name": "stdout",
     "output_type": "stream",
     "text": [
      "Confusion Matrix: \n",
      " [[ 0  1  0  0  0  0]\n",
      " [ 1  1  0  3  1  1]\n",
      " [34 22 18 17  3  6]\n",
      " [22 12  2 18 25 13]\n",
      " [ 1  3  2  1 11  9]\n",
      " [ 0  0  0  1  0  1]]\n",
      "Accuracy Score:  0.21397379912663755\n"
     ]
    }
   ],
   "source": [
    "y_test_pred = svc.predict(X_test)\n",
    "print('Confusion Matrix: \\n',confusion_matrix(y_test, y_test_pred))\n",
    "print('Accuracy Score: ', svc.score(X_test, y_test))"
   ]
  },
  {
   "cell_type": "code",
   "execution_count": null,
   "metadata": {
    "id": "kHKyLZBnSGvT"
   },
   "outputs": [],
   "source": [
    "def with_kernel(kernel):\n",
    "  for x in ['rbf', 'linear', 'poly']:\n",
    "    svc = SVC(kernel = x)\n",
    "    svc.fit(X_train_res4, y_train_res4)\n",
    "    print('for kernel', x)\n",
    "    print('Accuracy Score: ', svc.score(X_train_res4, y_train_res4))\n",
    "    print('Accuracy Score: ', svc.score(X_test, y_test))\n",
    "    print()"
   ]
  },
  {
   "cell_type": "code",
   "execution_count": null,
   "metadata": {
    "id": "BmyEof5UUDdr"
   },
   "outputs": [],
   "source": [
    "Kernel_list = ['rbf', 'linear', 'poly']"
   ]
  },
  {
   "cell_type": "code",
   "execution_count": null,
   "metadata": {
    "colab": {
     "base_uri": "https://localhost:8080/"
    },
    "id": "DXQs04MgTaB7",
    "outputId": "6c59476e-1619-4fdd-fc64-381bf6dae3a2"
   },
   "outputs": [
    {
     "name": "stdout",
     "output_type": "stream",
     "text": [
      "for kernel rbf\n",
      "Accuracy Score:  0.44070021881838073\n",
      "Accuracy Score:  0.21397379912663755\n",
      "\n",
      "for kernel linear\n",
      "Accuracy Score:  0.6070021881838075\n",
      "Accuracy Score:  0.4585152838427948\n",
      "\n",
      "for kernel poly\n",
      "Accuracy Score:  0.3400437636761488\n",
      "Accuracy Score:  0.1615720524017467\n",
      "\n"
     ]
    }
   ],
   "source": [
    "with_kernel(Kernel_list)"
   ]
  },
  {
   "cell_type": "markdown",
   "metadata": {
    "id": "6a6fmSJ3LbC_"
   },
   "source": [
    "It means SVM is the Poorest Model for this dataset"
   ]
  },
  {
   "cell_type": "code",
   "execution_count": null,
   "metadata": {
    "colab": {
     "base_uri": "https://localhost:8080/",
     "height": 206
    },
    "id": "AQxD3hp1RtGf",
    "outputId": "a4a5e59b-8730-4886-9242-1751eb9aa70b"
   },
   "outputs": [
    {
     "data": {
      "text/html": [
       "\n",
       "  <div id=\"df-d461f7e2-5e71-4614-b245-6537e65e2930\">\n",
       "    <div class=\"colab-df-container\">\n",
       "      <div>\n",
       "<style scoped>\n",
       "    .dataframe tbody tr th:only-of-type {\n",
       "        vertical-align: middle;\n",
       "    }\n",
       "\n",
       "    .dataframe tbody tr th {\n",
       "        vertical-align: top;\n",
       "    }\n",
       "\n",
       "    .dataframe thead th {\n",
       "        text-align: right;\n",
       "    }\n",
       "</style>\n",
       "<table border=\"1\" class=\"dataframe\">\n",
       "  <thead>\n",
       "    <tr style=\"text-align: right;\">\n",
       "      <th></th>\n",
       "      <th>fixed acidity</th>\n",
       "      <th>volatile acidity</th>\n",
       "      <th>citric acid</th>\n",
       "      <th>residual sugar</th>\n",
       "      <th>chlorides</th>\n",
       "      <th>free sulfur dioxide</th>\n",
       "      <th>total sulfur dioxide</th>\n",
       "      <th>density</th>\n",
       "      <th>pH</th>\n",
       "      <th>sulphates</th>\n",
       "      <th>alcohol</th>\n",
       "    </tr>\n",
       "  </thead>\n",
       "  <tbody>\n",
       "    <tr>\n",
       "      <th>946</th>\n",
       "      <td>9.1</td>\n",
       "      <td>0.775</td>\n",
       "      <td>0.22</td>\n",
       "      <td>2.2</td>\n",
       "      <td>0.079</td>\n",
       "      <td>12.0</td>\n",
       "      <td>48.0</td>\n",
       "      <td>0.99760</td>\n",
       "      <td>3.18</td>\n",
       "      <td>0.51</td>\n",
       "      <td>9.6</td>\n",
       "    </tr>\n",
       "    <tr>\n",
       "      <th>142</th>\n",
       "      <td>6.9</td>\n",
       "      <td>1.090</td>\n",
       "      <td>0.06</td>\n",
       "      <td>2.1</td>\n",
       "      <td>0.061</td>\n",
       "      <td>12.0</td>\n",
       "      <td>31.0</td>\n",
       "      <td>0.99480</td>\n",
       "      <td>3.51</td>\n",
       "      <td>0.43</td>\n",
       "      <td>11.4</td>\n",
       "    </tr>\n",
       "    <tr>\n",
       "      <th>934</th>\n",
       "      <td>9.1</td>\n",
       "      <td>0.760</td>\n",
       "      <td>0.68</td>\n",
       "      <td>1.7</td>\n",
       "      <td>0.414</td>\n",
       "      <td>18.0</td>\n",
       "      <td>64.0</td>\n",
       "      <td>0.99652</td>\n",
       "      <td>2.90</td>\n",
       "      <td>1.33</td>\n",
       "      <td>9.1</td>\n",
       "    </tr>\n",
       "    <tr>\n",
       "      <th>625</th>\n",
       "      <td>9.0</td>\n",
       "      <td>0.800</td>\n",
       "      <td>0.12</td>\n",
       "      <td>2.4</td>\n",
       "      <td>0.083</td>\n",
       "      <td>8.0</td>\n",
       "      <td>28.0</td>\n",
       "      <td>0.99836</td>\n",
       "      <td>3.33</td>\n",
       "      <td>0.65</td>\n",
       "      <td>10.4</td>\n",
       "    </tr>\n",
       "    <tr>\n",
       "      <th>124</th>\n",
       "      <td>7.3</td>\n",
       "      <td>0.380</td>\n",
       "      <td>0.21</td>\n",
       "      <td>2.0</td>\n",
       "      <td>0.080</td>\n",
       "      <td>7.0</td>\n",
       "      <td>35.0</td>\n",
       "      <td>0.99610</td>\n",
       "      <td>3.33</td>\n",
       "      <td>0.47</td>\n",
       "      <td>9.5</td>\n",
       "    </tr>\n",
       "  </tbody>\n",
       "</table>\n",
       "</div>\n",
       "      <button class=\"colab-df-convert\" onclick=\"convertToInteractive('df-d461f7e2-5e71-4614-b245-6537e65e2930')\"\n",
       "              title=\"Convert this dataframe to an interactive table.\"\n",
       "              style=\"display:none;\">\n",
       "        \n",
       "  <svg xmlns=\"http://www.w3.org/2000/svg\" height=\"24px\"viewBox=\"0 0 24 24\"\n",
       "       width=\"24px\">\n",
       "    <path d=\"M0 0h24v24H0V0z\" fill=\"none\"/>\n",
       "    <path d=\"M18.56 5.44l.94 2.06.94-2.06 2.06-.94-2.06-.94-.94-2.06-.94 2.06-2.06.94zm-11 1L8.5 8.5l.94-2.06 2.06-.94-2.06-.94L8.5 2.5l-.94 2.06-2.06.94zm10 10l.94 2.06.94-2.06 2.06-.94-2.06-.94-.94-2.06-.94 2.06-2.06.94z\"/><path d=\"M17.41 7.96l-1.37-1.37c-.4-.4-.92-.59-1.43-.59-.52 0-1.04.2-1.43.59L10.3 9.45l-7.72 7.72c-.78.78-.78 2.05 0 2.83L4 21.41c.39.39.9.59 1.41.59.51 0 1.02-.2 1.41-.59l7.78-7.78 2.81-2.81c.8-.78.8-2.07 0-2.86zM5.41 20L4 18.59l7.72-7.72 1.47 1.35L5.41 20z\"/>\n",
       "  </svg>\n",
       "      </button>\n",
       "      \n",
       "  <style>\n",
       "    .colab-df-container {\n",
       "      display:flex;\n",
       "      flex-wrap:wrap;\n",
       "      gap: 12px;\n",
       "    }\n",
       "\n",
       "    .colab-df-convert {\n",
       "      background-color: #E8F0FE;\n",
       "      border: none;\n",
       "      border-radius: 50%;\n",
       "      cursor: pointer;\n",
       "      display: none;\n",
       "      fill: #1967D2;\n",
       "      height: 32px;\n",
       "      padding: 0 0 0 0;\n",
       "      width: 32px;\n",
       "    }\n",
       "\n",
       "    .colab-df-convert:hover {\n",
       "      background-color: #E2EBFA;\n",
       "      box-shadow: 0px 1px 2px rgba(60, 64, 67, 0.3), 0px 1px 3px 1px rgba(60, 64, 67, 0.15);\n",
       "      fill: #174EA6;\n",
       "    }\n",
       "\n",
       "    [theme=dark] .colab-df-convert {\n",
       "      background-color: #3B4455;\n",
       "      fill: #D2E3FC;\n",
       "    }\n",
       "\n",
       "    [theme=dark] .colab-df-convert:hover {\n",
       "      background-color: #434B5C;\n",
       "      box-shadow: 0px 1px 3px 1px rgba(0, 0, 0, 0.15);\n",
       "      filter: drop-shadow(0px 1px 2px rgba(0, 0, 0, 0.3));\n",
       "      fill: #FFFFFF;\n",
       "    }\n",
       "  </style>\n",
       "\n",
       "      <script>\n",
       "        const buttonEl =\n",
       "          document.querySelector('#df-d461f7e2-5e71-4614-b245-6537e65e2930 button.colab-df-convert');\n",
       "        buttonEl.style.display =\n",
       "          google.colab.kernel.accessAllowed ? 'block' : 'none';\n",
       "\n",
       "        async function convertToInteractive(key) {\n",
       "          const element = document.querySelector('#df-d461f7e2-5e71-4614-b245-6537e65e2930');\n",
       "          const dataTable =\n",
       "            await google.colab.kernel.invokeFunction('convertToInteractive',\n",
       "                                                     [key], {});\n",
       "          if (!dataTable) return;\n",
       "\n",
       "          const docLinkHtml = 'Like what you see? Visit the ' +\n",
       "            '<a target=\"_blank\" href=https://colab.research.google.com/notebooks/data_table.ipynb>data table notebook</a>'\n",
       "            + ' to learn more about interactive tables.';\n",
       "          element.innerHTML = '';\n",
       "          dataTable['output_type'] = 'display_data';\n",
       "          await google.colab.output.renderOutput(dataTable, element);\n",
       "          const docLink = document.createElement('div');\n",
       "          docLink.innerHTML = docLinkHtml;\n",
       "          element.appendChild(docLink);\n",
       "        }\n",
       "      </script>\n",
       "    </div>\n",
       "  </div>\n",
       "  "
      ],
      "text/plain": [
       "     fixed acidity  volatile acidity  citric acid  residual sugar  chlorides  \\\n",
       "946            9.1             0.775         0.22             2.2      0.079   \n",
       "142            6.9             1.090         0.06             2.1      0.061   \n",
       "934            9.1             0.760         0.68             1.7      0.414   \n",
       "625            9.0             0.800         0.12             2.4      0.083   \n",
       "124            7.3             0.380         0.21             2.0      0.080   \n",
       "\n",
       "     free sulfur dioxide  total sulfur dioxide  density    pH  sulphates  \\\n",
       "946                 12.0                  48.0  0.99760  3.18       0.51   \n",
       "142                 12.0                  31.0  0.99480  3.51       0.43   \n",
       "934                 18.0                  64.0  0.99652  2.90       1.33   \n",
       "625                  8.0                  28.0  0.99836  3.33       0.65   \n",
       "124                  7.0                  35.0  0.99610  3.33       0.47   \n",
       "\n",
       "     alcohol  \n",
       "946      9.6  \n",
       "142     11.4  \n",
       "934      9.1  \n",
       "625     10.4  \n",
       "124      9.5  "
      ]
     },
     "execution_count": 58,
     "metadata": {},
     "output_type": "execute_result"
    }
   ],
   "source": [
    "X_test.head()"
   ]
  },
  {
   "cell_type": "code",
   "execution_count": null,
   "metadata": {
    "colab": {
     "base_uri": "https://localhost:8080/"
    },
    "id": "ceBmK_nyTEKQ",
    "outputId": "83c8bda2-2eea-48e7-9e42-c4fd2b215355"
   },
   "outputs": [
    {
     "data": {
      "text/plain": [
       "946    5\n",
       "142    4\n",
       "934    6\n",
       "625    6\n",
       "124    5\n",
       "Name: quality, dtype: int64"
      ]
     },
     "execution_count": 59,
     "metadata": {},
     "output_type": "execute_result"
    }
   ],
   "source": [
    "y_test.head()"
   ]
  },
  {
   "cell_type": "code",
   "execution_count": null,
   "metadata": {
    "colab": {
     "base_uri": "https://localhost:8080/"
    },
    "id": "qvnziT4HSJQh",
    "outputId": "1e1f9ec2-8779-41a0-9634-151b4e17947a"
   },
   "outputs": [
    {
     "data": {
      "text/plain": [
       "Index(['fixed acidity', 'volatile acidity', 'citric acid', 'residual sugar',\n",
       "       'chlorides', 'free sulfur dioxide', 'total sulfur dioxide', 'density',\n",
       "       'pH', 'sulphates', 'alcohol'],\n",
       "      dtype='object')"
      ]
     },
     "execution_count": 60,
     "metadata": {},
     "output_type": "execute_result"
    }
   ],
   "source": [
    "X_test.columns"
   ]
  },
  {
   "cell_type": "markdown",
   "metadata": {
    "id": "m4soihukRXAX"
   },
   "source": [
    "**Prediction on Single Data-Set**"
   ]
  },
  {
   "cell_type": "markdown",
   "metadata": {
    "id": "CdNmhNIVTWGO"
   },
   "source": [
    "Lets take data from test set and modified it little bit and then predict this on this single input"
   ]
  },
  {
   "cell_type": "code",
   "execution_count": null,
   "metadata": {
    "id": "dyLgZWzLMU3P"
   },
   "outputs": [],
   "source": [
    "new_input = {'fixed acidity': 9,\n",
    "            'volatile acidity': 0.801,\n",
    "            'citric acid': 0.11,\n",
    "            'residual sugar': 2.2,\n",
    "            'chlorides': 0.08,\n",
    "            'free sulfur dioxide': 8.1,\n",
    "            'total sulfur dioxide': 27,\n",
    "            'density': 0.99,\n",
    "            'pH': 3.3,\n",
    "            'sulphates': 0.6,\n",
    "            'alcohol': 10}"
   ]
  },
  {
   "cell_type": "code",
   "execution_count": null,
   "metadata": {
    "colab": {
     "base_uri": "https://localhost:8080/",
     "height": 81
    },
    "id": "8xf2PUKSTI6t",
    "outputId": "b0ee16fd-5925-4f39-a6fc-9ca3165a3c1c"
   },
   "outputs": [
    {
     "data": {
      "text/html": [
       "\n",
       "  <div id=\"df-6ba7afd5-06c3-45f7-bd27-c53369973eca\">\n",
       "    <div class=\"colab-df-container\">\n",
       "      <div>\n",
       "<style scoped>\n",
       "    .dataframe tbody tr th:only-of-type {\n",
       "        vertical-align: middle;\n",
       "    }\n",
       "\n",
       "    .dataframe tbody tr th {\n",
       "        vertical-align: top;\n",
       "    }\n",
       "\n",
       "    .dataframe thead th {\n",
       "        text-align: right;\n",
       "    }\n",
       "</style>\n",
       "<table border=\"1\" class=\"dataframe\">\n",
       "  <thead>\n",
       "    <tr style=\"text-align: right;\">\n",
       "      <th></th>\n",
       "      <th>fixed acidity</th>\n",
       "      <th>volatile acidity</th>\n",
       "      <th>citric acid</th>\n",
       "      <th>residual sugar</th>\n",
       "      <th>chlorides</th>\n",
       "      <th>free sulfur dioxide</th>\n",
       "      <th>total sulfur dioxide</th>\n",
       "      <th>density</th>\n",
       "      <th>pH</th>\n",
       "      <th>sulphates</th>\n",
       "      <th>alcohol</th>\n",
       "    </tr>\n",
       "  </thead>\n",
       "  <tbody>\n",
       "    <tr>\n",
       "      <th>0</th>\n",
       "      <td>9</td>\n",
       "      <td>0.801</td>\n",
       "      <td>0.11</td>\n",
       "      <td>2.2</td>\n",
       "      <td>0.08</td>\n",
       "      <td>8.1</td>\n",
       "      <td>27</td>\n",
       "      <td>0.99</td>\n",
       "      <td>3.3</td>\n",
       "      <td>0.6</td>\n",
       "      <td>10</td>\n",
       "    </tr>\n",
       "  </tbody>\n",
       "</table>\n",
       "</div>\n",
       "      <button class=\"colab-df-convert\" onclick=\"convertToInteractive('df-6ba7afd5-06c3-45f7-bd27-c53369973eca')\"\n",
       "              title=\"Convert this dataframe to an interactive table.\"\n",
       "              style=\"display:none;\">\n",
       "        \n",
       "  <svg xmlns=\"http://www.w3.org/2000/svg\" height=\"24px\"viewBox=\"0 0 24 24\"\n",
       "       width=\"24px\">\n",
       "    <path d=\"M0 0h24v24H0V0z\" fill=\"none\"/>\n",
       "    <path d=\"M18.56 5.44l.94 2.06.94-2.06 2.06-.94-2.06-.94-.94-2.06-.94 2.06-2.06.94zm-11 1L8.5 8.5l.94-2.06 2.06-.94-2.06-.94L8.5 2.5l-.94 2.06-2.06.94zm10 10l.94 2.06.94-2.06 2.06-.94-2.06-.94-.94-2.06-.94 2.06-2.06.94z\"/><path d=\"M17.41 7.96l-1.37-1.37c-.4-.4-.92-.59-1.43-.59-.52 0-1.04.2-1.43.59L10.3 9.45l-7.72 7.72c-.78.78-.78 2.05 0 2.83L4 21.41c.39.39.9.59 1.41.59.51 0 1.02-.2 1.41-.59l7.78-7.78 2.81-2.81c.8-.78.8-2.07 0-2.86zM5.41 20L4 18.59l7.72-7.72 1.47 1.35L5.41 20z\"/>\n",
       "  </svg>\n",
       "      </button>\n",
       "      \n",
       "  <style>\n",
       "    .colab-df-container {\n",
       "      display:flex;\n",
       "      flex-wrap:wrap;\n",
       "      gap: 12px;\n",
       "    }\n",
       "\n",
       "    .colab-df-convert {\n",
       "      background-color: #E8F0FE;\n",
       "      border: none;\n",
       "      border-radius: 50%;\n",
       "      cursor: pointer;\n",
       "      display: none;\n",
       "      fill: #1967D2;\n",
       "      height: 32px;\n",
       "      padding: 0 0 0 0;\n",
       "      width: 32px;\n",
       "    }\n",
       "\n",
       "    .colab-df-convert:hover {\n",
       "      background-color: #E2EBFA;\n",
       "      box-shadow: 0px 1px 2px rgba(60, 64, 67, 0.3), 0px 1px 3px 1px rgba(60, 64, 67, 0.15);\n",
       "      fill: #174EA6;\n",
       "    }\n",
       "\n",
       "    [theme=dark] .colab-df-convert {\n",
       "      background-color: #3B4455;\n",
       "      fill: #D2E3FC;\n",
       "    }\n",
       "\n",
       "    [theme=dark] .colab-df-convert:hover {\n",
       "      background-color: #434B5C;\n",
       "      box-shadow: 0px 1px 3px 1px rgba(0, 0, 0, 0.15);\n",
       "      filter: drop-shadow(0px 1px 2px rgba(0, 0, 0, 0.3));\n",
       "      fill: #FFFFFF;\n",
       "    }\n",
       "  </style>\n",
       "\n",
       "      <script>\n",
       "        const buttonEl =\n",
       "          document.querySelector('#df-6ba7afd5-06c3-45f7-bd27-c53369973eca button.colab-df-convert');\n",
       "        buttonEl.style.display =\n",
       "          google.colab.kernel.accessAllowed ? 'block' : 'none';\n",
       "\n",
       "        async function convertToInteractive(key) {\n",
       "          const element = document.querySelector('#df-6ba7afd5-06c3-45f7-bd27-c53369973eca');\n",
       "          const dataTable =\n",
       "            await google.colab.kernel.invokeFunction('convertToInteractive',\n",
       "                                                     [key], {});\n",
       "          if (!dataTable) return;\n",
       "\n",
       "          const docLinkHtml = 'Like what you see? Visit the ' +\n",
       "            '<a target=\"_blank\" href=https://colab.research.google.com/notebooks/data_table.ipynb>data table notebook</a>'\n",
       "            + ' to learn more about interactive tables.';\n",
       "          element.innerHTML = '';\n",
       "          dataTable['output_type'] = 'display_data';\n",
       "          await google.colab.output.renderOutput(dataTable, element);\n",
       "          const docLink = document.createElement('div');\n",
       "          docLink.innerHTML = docLinkHtml;\n",
       "          element.appendChild(docLink);\n",
       "        }\n",
       "      </script>\n",
       "    </div>\n",
       "  </div>\n",
       "  "
      ],
      "text/plain": [
       "   fixed acidity  volatile acidity  citric acid  residual sugar  chlorides  \\\n",
       "0              9             0.801         0.11             2.2       0.08   \n",
       "\n",
       "   free sulfur dioxide  total sulfur dioxide  density   pH  sulphates  alcohol  \n",
       "0                  8.1                    27     0.99  3.3        0.6       10  "
      ]
     },
     "execution_count": 62,
     "metadata": {},
     "output_type": "execute_result"
    }
   ],
   "source": [
    "new_input_df = pd.DataFrame([new_input])\n",
    "new_input_df"
   ]
  },
  {
   "cell_type": "code",
   "execution_count": null,
   "metadata": {
    "colab": {
     "base_uri": "https://localhost:8080/"
    },
    "id": "jGvruq3PTMTt",
    "outputId": "aadc88ac-ab97-465c-8427-722b289330c4"
   },
   "outputs": [
    {
     "data": {
      "text/plain": [
       "3"
      ]
     },
     "execution_count": 63,
     "metadata": {},
     "output_type": "execute_result"
    }
   ],
   "source": [
    "prediction = xgb.predict(new_input_df)[0]\n",
    "prediction"
   ]
  },
  {
   "cell_type": "code",
   "execution_count": null,
   "metadata": {
    "id": "jG8rgiFTTxWa"
   },
   "outputs": [],
   "source": []
  }
 ],
 "metadata": {
  "colab": {
   "collapsed_sections": [],
   "name": "Advance-on-WineQT.ipynb",
   "provenance": []
  },
  "kernelspec": {
   "display_name": "Python 3 (ipykernel)",
   "language": "python",
   "name": "python3"
  },
  "language_info": {
   "codemirror_mode": {
    "name": "ipython",
    "version": 3
   },
   "file_extension": ".py",
   "mimetype": "text/x-python",
   "name": "python",
   "nbconvert_exporter": "python",
   "pygments_lexer": "ipython3",
   "version": "3.10.4"
  }
 },
 "nbformat": 4,
 "nbformat_minor": 1
}
