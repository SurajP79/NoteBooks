{
  "nbformat": 4,
  "nbformat_minor": 0,
  "metadata": {
    "colab": {
      "name": "Basic-on-WineQT.ipynb",
      "provenance": [],
      "collapsed_sections": []
    },
    "kernelspec": {
      "name": "python3",
      "display_name": "Python 3"
    },
    "language_info": {
      "name": "python"
    }
  },
  "cells": [
    {
      "cell_type": "code",
      "execution_count": null,
      "metadata": {
        "id": "iQEqpKyVsfih"
      },
      "outputs": [],
      "source": [
        "import pandas as pd\n",
        "import numpy as np \n",
        "import matplotlib\n",
        "import matplotlib.pyplot as plt\n",
        "import seaborn as sns\n",
        "%matplotlib inline"
      ]
    },
    {
      "cell_type": "markdown",
      "source": [
        "The following settings will improve the default style and font sizes for our charts."
      ],
      "metadata": {
        "id": "98duuaQFH0Q0"
      }
    },
    {
      "cell_type": "code",
      "source": [
        "sns.set_style('darkgrid')\n",
        "matplotlib.rcParams['font.size'] = 14\n",
        "matplotlib.rcParams['figure.figsize'] = (10, 6)\n",
        "matplotlib.rcParams['figure.facecolor'] = '#00000000'"
      ],
      "metadata": {
        "id": "s8ezED7IHvPI"
      },
      "execution_count": null,
      "outputs": []
    },
    {
      "cell_type": "markdown",
      "source": [
        "read of data"
      ],
      "metadata": {
        "id": "h0njd46PH47d"
      }
    },
    {
      "cell_type": "code",
      "source": [
        "df = pd.read_csv('WineQT.csv')"
      ],
      "metadata": {
        "id": "4WA1PYlpHxYX"
      },
      "execution_count": null,
      "outputs": []
    },
    {
      "cell_type": "code",
      "source": [
        "df.head()"
      ],
      "metadata": {
        "colab": {
          "base_uri": "https://localhost:8080/",
          "height": 268
        },
        "id": "iFsIgIxlH4S7",
        "outputId": "28964e0a-9e59-41a2-d8b2-29d930731875"
      },
      "execution_count": null,
      "outputs": [
        {
          "output_type": "execute_result",
          "data": {
            "text/plain": [
              "   fixed acidity  volatile acidity  citric acid  residual sugar  chlorides  \\\n",
              "0            7.4              0.70         0.00             1.9      0.076   \n",
              "1            7.8              0.88         0.00             2.6      0.098   \n",
              "2            7.8              0.76         0.04             2.3      0.092   \n",
              "3           11.2              0.28         0.56             1.9      0.075   \n",
              "4            7.4              0.70         0.00             1.9      0.076   \n",
              "\n",
              "   free sulfur dioxide  total sulfur dioxide  density    pH  sulphates  \\\n",
              "0                 11.0                  34.0   0.9978  3.51       0.56   \n",
              "1                 25.0                  67.0   0.9968  3.20       0.68   \n",
              "2                 15.0                  54.0   0.9970  3.26       0.65   \n",
              "3                 17.0                  60.0   0.9980  3.16       0.58   \n",
              "4                 11.0                  34.0   0.9978  3.51       0.56   \n",
              "\n",
              "   alcohol  quality  Id  \n",
              "0      9.4        5   0  \n",
              "1      9.8        5   1  \n",
              "2      9.8        5   2  \n",
              "3      9.8        6   3  \n",
              "4      9.4        5   4  "
            ],
            "text/html": [
              "\n",
              "  <div id=\"df-3a102ca3-13aa-44fe-aea5-74ed7195f7bc\">\n",
              "    <div class=\"colab-df-container\">\n",
              "      <div>\n",
              "<style scoped>\n",
              "    .dataframe tbody tr th:only-of-type {\n",
              "        vertical-align: middle;\n",
              "    }\n",
              "\n",
              "    .dataframe tbody tr th {\n",
              "        vertical-align: top;\n",
              "    }\n",
              "\n",
              "    .dataframe thead th {\n",
              "        text-align: right;\n",
              "    }\n",
              "</style>\n",
              "<table border=\"1\" class=\"dataframe\">\n",
              "  <thead>\n",
              "    <tr style=\"text-align: right;\">\n",
              "      <th></th>\n",
              "      <th>fixed acidity</th>\n",
              "      <th>volatile acidity</th>\n",
              "      <th>citric acid</th>\n",
              "      <th>residual sugar</th>\n",
              "      <th>chlorides</th>\n",
              "      <th>free sulfur dioxide</th>\n",
              "      <th>total sulfur dioxide</th>\n",
              "      <th>density</th>\n",
              "      <th>pH</th>\n",
              "      <th>sulphates</th>\n",
              "      <th>alcohol</th>\n",
              "      <th>quality</th>\n",
              "      <th>Id</th>\n",
              "    </tr>\n",
              "  </thead>\n",
              "  <tbody>\n",
              "    <tr>\n",
              "      <th>0</th>\n",
              "      <td>7.4</td>\n",
              "      <td>0.70</td>\n",
              "      <td>0.00</td>\n",
              "      <td>1.9</td>\n",
              "      <td>0.076</td>\n",
              "      <td>11.0</td>\n",
              "      <td>34.0</td>\n",
              "      <td>0.9978</td>\n",
              "      <td>3.51</td>\n",
              "      <td>0.56</td>\n",
              "      <td>9.4</td>\n",
              "      <td>5</td>\n",
              "      <td>0</td>\n",
              "    </tr>\n",
              "    <tr>\n",
              "      <th>1</th>\n",
              "      <td>7.8</td>\n",
              "      <td>0.88</td>\n",
              "      <td>0.00</td>\n",
              "      <td>2.6</td>\n",
              "      <td>0.098</td>\n",
              "      <td>25.0</td>\n",
              "      <td>67.0</td>\n",
              "      <td>0.9968</td>\n",
              "      <td>3.20</td>\n",
              "      <td>0.68</td>\n",
              "      <td>9.8</td>\n",
              "      <td>5</td>\n",
              "      <td>1</td>\n",
              "    </tr>\n",
              "    <tr>\n",
              "      <th>2</th>\n",
              "      <td>7.8</td>\n",
              "      <td>0.76</td>\n",
              "      <td>0.04</td>\n",
              "      <td>2.3</td>\n",
              "      <td>0.092</td>\n",
              "      <td>15.0</td>\n",
              "      <td>54.0</td>\n",
              "      <td>0.9970</td>\n",
              "      <td>3.26</td>\n",
              "      <td>0.65</td>\n",
              "      <td>9.8</td>\n",
              "      <td>5</td>\n",
              "      <td>2</td>\n",
              "    </tr>\n",
              "    <tr>\n",
              "      <th>3</th>\n",
              "      <td>11.2</td>\n",
              "      <td>0.28</td>\n",
              "      <td>0.56</td>\n",
              "      <td>1.9</td>\n",
              "      <td>0.075</td>\n",
              "      <td>17.0</td>\n",
              "      <td>60.0</td>\n",
              "      <td>0.9980</td>\n",
              "      <td>3.16</td>\n",
              "      <td>0.58</td>\n",
              "      <td>9.8</td>\n",
              "      <td>6</td>\n",
              "      <td>3</td>\n",
              "    </tr>\n",
              "    <tr>\n",
              "      <th>4</th>\n",
              "      <td>7.4</td>\n",
              "      <td>0.70</td>\n",
              "      <td>0.00</td>\n",
              "      <td>1.9</td>\n",
              "      <td>0.076</td>\n",
              "      <td>11.0</td>\n",
              "      <td>34.0</td>\n",
              "      <td>0.9978</td>\n",
              "      <td>3.51</td>\n",
              "      <td>0.56</td>\n",
              "      <td>9.4</td>\n",
              "      <td>5</td>\n",
              "      <td>4</td>\n",
              "    </tr>\n",
              "  </tbody>\n",
              "</table>\n",
              "</div>\n",
              "      <button class=\"colab-df-convert\" onclick=\"convertToInteractive('df-3a102ca3-13aa-44fe-aea5-74ed7195f7bc')\"\n",
              "              title=\"Convert this dataframe to an interactive table.\"\n",
              "              style=\"display:none;\">\n",
              "        \n",
              "  <svg xmlns=\"http://www.w3.org/2000/svg\" height=\"24px\"viewBox=\"0 0 24 24\"\n",
              "       width=\"24px\">\n",
              "    <path d=\"M0 0h24v24H0V0z\" fill=\"none\"/>\n",
              "    <path d=\"M18.56 5.44l.94 2.06.94-2.06 2.06-.94-2.06-.94-.94-2.06-.94 2.06-2.06.94zm-11 1L8.5 8.5l.94-2.06 2.06-.94-2.06-.94L8.5 2.5l-.94 2.06-2.06.94zm10 10l.94 2.06.94-2.06 2.06-.94-2.06-.94-.94-2.06-.94 2.06-2.06.94z\"/><path d=\"M17.41 7.96l-1.37-1.37c-.4-.4-.92-.59-1.43-.59-.52 0-1.04.2-1.43.59L10.3 9.45l-7.72 7.72c-.78.78-.78 2.05 0 2.83L4 21.41c.39.39.9.59 1.41.59.51 0 1.02-.2 1.41-.59l7.78-7.78 2.81-2.81c.8-.78.8-2.07 0-2.86zM5.41 20L4 18.59l7.72-7.72 1.47 1.35L5.41 20z\"/>\n",
              "  </svg>\n",
              "      </button>\n",
              "      \n",
              "  <style>\n",
              "    .colab-df-container {\n",
              "      display:flex;\n",
              "      flex-wrap:wrap;\n",
              "      gap: 12px;\n",
              "    }\n",
              "\n",
              "    .colab-df-convert {\n",
              "      background-color: #E8F0FE;\n",
              "      border: none;\n",
              "      border-radius: 50%;\n",
              "      cursor: pointer;\n",
              "      display: none;\n",
              "      fill: #1967D2;\n",
              "      height: 32px;\n",
              "      padding: 0 0 0 0;\n",
              "      width: 32px;\n",
              "    }\n",
              "\n",
              "    .colab-df-convert:hover {\n",
              "      background-color: #E2EBFA;\n",
              "      box-shadow: 0px 1px 2px rgba(60, 64, 67, 0.3), 0px 1px 3px 1px rgba(60, 64, 67, 0.15);\n",
              "      fill: #174EA6;\n",
              "    }\n",
              "\n",
              "    [theme=dark] .colab-df-convert {\n",
              "      background-color: #3B4455;\n",
              "      fill: #D2E3FC;\n",
              "    }\n",
              "\n",
              "    [theme=dark] .colab-df-convert:hover {\n",
              "      background-color: #434B5C;\n",
              "      box-shadow: 0px 1px 3px 1px rgba(0, 0, 0, 0.15);\n",
              "      filter: drop-shadow(0px 1px 2px rgba(0, 0, 0, 0.3));\n",
              "      fill: #FFFFFF;\n",
              "    }\n",
              "  </style>\n",
              "\n",
              "      <script>\n",
              "        const buttonEl =\n",
              "          document.querySelector('#df-3a102ca3-13aa-44fe-aea5-74ed7195f7bc button.colab-df-convert');\n",
              "        buttonEl.style.display =\n",
              "          google.colab.kernel.accessAllowed ? 'block' : 'none';\n",
              "\n",
              "        async function convertToInteractive(key) {\n",
              "          const element = document.querySelector('#df-3a102ca3-13aa-44fe-aea5-74ed7195f7bc');\n",
              "          const dataTable =\n",
              "            await google.colab.kernel.invokeFunction('convertToInteractive',\n",
              "                                                     [key], {});\n",
              "          if (!dataTable) return;\n",
              "\n",
              "          const docLinkHtml = 'Like what you see? Visit the ' +\n",
              "            '<a target=\"_blank\" href=https://colab.research.google.com/notebooks/data_table.ipynb>data table notebook</a>'\n",
              "            + ' to learn more about interactive tables.';\n",
              "          element.innerHTML = '';\n",
              "          dataTable['output_type'] = 'display_data';\n",
              "          await google.colab.output.renderOutput(dataTable, element);\n",
              "          const docLink = document.createElement('div');\n",
              "          docLink.innerHTML = docLinkHtml;\n",
              "          element.appendChild(docLink);\n",
              "        }\n",
              "      </script>\n",
              "    </div>\n",
              "  </div>\n",
              "  "
            ]
          },
          "metadata": {},
          "execution_count": 4
        }
      ]
    },
    {
      "cell_type": "markdown",
      "source": [
        "In this Dataset **quality** is our target column. Which has unique integer values in between 0 to 10."
      ],
      "metadata": {
        "id": "Rx64BQsnt6oM"
      }
    },
    {
      "cell_type": "code",
      "source": [
        "df.shape"
      ],
      "metadata": {
        "colab": {
          "base_uri": "https://localhost:8080/"
        },
        "id": "qrYzO-rvtRmY",
        "outputId": "41decc31-f73d-4207-8ab4-f7b0874ac9b0"
      },
      "execution_count": null,
      "outputs": [
        {
          "output_type": "execute_result",
          "data": {
            "text/plain": [
              "(1143, 13)"
            ]
          },
          "metadata": {},
          "execution_count": 5
        }
      ]
    },
    {
      "cell_type": "code",
      "source": [
        "df.drop('Id', axis= 1, inplace= True)"
      ],
      "metadata": {
        "id": "am6eEQd4uQvP"
      },
      "execution_count": null,
      "outputs": []
    },
    {
      "cell_type": "markdown",
      "source": [
        "**Data Exploration**"
      ],
      "metadata": {
        "id": "mltwEa4uuZmz"
      }
    },
    {
      "cell_type": "code",
      "source": [
        "df.info()"
      ],
      "metadata": {
        "colab": {
          "base_uri": "https://localhost:8080/"
        },
        "id": "ZB_hVx9ltg6X",
        "outputId": "85683c00-4cf4-434b-8726-0ee4210d9fcd"
      },
      "execution_count": null,
      "outputs": [
        {
          "output_type": "stream",
          "name": "stdout",
          "text": [
            "<class 'pandas.core.frame.DataFrame'>\n",
            "RangeIndex: 1143 entries, 0 to 1142\n",
            "Data columns (total 12 columns):\n",
            " #   Column                Non-Null Count  Dtype  \n",
            "---  ------                --------------  -----  \n",
            " 0   fixed acidity         1143 non-null   float64\n",
            " 1   volatile acidity      1143 non-null   float64\n",
            " 2   citric acid           1143 non-null   float64\n",
            " 3   residual sugar        1143 non-null   float64\n",
            " 4   chlorides             1143 non-null   float64\n",
            " 5   free sulfur dioxide   1143 non-null   float64\n",
            " 6   total sulfur dioxide  1143 non-null   float64\n",
            " 7   density               1143 non-null   float64\n",
            " 8   pH                    1143 non-null   float64\n",
            " 9   sulphates             1143 non-null   float64\n",
            " 10  alcohol               1143 non-null   float64\n",
            " 11  quality               1143 non-null   int64  \n",
            "dtypes: float64(11), int64(1)\n",
            "memory usage: 107.3 KB\n"
          ]
        }
      ]
    },
    {
      "cell_type": "markdown",
      "source": [
        "Here:-\n",
        "\n",
        "*   All the feature columns have data-type **float64**\n",
        "*   **Quality (target)** columns have data-type **integer**.\n",
        "\n"
      ],
      "metadata": {
        "id": "yESUj5vKulX_"
      }
    },
    {
      "cell_type": "code",
      "source": [
        "df.describe()"
      ],
      "metadata": {
        "colab": {
          "base_uri": "https://localhost:8080/",
          "height": 362
        },
        "id": "ob2VdUunuhoY",
        "outputId": "ee1b16ca-7e2f-485f-dc8a-be7566f2e868"
      },
      "execution_count": null,
      "outputs": [
        {
          "output_type": "execute_result",
          "data": {
            "text/plain": [
              "       fixed acidity  volatile acidity  citric acid  residual sugar  \\\n",
              "count    1143.000000       1143.000000  1143.000000     1143.000000   \n",
              "mean        8.311111          0.531339     0.268364        2.532152   \n",
              "std         1.747595          0.179633     0.196686        1.355917   \n",
              "min         4.600000          0.120000     0.000000        0.900000   \n",
              "25%         7.100000          0.392500     0.090000        1.900000   \n",
              "50%         7.900000          0.520000     0.250000        2.200000   \n",
              "75%         9.100000          0.640000     0.420000        2.600000   \n",
              "max        15.900000          1.580000     1.000000       15.500000   \n",
              "\n",
              "         chlorides  free sulfur dioxide  total sulfur dioxide      density  \\\n",
              "count  1143.000000          1143.000000           1143.000000  1143.000000   \n",
              "mean      0.086933            15.615486             45.914698     0.996730   \n",
              "std       0.047267            10.250486             32.782130     0.001925   \n",
              "min       0.012000             1.000000              6.000000     0.990070   \n",
              "25%       0.070000             7.000000             21.000000     0.995570   \n",
              "50%       0.079000            13.000000             37.000000     0.996680   \n",
              "75%       0.090000            21.000000             61.000000     0.997845   \n",
              "max       0.611000            68.000000            289.000000     1.003690   \n",
              "\n",
              "                pH    sulphates      alcohol      quality  \n",
              "count  1143.000000  1143.000000  1143.000000  1143.000000  \n",
              "mean      3.311015     0.657708    10.442111     5.657043  \n",
              "std       0.156664     0.170399     1.082196     0.805824  \n",
              "min       2.740000     0.330000     8.400000     3.000000  \n",
              "25%       3.205000     0.550000     9.500000     5.000000  \n",
              "50%       3.310000     0.620000    10.200000     6.000000  \n",
              "75%       3.400000     0.730000    11.100000     6.000000  \n",
              "max       4.010000     2.000000    14.900000     8.000000  "
            ],
            "text/html": [
              "\n",
              "  <div id=\"df-c88aea2c-f296-464c-93a2-1c5d375ddc62\">\n",
              "    <div class=\"colab-df-container\">\n",
              "      <div>\n",
              "<style scoped>\n",
              "    .dataframe tbody tr th:only-of-type {\n",
              "        vertical-align: middle;\n",
              "    }\n",
              "\n",
              "    .dataframe tbody tr th {\n",
              "        vertical-align: top;\n",
              "    }\n",
              "\n",
              "    .dataframe thead th {\n",
              "        text-align: right;\n",
              "    }\n",
              "</style>\n",
              "<table border=\"1\" class=\"dataframe\">\n",
              "  <thead>\n",
              "    <tr style=\"text-align: right;\">\n",
              "      <th></th>\n",
              "      <th>fixed acidity</th>\n",
              "      <th>volatile acidity</th>\n",
              "      <th>citric acid</th>\n",
              "      <th>residual sugar</th>\n",
              "      <th>chlorides</th>\n",
              "      <th>free sulfur dioxide</th>\n",
              "      <th>total sulfur dioxide</th>\n",
              "      <th>density</th>\n",
              "      <th>pH</th>\n",
              "      <th>sulphates</th>\n",
              "      <th>alcohol</th>\n",
              "      <th>quality</th>\n",
              "    </tr>\n",
              "  </thead>\n",
              "  <tbody>\n",
              "    <tr>\n",
              "      <th>count</th>\n",
              "      <td>1143.000000</td>\n",
              "      <td>1143.000000</td>\n",
              "      <td>1143.000000</td>\n",
              "      <td>1143.000000</td>\n",
              "      <td>1143.000000</td>\n",
              "      <td>1143.000000</td>\n",
              "      <td>1143.000000</td>\n",
              "      <td>1143.000000</td>\n",
              "      <td>1143.000000</td>\n",
              "      <td>1143.000000</td>\n",
              "      <td>1143.000000</td>\n",
              "      <td>1143.000000</td>\n",
              "    </tr>\n",
              "    <tr>\n",
              "      <th>mean</th>\n",
              "      <td>8.311111</td>\n",
              "      <td>0.531339</td>\n",
              "      <td>0.268364</td>\n",
              "      <td>2.532152</td>\n",
              "      <td>0.086933</td>\n",
              "      <td>15.615486</td>\n",
              "      <td>45.914698</td>\n",
              "      <td>0.996730</td>\n",
              "      <td>3.311015</td>\n",
              "      <td>0.657708</td>\n",
              "      <td>10.442111</td>\n",
              "      <td>5.657043</td>\n",
              "    </tr>\n",
              "    <tr>\n",
              "      <th>std</th>\n",
              "      <td>1.747595</td>\n",
              "      <td>0.179633</td>\n",
              "      <td>0.196686</td>\n",
              "      <td>1.355917</td>\n",
              "      <td>0.047267</td>\n",
              "      <td>10.250486</td>\n",
              "      <td>32.782130</td>\n",
              "      <td>0.001925</td>\n",
              "      <td>0.156664</td>\n",
              "      <td>0.170399</td>\n",
              "      <td>1.082196</td>\n",
              "      <td>0.805824</td>\n",
              "    </tr>\n",
              "    <tr>\n",
              "      <th>min</th>\n",
              "      <td>4.600000</td>\n",
              "      <td>0.120000</td>\n",
              "      <td>0.000000</td>\n",
              "      <td>0.900000</td>\n",
              "      <td>0.012000</td>\n",
              "      <td>1.000000</td>\n",
              "      <td>6.000000</td>\n",
              "      <td>0.990070</td>\n",
              "      <td>2.740000</td>\n",
              "      <td>0.330000</td>\n",
              "      <td>8.400000</td>\n",
              "      <td>3.000000</td>\n",
              "    </tr>\n",
              "    <tr>\n",
              "      <th>25%</th>\n",
              "      <td>7.100000</td>\n",
              "      <td>0.392500</td>\n",
              "      <td>0.090000</td>\n",
              "      <td>1.900000</td>\n",
              "      <td>0.070000</td>\n",
              "      <td>7.000000</td>\n",
              "      <td>21.000000</td>\n",
              "      <td>0.995570</td>\n",
              "      <td>3.205000</td>\n",
              "      <td>0.550000</td>\n",
              "      <td>9.500000</td>\n",
              "      <td>5.000000</td>\n",
              "    </tr>\n",
              "    <tr>\n",
              "      <th>50%</th>\n",
              "      <td>7.900000</td>\n",
              "      <td>0.520000</td>\n",
              "      <td>0.250000</td>\n",
              "      <td>2.200000</td>\n",
              "      <td>0.079000</td>\n",
              "      <td>13.000000</td>\n",
              "      <td>37.000000</td>\n",
              "      <td>0.996680</td>\n",
              "      <td>3.310000</td>\n",
              "      <td>0.620000</td>\n",
              "      <td>10.200000</td>\n",
              "      <td>6.000000</td>\n",
              "    </tr>\n",
              "    <tr>\n",
              "      <th>75%</th>\n",
              "      <td>9.100000</td>\n",
              "      <td>0.640000</td>\n",
              "      <td>0.420000</td>\n",
              "      <td>2.600000</td>\n",
              "      <td>0.090000</td>\n",
              "      <td>21.000000</td>\n",
              "      <td>61.000000</td>\n",
              "      <td>0.997845</td>\n",
              "      <td>3.400000</td>\n",
              "      <td>0.730000</td>\n",
              "      <td>11.100000</td>\n",
              "      <td>6.000000</td>\n",
              "    </tr>\n",
              "    <tr>\n",
              "      <th>max</th>\n",
              "      <td>15.900000</td>\n",
              "      <td>1.580000</td>\n",
              "      <td>1.000000</td>\n",
              "      <td>15.500000</td>\n",
              "      <td>0.611000</td>\n",
              "      <td>68.000000</td>\n",
              "      <td>289.000000</td>\n",
              "      <td>1.003690</td>\n",
              "      <td>4.010000</td>\n",
              "      <td>2.000000</td>\n",
              "      <td>14.900000</td>\n",
              "      <td>8.000000</td>\n",
              "    </tr>\n",
              "  </tbody>\n",
              "</table>\n",
              "</div>\n",
              "      <button class=\"colab-df-convert\" onclick=\"convertToInteractive('df-c88aea2c-f296-464c-93a2-1c5d375ddc62')\"\n",
              "              title=\"Convert this dataframe to an interactive table.\"\n",
              "              style=\"display:none;\">\n",
              "        \n",
              "  <svg xmlns=\"http://www.w3.org/2000/svg\" height=\"24px\"viewBox=\"0 0 24 24\"\n",
              "       width=\"24px\">\n",
              "    <path d=\"M0 0h24v24H0V0z\" fill=\"none\"/>\n",
              "    <path d=\"M18.56 5.44l.94 2.06.94-2.06 2.06-.94-2.06-.94-.94-2.06-.94 2.06-2.06.94zm-11 1L8.5 8.5l.94-2.06 2.06-.94-2.06-.94L8.5 2.5l-.94 2.06-2.06.94zm10 10l.94 2.06.94-2.06 2.06-.94-2.06-.94-.94-2.06-.94 2.06-2.06.94z\"/><path d=\"M17.41 7.96l-1.37-1.37c-.4-.4-.92-.59-1.43-.59-.52 0-1.04.2-1.43.59L10.3 9.45l-7.72 7.72c-.78.78-.78 2.05 0 2.83L4 21.41c.39.39.9.59 1.41.59.51 0 1.02-.2 1.41-.59l7.78-7.78 2.81-2.81c.8-.78.8-2.07 0-2.86zM5.41 20L4 18.59l7.72-7.72 1.47 1.35L5.41 20z\"/>\n",
              "  </svg>\n",
              "      </button>\n",
              "      \n",
              "  <style>\n",
              "    .colab-df-container {\n",
              "      display:flex;\n",
              "      flex-wrap:wrap;\n",
              "      gap: 12px;\n",
              "    }\n",
              "\n",
              "    .colab-df-convert {\n",
              "      background-color: #E8F0FE;\n",
              "      border: none;\n",
              "      border-radius: 50%;\n",
              "      cursor: pointer;\n",
              "      display: none;\n",
              "      fill: #1967D2;\n",
              "      height: 32px;\n",
              "      padding: 0 0 0 0;\n",
              "      width: 32px;\n",
              "    }\n",
              "\n",
              "    .colab-df-convert:hover {\n",
              "      background-color: #E2EBFA;\n",
              "      box-shadow: 0px 1px 2px rgba(60, 64, 67, 0.3), 0px 1px 3px 1px rgba(60, 64, 67, 0.15);\n",
              "      fill: #174EA6;\n",
              "    }\n",
              "\n",
              "    [theme=dark] .colab-df-convert {\n",
              "      background-color: #3B4455;\n",
              "      fill: #D2E3FC;\n",
              "    }\n",
              "\n",
              "    [theme=dark] .colab-df-convert:hover {\n",
              "      background-color: #434B5C;\n",
              "      box-shadow: 0px 1px 3px 1px rgba(0, 0, 0, 0.15);\n",
              "      filter: drop-shadow(0px 1px 2px rgba(0, 0, 0, 0.3));\n",
              "      fill: #FFFFFF;\n",
              "    }\n",
              "  </style>\n",
              "\n",
              "      <script>\n",
              "        const buttonEl =\n",
              "          document.querySelector('#df-c88aea2c-f296-464c-93a2-1c5d375ddc62 button.colab-df-convert');\n",
              "        buttonEl.style.display =\n",
              "          google.colab.kernel.accessAllowed ? 'block' : 'none';\n",
              "\n",
              "        async function convertToInteractive(key) {\n",
              "          const element = document.querySelector('#df-c88aea2c-f296-464c-93a2-1c5d375ddc62');\n",
              "          const dataTable =\n",
              "            await google.colab.kernel.invokeFunction('convertToInteractive',\n",
              "                                                     [key], {});\n",
              "          if (!dataTable) return;\n",
              "\n",
              "          const docLinkHtml = 'Like what you see? Visit the ' +\n",
              "            '<a target=\"_blank\" href=https://colab.research.google.com/notebooks/data_table.ipynb>data table notebook</a>'\n",
              "            + ' to learn more about interactive tables.';\n",
              "          element.innerHTML = '';\n",
              "          dataTable['output_type'] = 'display_data';\n",
              "          await google.colab.output.renderOutput(dataTable, element);\n",
              "          const docLink = document.createElement('div');\n",
              "          docLink.innerHTML = docLinkHtml;\n",
              "          element.appendChild(docLink);\n",
              "        }\n",
              "      </script>\n",
              "    </div>\n",
              "  </div>\n",
              "  "
            ]
          },
          "metadata": {},
          "execution_count": 8
        }
      ]
    },
    {
      "cell_type": "code",
      "source": [
        "df.quality.unique()"
      ],
      "metadata": {
        "colab": {
          "base_uri": "https://localhost:8080/"
        },
        "id": "j-ctrrdevacG",
        "outputId": "3a788071-976b-4d83-84e0-0f254fba28e9"
      },
      "execution_count": null,
      "outputs": [
        {
          "output_type": "execute_result",
          "data": {
            "text/plain": [
              "array([5, 6, 7, 4, 8, 3])"
            ]
          },
          "metadata": {},
          "execution_count": 9
        }
      ]
    },
    {
      "cell_type": "markdown",
      "source": [
        "All observation have **quality** ranking from from 3 to 8. Means No wine is extremely bad and no wine is excellent."
      ],
      "metadata": {
        "id": "lUQykCuCvhkI"
      }
    },
    {
      "cell_type": "code",
      "source": [
        "df.quality.value_counts()"
      ],
      "metadata": {
        "colab": {
          "base_uri": "https://localhost:8080/"
        },
        "id": "uwoi9X0VyLkY",
        "outputId": "25a5ad85-692f-4277-8ad0-a8749111eba4"
      },
      "execution_count": null,
      "outputs": [
        {
          "output_type": "execute_result",
          "data": {
            "text/plain": [
              "5    483\n",
              "6    462\n",
              "7    143\n",
              "4     33\n",
              "8     16\n",
              "3      6\n",
              "Name: quality, dtype: int64"
            ]
          },
          "metadata": {},
          "execution_count": 10
        }
      ]
    },
    {
      "cell_type": "markdown",
      "source": [
        "Again, It is clear that very bad and excellent wines are very small in number "
      ],
      "metadata": {
        "id": "tM43SfDNyUZt"
      }
    },
    {
      "cell_type": "markdown",
      "source": [
        "**Data Visualization**"
      ],
      "metadata": {
        "id": "t8P0RY4pvTYK"
      }
    },
    {
      "cell_type": "code",
      "source": [
        "mask = np.triu(np.ones_like(df.corr()))\n",
        "dataplot = sns.heatmap(df.corr(), cmap=\"YlGnBu\", annot=True, mask=mask)\n",
        "plt.show()"
      ],
      "metadata": {
        "colab": {
          "base_uri": "https://localhost:8080/",
          "height": 496
        },
        "id": "cMqv26MxvD5Y",
        "outputId": "7f3f1ec1-fda2-4feb-ecf1-35f5cbf193f1"
      },
      "execution_count": null,
      "outputs": [
        {
          "output_type": "display_data",
          "data": {
            "text/plain": [
              "<Figure size 720x432 with 2 Axes>"
            ],
            "image/png": "[encoded data removed]"
          },
          "metadata": {
            "needs_background": "light"
          }
        }
      ]
    },
    {
      "cell_type": "markdown",
      "source": [
        "It is clear that, correlation with target column to feature columns:-\n",
        "\n",
        "*   **Postive correlation:** alcohol, sulphates residual sugar, citric acid, fixed acidity \n",
        "*   **Negative correlation:** volatile acidity, chlorides, total sulfur dioxide, density, pH\n",
        "\n"
      ],
      "metadata": {
        "id": "PWg0Uxuzw0Bi"
      }
    },
    {
      "cell_type": "code",
      "source": [
        "df.head(1)"
      ],
      "metadata": {
        "colab": {
          "base_uri": "https://localhost:8080/",
          "height": 125
        },
        "id": "fHozIkM2yCYC",
        "outputId": "12b075c9-cb4e-4813-ea45-fb652ed1f7af"
      },
      "execution_count": null,
      "outputs": [
        {
          "output_type": "execute_result",
          "data": {
            "text/plain": [
              "   fixed acidity  volatile acidity  citric acid  residual sugar  chlorides  \\\n",
              "0            7.4               0.7          0.0             1.9      0.076   \n",
              "\n",
              "   free sulfur dioxide  total sulfur dioxide  density    pH  sulphates  \\\n",
              "0                 11.0                  34.0   0.9978  3.51       0.56   \n",
              "\n",
              "   alcohol  quality  \n",
              "0      9.4        5  "
            ],
            "text/html": [
              "\n",
              "  <div id=\"df-384a92af-b8c3-447f-bc81-e44d94731acf\">\n",
              "    <div class=\"colab-df-container\">\n",
              "      <div>\n",
              "<style scoped>\n",
              "    .dataframe tbody tr th:only-of-type {\n",
              "        vertical-align: middle;\n",
              "    }\n",
              "\n",
              "    .dataframe tbody tr th {\n",
              "        vertical-align: top;\n",
              "    }\n",
              "\n",
              "    .dataframe thead th {\n",
              "        text-align: right;\n",
              "    }\n",
              "</style>\n",
              "<table border=\"1\" class=\"dataframe\">\n",
              "  <thead>\n",
              "    <tr style=\"text-align: right;\">\n",
              "      <th></th>\n",
              "      <th>fixed acidity</th>\n",
              "      <th>volatile acidity</th>\n",
              "      <th>citric acid</th>\n",
              "      <th>residual sugar</th>\n",
              "      <th>chlorides</th>\n",
              "      <th>free sulfur dioxide</th>\n",
              "      <th>total sulfur dioxide</th>\n",
              "      <th>density</th>\n",
              "      <th>pH</th>\n",
              "      <th>sulphates</th>\n",
              "      <th>alcohol</th>\n",
              "      <th>quality</th>\n",
              "    </tr>\n",
              "  </thead>\n",
              "  <tbody>\n",
              "    <tr>\n",
              "      <th>0</th>\n",
              "      <td>7.4</td>\n",
              "      <td>0.7</td>\n",
              "      <td>0.0</td>\n",
              "      <td>1.9</td>\n",
              "      <td>0.076</td>\n",
              "      <td>11.0</td>\n",
              "      <td>34.0</td>\n",
              "      <td>0.9978</td>\n",
              "      <td>3.51</td>\n",
              "      <td>0.56</td>\n",
              "      <td>9.4</td>\n",
              "      <td>5</td>\n",
              "    </tr>\n",
              "  </tbody>\n",
              "</table>\n",
              "</div>\n",
              "      <button class=\"colab-df-convert\" onclick=\"convertToInteractive('df-384a92af-b8c3-447f-bc81-e44d94731acf')\"\n",
              "              title=\"Convert this dataframe to an interactive table.\"\n",
              "              style=\"display:none;\">\n",
              "        \n",
              "  <svg xmlns=\"http://www.w3.org/2000/svg\" height=\"24px\"viewBox=\"0 0 24 24\"\n",
              "       width=\"24px\">\n",
              "    <path d=\"M0 0h24v24H0V0z\" fill=\"none\"/>\n",
              "    <path d=\"M18.56 5.44l.94 2.06.94-2.06 2.06-.94-2.06-.94-.94-2.06-.94 2.06-2.06.94zm-11 1L8.5 8.5l.94-2.06 2.06-.94-2.06-.94L8.5 2.5l-.94 2.06-2.06.94zm10 10l.94 2.06.94-2.06 2.06-.94-2.06-.94-.94-2.06-.94 2.06-2.06.94z\"/><path d=\"M17.41 7.96l-1.37-1.37c-.4-.4-.92-.59-1.43-.59-.52 0-1.04.2-1.43.59L10.3 9.45l-7.72 7.72c-.78.78-.78 2.05 0 2.83L4 21.41c.39.39.9.59 1.41.59.51 0 1.02-.2 1.41-.59l7.78-7.78 2.81-2.81c.8-.78.8-2.07 0-2.86zM5.41 20L4 18.59l7.72-7.72 1.47 1.35L5.41 20z\"/>\n",
              "  </svg>\n",
              "      </button>\n",
              "      \n",
              "  <style>\n",
              "    .colab-df-container {\n",
              "      display:flex;\n",
              "      flex-wrap:wrap;\n",
              "      gap: 12px;\n",
              "    }\n",
              "\n",
              "    .colab-df-convert {\n",
              "      background-color: #E8F0FE;\n",
              "      border: none;\n",
              "      border-radius: 50%;\n",
              "      cursor: pointer;\n",
              "      display: none;\n",
              "      fill: #1967D2;\n",
              "      height: 32px;\n",
              "      padding: 0 0 0 0;\n",
              "      width: 32px;\n",
              "    }\n",
              "\n",
              "    .colab-df-convert:hover {\n",
              "      background-color: #E2EBFA;\n",
              "      box-shadow: 0px 1px 2px rgba(60, 64, 67, 0.3), 0px 1px 3px 1px rgba(60, 64, 67, 0.15);\n",
              "      fill: #174EA6;\n",
              "    }\n",
              "\n",
              "    [theme=dark] .colab-df-convert {\n",
              "      background-color: #3B4455;\n",
              "      fill: #D2E3FC;\n",
              "    }\n",
              "\n",
              "    [theme=dark] .colab-df-convert:hover {\n",
              "      background-color: #434B5C;\n",
              "      box-shadow: 0px 1px 3px 1px rgba(0, 0, 0, 0.15);\n",
              "      filter: drop-shadow(0px 1px 2px rgba(0, 0, 0, 0.3));\n",
              "      fill: #FFFFFF;\n",
              "    }\n",
              "  </style>\n",
              "\n",
              "      <script>\n",
              "        const buttonEl =\n",
              "          document.querySelector('#df-384a92af-b8c3-447f-bc81-e44d94731acf button.colab-df-convert');\n",
              "        buttonEl.style.display =\n",
              "          google.colab.kernel.accessAllowed ? 'block' : 'none';\n",
              "\n",
              "        async function convertToInteractive(key) {\n",
              "          const element = document.querySelector('#df-384a92af-b8c3-447f-bc81-e44d94731acf');\n",
              "          const dataTable =\n",
              "            await google.colab.kernel.invokeFunction('convertToInteractive',\n",
              "                                                     [key], {});\n",
              "          if (!dataTable) return;\n",
              "\n",
              "          const docLinkHtml = 'Like what you see? Visit the ' +\n",
              "            '<a target=\"_blank\" href=https://colab.research.google.com/notebooks/data_table.ipynb>data table notebook</a>'\n",
              "            + ' to learn more about interactive tables.';\n",
              "          element.innerHTML = '';\n",
              "          dataTable['output_type'] = 'display_data';\n",
              "          await google.colab.output.renderOutput(dataTable, element);\n",
              "          const docLink = document.createElement('div');\n",
              "          docLink.innerHTML = docLinkHtml;\n",
              "          element.appendChild(docLink);\n",
              "        }\n",
              "      </script>\n",
              "    </div>\n",
              "  </div>\n",
              "  "
            ]
          },
          "metadata": {},
          "execution_count": 12
        }
      ]
    },
    {
      "cell_type": "code",
      "source": [
        "fig, axes = plt.subplots(6,2, figsize=(10, 20))\n",
        "sns.distplot(df['fixed acidity'],label='Fixed Acidity', ax=axes[0,0]);\n",
        "\n",
        "sns.distplot(df['volatile acidity'],label='volatile acidity', ax=axes[0,1]);\n",
        "\n",
        "sns.distplot(df['citric acid'],label='citric acid', ax=axes[1,0]);\n",
        "\n",
        "sns.distplot(df['residual sugar'],label='residual sugar', ax=axes[1,1]);\n",
        "\n",
        "sns.distplot(df['chlorides'],label='chlorides', ax=axes[2,0]);\n",
        "\n",
        "sns.distplot(df['free sulfur dioxide'],label='free sulfur dioxide', ax=axes[2,1]);\n",
        "\n",
        "sns.distplot(df['free sulfur dioxide'],label='free sulfur dioxide', ax=axes[3,0]);\n",
        "\n",
        "sns.distplot(df['fixed acidity'],label='Fixed Acidity', ax=axes[3,1]);\n",
        "\n",
        "sns.distplot(df['density'],label='density', ax=axes[4,0]);\n",
        "\n",
        "sns.distplot(df['pH'],label='pH', ax=axes[4,1]);\n",
        "\n",
        "sns.distplot(df['sulphates'],label='sulphates', ax=axes[5,0]);\n",
        "\n",
        "sns.distplot(df['alcohol'],label='alcohol', ax=axes[5,1]);\n",
        "\n",
        "import warnings\n",
        "warnings.filterwarnings(\"ignore\")"
      ],
      "metadata": {
        "colab": {
          "base_uri": "https://localhost:8080/",
          "height": 1000
        },
        "id": "A1eoMU1W06bf",
        "outputId": "df62c064-8dfd-40d7-df1b-80975251580c"
      },
      "execution_count": null,
      "outputs": [
        {
          "output_type": "stream",
          "name": "stderr",
          "text": [
            "/usr/local/lib/python3.7/dist-packages/seaborn/distributions.py:2619: FutureWarning: `distplot` is a deprecated function and will be removed in a future version. Please adapt your code to use either `displot` (a figure-level function with similar flexibility) or `histplot` (an axes-level function for histograms).\n",
            "  warnings.warn(msg, FutureWarning)\n",
            "/usr/local/lib/python3.7/dist-packages/seaborn/distributions.py:2619: FutureWarning: `distplot` is a deprecated function and will be removed in a future version. Please adapt your code to use either `displot` (a figure-level function with similar flexibility) or `histplot` (an axes-level function for histograms).\n",
            "  warnings.warn(msg, FutureWarning)\n",
            "/usr/local/lib/python3.7/dist-packages/seaborn/distributions.py:2619: FutureWarning: `distplot` is a deprecated function and will be removed in a future version. Please adapt your code to use either `displot` (a figure-level function with similar flexibility) or `histplot` (an axes-level function for histograms).\n",
            "  warnings.warn(msg, FutureWarning)\n",
            "/usr/local/lib/python3.7/dist-packages/seaborn/distributions.py:2619: FutureWarning: `distplot` is a deprecated function and will be removed in a future version. Please adapt your code to use either `displot` (a figure-level function with similar flexibility) or `histplot` (an axes-level function for histograms).\n",
            "  warnings.warn(msg, FutureWarning)\n",
            "/usr/local/lib/python3.7/dist-packages/seaborn/distributions.py:2619: FutureWarning: `distplot` is a deprecated function and will be removed in a future version. Please adapt your code to use either `displot` (a figure-level function with similar flexibility) or `histplot` (an axes-level function for histograms).\n",
            "  warnings.warn(msg, FutureWarning)\n",
            "/usr/local/lib/python3.7/dist-packages/seaborn/distributions.py:2619: FutureWarning: `distplot` is a deprecated function and will be removed in a future version. Please adapt your code to use either `displot` (a figure-level function with similar flexibility) or `histplot` (an axes-level function for histograms).\n",
            "  warnings.warn(msg, FutureWarning)\n",
            "/usr/local/lib/python3.7/dist-packages/seaborn/distributions.py:2619: FutureWarning: `distplot` is a deprecated function and will be removed in a future version. Please adapt your code to use either `displot` (a figure-level function with similar flexibility) or `histplot` (an axes-level function for histograms).\n",
            "  warnings.warn(msg, FutureWarning)\n",
            "/usr/local/lib/python3.7/dist-packages/seaborn/distributions.py:2619: FutureWarning: `distplot` is a deprecated function and will be removed in a future version. Please adapt your code to use either `displot` (a figure-level function with similar flexibility) or `histplot` (an axes-level function for histograms).\n",
            "  warnings.warn(msg, FutureWarning)\n",
            "/usr/local/lib/python3.7/dist-packages/seaborn/distributions.py:2619: FutureWarning: `distplot` is a deprecated function and will be removed in a future version. Please adapt your code to use either `displot` (a figure-level function with similar flexibility) or `histplot` (an axes-level function for histograms).\n",
            "  warnings.warn(msg, FutureWarning)\n",
            "/usr/local/lib/python3.7/dist-packages/seaborn/distributions.py:2619: FutureWarning: `distplot` is a deprecated function and will be removed in a future version. Please adapt your code to use either `displot` (a figure-level function with similar flexibility) or `histplot` (an axes-level function for histograms).\n",
            "  warnings.warn(msg, FutureWarning)\n",
            "/usr/local/lib/python3.7/dist-packages/seaborn/distributions.py:2619: FutureWarning: `distplot` is a deprecated function and will be removed in a future version. Please adapt your code to use either `displot` (a figure-level function with similar flexibility) or `histplot` (an axes-level function for histograms).\n",
            "  warnings.warn(msg, FutureWarning)\n",
            "/usr/local/lib/python3.7/dist-packages/seaborn/distributions.py:2619: FutureWarning: `distplot` is a deprecated function and will be removed in a future version. Please adapt your code to use either `displot` (a figure-level function with similar flexibility) or `histplot` (an axes-level function for histograms).\n",
            "  warnings.warn(msg, FutureWarning)\n"
          ]
        },
        {
          "output_type": "display_data",
          "data": {
            "text/plain": [
              "<Figure size 720x1440 with 12 Axes>"
            ],
            "image/png": "[encoded data removed]"
          },
          "metadata": {
            "needs_background": "light"
          }
        }
      ]
    },
    {
      "cell_type": "code",
      "source": [
        "fig, axes = plt.subplots(6,2, figsize=(10, 20))\n",
        "sns.boxplot(df['fixed acidity'], ax=axes[0,0]);\n",
        "\n",
        "sns.boxplot(df['volatile acidity'], ax=axes[0,1]);\n",
        "\n",
        "sns.boxplot(df['citric acid'], ax=axes[1,0]);\n",
        "\n",
        "sns.boxplot(df['residual sugar'], ax=axes[1,1]);\n",
        "\n",
        "sns.boxplot(df['chlorides'], ax=axes[2,0]);\n",
        "\n",
        "sns.boxplot(df['free sulfur dioxide'], ax=axes[2,1]);\n",
        "\n",
        "sns.boxplot(df['free sulfur dioxide'], ax=axes[3,0]);\n",
        "\n",
        "sns.boxplot(df['fixed acidity'], ax=axes[3,1]);\n",
        "\n",
        "sns.boxplot(df['density'], ax=axes[4,0]);\n",
        "\n",
        "sns.boxplot(df['pH'], ax=axes[4,1]);\n",
        "\n",
        "sns.boxplot(df['sulphates'], ax=axes[5,0]);\n",
        "\n",
        "sns.boxplot(df['alcohol'], ax=axes[5,1]);\n",
        "\n",
        "import warnings\n",
        "warnings.filterwarnings(\"ignore\")"
      ],
      "metadata": {
        "colab": {
          "base_uri": "https://localhost:8080/",
          "height": 1000
        },
        "id": "S-pLrp_v3OPm",
        "outputId": "ab55aed7-4bf8-4aae-f347-7b016686b349"
      },
      "execution_count": null,
      "outputs": [
        {
          "output_type": "display_data",
          "data": {
            "text/plain": [
              "<Figure size 720x1440 with 12 Axes>"
            ],
            "image/png": "[encoded data removed]"
          },
          "metadata": {
            "needs_background": "light"
          }
        }
      ]
    },
    {
      "cell_type": "markdown",
      "source": [
        "**Train Test Split**"
      ],
      "metadata": {
        "id": "q2yFNca9B592"
      }
    },
    {
      "cell_type": "code",
      "source": [
        "from sklearn.model_selection import train_test_split\n",
        "X = df.drop('quality', axis= 1)\n",
        "y = df['quality']"
      ],
      "metadata": {
        "id": "WbCKG_chB5fV"
      },
      "execution_count": null,
      "outputs": []
    },
    {
      "cell_type": "code",
      "source": [
        "X_train, X_test, y_train, y_test = train_test_split(X,y,test_size= 0.2, random_state= 42, stratify= y)"
      ],
      "metadata": {
        "id": "WghFigfvFpHi"
      },
      "execution_count": null,
      "outputs": []
    },
    {
      "cell_type": "markdown",
      "source": [
        "**Decision Tree**"
      ],
      "metadata": {
        "id": "qeIyjDjkAOQf"
      }
    },
    {
      "cell_type": "code",
      "source": [
        "from sklearn.metrics import confusion_matrix"
      ],
      "metadata": {
        "id": "g2L_ugc7GHYG"
      },
      "execution_count": null,
      "outputs": []
    },
    {
      "cell_type": "code",
      "source": [
        "from sklearn.tree import DecisionTreeClassifier\n",
        "dt = DecisionTreeClassifier()\n",
        "dt.fit(X_train, y_train)"
      ],
      "metadata": {
        "colab": {
          "base_uri": "https://localhost:8080/"
        },
        "id": "i3XUpn1_-hlu",
        "outputId": "b1ada2da-35c4-482e-aba6-1477ad66ba32"
      },
      "execution_count": null,
      "outputs": [
        {
          "output_type": "execute_result",
          "data": {
            "text/plain": [
              "DecisionTreeClassifier()"
            ]
          },
          "metadata": {},
          "execution_count": 18
        }
      ]
    },
    {
      "cell_type": "code",
      "source": [
        "y_train_pred = dt.predict(X_train)\n",
        "print('Confusion Matrix: \\n',confusion_matrix(y_train, y_train_pred))\n",
        "print('Accuracy Score: ', dt.score(X_train, y_train))"
      ],
      "metadata": {
        "colab": {
          "base_uri": "https://localhost:8080/"
        },
        "id": "PgONd4MoDC45",
        "outputId": "26203620-043b-4681-885d-9f99e6948451"
      },
      "execution_count": null,
      "outputs": [
        {
          "output_type": "stream",
          "name": "stdout",
          "text": [
            "Confusion Matrix: \n",
            " [[  5   0   0   0   0   0]\n",
            " [  0  26   0   0   0   0]\n",
            " [  0   0 386   0   0   0]\n",
            " [  0   0   0 370   0   0]\n",
            " [  0   0   0   0 114   0]\n",
            " [  0   0   0   0   0  13]]\n",
            "Accuracy Score:  1.0\n"
          ]
        }
      ]
    },
    {
      "cell_type": "code",
      "source": [
        "y_test_pred = dt.predict(X_test)\n",
        "print('Confusion Matrix: \\n',confusion_matrix(y_test, y_test_pred))\n",
        "print('Accuracy Score: ', dt.score(X_test, y_test))"
      ],
      "metadata": {
        "colab": {
          "base_uri": "https://localhost:8080/"
        },
        "id": "gOLRi9YYGeoX",
        "outputId": "3904437c-f95e-48a0-f716-98da6da586ab"
      },
      "execution_count": null,
      "outputs": [
        {
          "output_type": "stream",
          "name": "stdout",
          "text": [
            "Confusion Matrix: \n",
            " [[ 0  0  1  0  0  0]\n",
            " [ 0  1  4  2  0  0]\n",
            " [ 0  3 70 23  1  0]\n",
            " [ 1  3 22 51 13  2]\n",
            " [ 0  0  4  7 18  0]\n",
            " [ 0  0  0  2  1  0]]\n",
            "Accuracy Score:  0.611353711790393\n"
          ]
        }
      ]
    },
    {
      "cell_type": "markdown",
      "source": [
        "model is **highly overfitted**"
      ],
      "metadata": {
        "id": "kptR0Pl9G3i3"
      }
    },
    {
      "cell_type": "markdown",
      "source": [
        "To reduce overfittng, we try differnet value of max_depth"
      ],
      "metadata": {
        "id": "sveocxyRJys2"
      }
    },
    {
      "cell_type": "code",
      "source": [
        "max_depth_range = np.arange(1,20,1)\n",
        "for x in max_depth_range:\n",
        "  dt = DecisionTreeClassifier(max_depth= x)\n",
        "  dt.fit(X_train, y_train)\n",
        "  print('for max_depth: ', x)\n",
        "  print('Accuracy Score train: ', dt.score(X_train, y_train))\n",
        "  print('Accuracy Score test: ', dt.score(X_test, y_test))\n",
        "  print()"
      ],
      "metadata": {
        "colab": {
          "base_uri": "https://localhost:8080/"
        },
        "id": "LBi-KX4SGxx6",
        "outputId": "24c0bcd8-d106-4d16-9f8c-0a72d66f3c46"
      },
      "execution_count": null,
      "outputs": [
        {
          "output_type": "stream",
          "name": "stdout",
          "text": [
            "for max_depth:  1\n",
            "Accuracy Score train:  0.5459518599562363\n",
            "Accuracy Score test:  0.5938864628820961\n",
            "\n",
            "for max_depth:  2\n",
            "Accuracy Score train:  0.562363238512035\n",
            "Accuracy Score test:  0.5851528384279476\n",
            "\n",
            "for max_depth:  3\n",
            "Accuracy Score train:  0.5711159737417943\n",
            "Accuracy Score test:  0.5895196506550219\n",
            "\n",
            "for max_depth:  4\n",
            "Accuracy Score train:  0.6334792122538293\n",
            "Accuracy Score test:  0.5764192139737991\n",
            "\n",
            "for max_depth:  5\n",
            "Accuracy Score train:  0.6739606126914661\n",
            "Accuracy Score test:  0.611353711790393\n",
            "\n",
            "for max_depth:  6\n",
            "Accuracy Score train:  0.7264770240700219\n",
            "Accuracy Score test:  0.5764192139737991\n",
            "\n",
            "for max_depth:  7\n",
            "Accuracy Score train:  0.7888402625820569\n",
            "Accuracy Score test:  0.5764192139737991\n",
            "\n",
            "for max_depth:  8\n",
            "Accuracy Score train:  0.8216630196936543\n",
            "Accuracy Score test:  0.6157205240174672\n",
            "\n",
            "for max_depth:  9\n",
            "Accuracy Score train:  0.8698030634573304\n",
            "Accuracy Score test:  0.611353711790393\n",
            "\n",
            "for max_depth:  10\n",
            "Accuracy Score train:  0.8982494529540481\n",
            "Accuracy Score test:  0.62882096069869\n",
            "\n",
            "for max_depth:  11\n",
            "Accuracy Score train:  0.9354485776805251\n",
            "Accuracy Score test:  0.6244541484716157\n",
            "\n",
            "for max_depth:  12\n",
            "Accuracy Score train:  0.9562363238512035\n",
            "Accuracy Score test:  0.611353711790393\n",
            "\n",
            "for max_depth:  13\n",
            "Accuracy Score train:  0.9748358862144421\n",
            "Accuracy Score test:  0.6157205240174672\n",
            "\n",
            "for max_depth:  14\n",
            "Accuracy Score train:  0.986870897155361\n",
            "Accuracy Score test:  0.6069868995633187\n",
            "\n",
            "for max_depth:  15\n",
            "Accuracy Score train:  0.9901531728665208\n",
            "Accuracy Score test:  0.5982532751091703\n",
            "\n",
            "for max_depth:  16\n",
            "Accuracy Score train:  0.9967177242888403\n",
            "Accuracy Score test:  0.6462882096069869\n",
            "\n",
            "for max_depth:  17\n",
            "Accuracy Score train:  1.0\n",
            "Accuracy Score test:  0.6069868995633187\n",
            "\n",
            "for max_depth:  18\n",
            "Accuracy Score train:  1.0\n",
            "Accuracy Score test:  0.6462882096069869\n",
            "\n",
            "for max_depth:  19\n",
            "Accuracy Score train:  1.0\n",
            "Accuracy Score test:  0.6375545851528385\n",
            "\n"
          ]
        }
      ]
    },
    {
      "cell_type": "markdown",
      "source": [
        "It means model is not overfitted at max_depth = 5 (best value)"
      ],
      "metadata": {
        "id": "EC1_SjdOJKUR"
      }
    },
    {
      "cell_type": "code",
      "source": [
        "dt = DecisionTreeClassifier(max_depth= 5)\n",
        "dt.fit(X_train, y_train)\n",
        "y_train_pred = dt.predict(X_train)\n",
        "print('Confusion Matrix: \\n',confusion_matrix(y_train, y_train_pred))\n",
        "print('Accuracy Score train: ', dt.score(X_train, y_train))"
      ],
      "metadata": {
        "colab": {
          "base_uri": "https://localhost:8080/"
        },
        "id": "J3XawVnBIQdo",
        "outputId": "dde828dd-5290-419c-8784-3d238df6664c"
      },
      "execution_count": null,
      "outputs": [
        {
          "output_type": "stream",
          "name": "stdout",
          "text": [
            "Confusion Matrix: \n",
            " [[  0   0   3   2   0   0]\n",
            " [  0   3  12  11   0   0]\n",
            " [  0   0 323  56   7   0]\n",
            " [  0   0 121 214  35   0]\n",
            " [  0   0   5  34  75   0]\n",
            " [  0   0   0   5   8   0]]\n",
            "Accuracy Score train:  0.6728665207877462\n"
          ]
        }
      ]
    },
    {
      "cell_type": "code",
      "source": [
        "y_test_pred = dt.predict(X_test)\n",
        "print('Confusion Matrix: \\n',confusion_matrix(y_test, y_test_pred))\n",
        "print('Accuracy Score test: ', dt.score(X_test, y_test))"
      ],
      "metadata": {
        "colab": {
          "base_uri": "https://localhost:8080/"
        },
        "id": "KX5aAKPLJiaH",
        "outputId": "1b474256-2997-4dcf-8f3d-0c4603f54d8a"
      },
      "execution_count": null,
      "outputs": [
        {
          "output_type": "stream",
          "name": "stdout",
          "text": [
            "Confusion Matrix: \n",
            " [[ 0  0  1  0  0  0]\n",
            " [ 0  0  6  1  0  0]\n",
            " [ 0  0 78 16  3  0]\n",
            " [ 0  0 32 48 12  0]\n",
            " [ 0  0  3 15 11  0]\n",
            " [ 0  0  0  2  1  0]]\n",
            "Accuracy Score test:  0.5982532751091703\n"
          ]
        }
      ]
    },
    {
      "cell_type": "markdown",
      "source": [
        "To make the model more accurate, we should use feature selection, as there are many negative correlated feature also avilable."
      ],
      "metadata": {
        "id": "MlmYicTiJuu_"
      }
    },
    {
      "cell_type": "code",
      "source": [
        "from sklearn.feature_selection import RFE"
      ],
      "metadata": {
        "id": "kUUlgi8ZJsj6"
      },
      "execution_count": null,
      "outputs": []
    },
    {
      "cell_type": "code",
      "source": [
        "def run_df(X_train_rf, X_test_rf, y_train, y_test):\n",
        "  clf = DecisionTreeClassifier(max_depth = 5)\n",
        "  clf.fit(X_train, y_train)\n",
        "  print('train data score:',clf.score(X_train, y_train))\n",
        "  print('test data score:',clf.score(X_test, y_test))"
      ],
      "metadata": {
        "id": "DfGFBjgfLAke"
      },
      "execution_count": null,
      "outputs": []
    },
    {
      "cell_type": "code",
      "source": [
        "%%time\n",
        "for index in range(1, 11, 1):\n",
        "  sel = RFE(DecisionTreeClassifier(), n_features_to_select= index)\n",
        "  sel.fit(X_train, y_train)\n",
        "  X_train_df = sel.transform(X_train)\n",
        "  X_test_df = sel.transform(X_test)\n",
        "  print('selected feature: ', index)\n",
        "  run_df(X_train_df, X_test_df, y_train, y_test)\n",
        "  print()"
      ],
      "metadata": {
        "colab": {
          "base_uri": "https://localhost:8080/"
        },
        "id": "-9MIe4gmKcFX",
        "outputId": "9c0893f1-9ce1-4595-9697-b55767f16f0c"
      },
      "execution_count": null,
      "outputs": [
        {
          "output_type": "stream",
          "name": "stdout",
          "text": [
            "selected feature:  1\n",
            "train data score: 0.6728665207877462\n",
            "test data score: 0.5982532751091703\n",
            "\n",
            "selected feature:  2\n",
            "train data score: 0.6739606126914661\n",
            "test data score: 0.611353711790393\n",
            "\n",
            "selected feature:  3\n",
            "train data score: 0.6739606126914661\n",
            "test data score: 0.611353711790393\n",
            "\n",
            "selected feature:  4\n",
            "train data score: 0.6739606126914661\n",
            "test data score: 0.611353711790393\n",
            "\n",
            "selected feature:  5\n",
            "train data score: 0.6728665207877462\n",
            "test data score: 0.5982532751091703\n",
            "\n",
            "selected feature:  6\n",
            "train data score: 0.6728665207877462\n",
            "test data score: 0.5982532751091703\n",
            "\n",
            "selected feature:  7\n",
            "train data score: 0.6728665207877462\n",
            "test data score: 0.5982532751091703\n",
            "\n",
            "selected feature:  8\n",
            "train data score: 0.6739606126914661\n",
            "test data score: 0.6026200873362445\n",
            "\n",
            "selected feature:  9\n",
            "train data score: 0.6739606126914661\n",
            "test data score: 0.6026200873362445\n",
            "\n",
            "selected feature:  10\n",
            "train data score: 0.6728665207877462\n",
            "test data score: 0.5895196506550219\n",
            "\n",
            "CPU times: user 856 ms, sys: 13.6 ms, total: 869 ms\n",
            "Wall time: 1.31 s\n"
          ]
        }
      ]
    },
    {
      "cell_type": "markdown",
      "source": [
        "Hence it is clear that by changing the feature accuracy doesn't change"
      ],
      "metadata": {
        "id": "sbuJjRYrMKbV"
      }
    },
    {
      "cell_type": "code",
      "source": [
        "# %%time \n",
        "# from sklearn.ensemble import RandomForestClassifier #delete\n",
        "# for index in range(1, 11, 1):\n",
        "#   sel = RFE(RandomForestClassifier(), n_features_to_select= index)\n",
        "#   sel.fit(X_train, y_train)\n",
        "#   X_train_df = sel.transform(X_train)\n",
        "#   X_test_df = sel.transform(X_test)\n",
        "#   print('selected feature: ', index)\n",
        "#   run_df(X_train_df, X_test_df, y_train, y_test)\n",
        "#   print()"
      ],
      "metadata": {
        "id": "8VYMAOP4Lm0m"
      },
      "execution_count": null,
      "outputs": []
    },
    {
      "cell_type": "code",
      "source": [
        "# %%time\n",
        "# from sklearn.ensemble import GradientBoostingClassifier #delete\n",
        "# for index in range(1, 11, 1):\n",
        "#   sel = RFE(GradientBoostingClassifier(), n_features_to_select= index)\n",
        "#   sel.fit(X_train, y_train)\n",
        "#   X_train_df = sel.transform(X_train)\n",
        "#   X_test_df = sel.transform(X_test)\n",
        "#   print('selected feature: ', index)\n",
        "#   run_df(X_train_df, X_test_df, y_train, y_test)\n",
        "#   print()"
      ],
      "metadata": {
        "id": "WF1wGt2FM7z0"
      },
      "execution_count": null,
      "outputs": []
    },
    {
      "cell_type": "markdown",
      "source": [
        "**Random Forest Classifier**"
      ],
      "metadata": {
        "id": "tbnVFCI2Nj1d"
      }
    },
    {
      "cell_type": "code",
      "source": [
        "from sklearn.ensemble import RandomForestClassifier\n",
        "rf = RandomForestClassifier()\n",
        "rf.fit(X_train, y_train)"
      ],
      "metadata": {
        "colab": {
          "base_uri": "https://localhost:8080/"
        },
        "id": "hrD8Zl_eM_S0",
        "outputId": "318e528f-5461-48c2-bb7e-5c4d021791a6"
      },
      "execution_count": null,
      "outputs": [
        {
          "output_type": "execute_result",
          "data": {
            "text/plain": [
              "RandomForestClassifier()"
            ]
          },
          "metadata": {},
          "execution_count": 29
        }
      ]
    },
    {
      "cell_type": "code",
      "source": [
        "y_train_pred = rf.predict(X_train)\n",
        "print('Confusion Matrix: \\n',confusion_matrix(y_train, y_train_pred))\n",
        "print('Accuracy Score: ', rf.score(X_train, y_train))"
      ],
      "metadata": {
        "colab": {
          "base_uri": "https://localhost:8080/"
        },
        "id": "ZI7v0Na_N2_1",
        "outputId": "774d6fae-0797-4f89-d141-e00798e276f5"
      },
      "execution_count": null,
      "outputs": [
        {
          "output_type": "stream",
          "name": "stdout",
          "text": [
            "Confusion Matrix: \n",
            " [[  5   0   0   0   0   0]\n",
            " [  0  26   0   0   0   0]\n",
            " [  0   0 386   0   0   0]\n",
            " [  0   0   0 370   0   0]\n",
            " [  0   0   0   0 114   0]\n",
            " [  0   0   0   0   0  13]]\n",
            "Accuracy Score:  1.0\n"
          ]
        }
      ]
    },
    {
      "cell_type": "code",
      "source": [
        "y_test_pred = rf.predict(X_test)\n",
        "print('Confusion Matrix: \\n',confusion_matrix(y_test, y_test_pred))\n",
        "print('Accuracy Score: ', rf.score(X_test, y_test))"
      ],
      "metadata": {
        "colab": {
          "base_uri": "https://localhost:8080/"
        },
        "id": "CUaCLIv2N_8c",
        "outputId": "9dcbe1ec-0262-41dd-dcf7-866ad56df894"
      },
      "execution_count": null,
      "outputs": [
        {
          "output_type": "stream",
          "name": "stdout",
          "text": [
            "Confusion Matrix: \n",
            " [[ 0  0  1  0  0  0]\n",
            " [ 0  0  4  3  0  0]\n",
            " [ 0  0 82 14  1  0]\n",
            " [ 0  0 22 66  4  0]\n",
            " [ 0  0  3 12 14  0]\n",
            " [ 0  0  0  3  0  0]]\n",
            "Accuracy Score:  0.7074235807860262\n"
          ]
        }
      ]
    },
    {
      "cell_type": "markdown",
      "source": [
        "Again, the model is **overfitted**. Hence we have to tune the parameter to fit the model."
      ],
      "metadata": {
        "id": "Ls6ZreO2OJ7j"
      }
    },
    {
      "cell_type": "code",
      "source": [
        "max_depth_range = np.arange(1,15,1)\n",
        "for x in max_depth_range:\n",
        "  dt = RandomForestClassifier(max_depth= x)\n",
        "  dt.fit(X_train, y_train)\n",
        "  print('for max_depth: ', x)\n",
        "  print('Accuracy Score train: ', dt.score(X_train, y_train))\n",
        "  print('Accuracy Score test: ', dt.score(X_test, y_test))\n",
        "  print()"
      ],
      "metadata": {
        "colab": {
          "base_uri": "https://localhost:8080/"
        },
        "id": "1d8ZYad7O9WC",
        "outputId": "9a0bb7e3-869d-4e6a-daf6-00f34b83965a"
      },
      "execution_count": null,
      "outputs": [
        {
          "output_type": "stream",
          "name": "stdout",
          "text": [
            "for max_depth:  1\n",
            "Accuracy Score train:  0.5820568927789934\n",
            "Accuracy Score test:  0.6375545851528385\n",
            "\n",
            "for max_depth:  2\n",
            "Accuracy Score train:  0.600656455142232\n",
            "Accuracy Score test:  0.6375545851528385\n",
            "\n",
            "for max_depth:  3\n",
            "Accuracy Score train:  0.6181619256017505\n",
            "Accuracy Score test:  0.6331877729257642\n",
            "\n",
            "for max_depth:  4\n",
            "Accuracy Score train:  0.6739606126914661\n",
            "Accuracy Score test:  0.6593886462882096\n",
            "\n",
            "for max_depth:  5\n",
            "Accuracy Score train:  0.7297592997811816\n",
            "Accuracy Score test:  0.6681222707423581\n",
            "\n",
            "for max_depth:  6\n",
            "Accuracy Score train:  0.7811816192560175\n",
            "Accuracy Score test:  0.6768558951965066\n",
            "\n",
            "for max_depth:  7\n",
            "Accuracy Score train:  0.8347921225382933\n",
            "Accuracy Score test:  0.6812227074235808\n",
            "\n",
            "for max_depth:  8\n",
            "Accuracy Score train:  0.8982494529540481\n",
            "Accuracy Score test:  0.6855895196506551\n",
            "\n",
            "for max_depth:  9\n",
            "Accuracy Score train:  0.9420131291028446\n",
            "Accuracy Score test:  0.7030567685589519\n",
            "\n",
            "for max_depth:  10\n",
            "Accuracy Score train:  0.9792122538293216\n",
            "Accuracy Score test:  0.6855895196506551\n",
            "\n",
            "for max_depth:  11\n",
            "Accuracy Score train:  0.9912472647702407\n",
            "Accuracy Score test:  0.7117903930131004\n",
            "\n",
            "for max_depth:  12\n",
            "Accuracy Score train:  0.9978118161925602\n",
            "Accuracy Score test:  0.7030567685589519\n",
            "\n",
            "for max_depth:  13\n",
            "Accuracy Score train:  1.0\n",
            "Accuracy Score test:  0.7161572052401747\n",
            "\n",
            "for max_depth:  14\n",
            "Accuracy Score train:  1.0\n",
            "Accuracy Score test:  0.6986899563318777\n",
            "\n"
          ]
        }
      ]
    },
    {
      "cell_type": "markdown",
      "source": [
        "At max_depth = 6, we got Bias- Variance Tradeoff"
      ],
      "metadata": {
        "id": "rcEYeWUOPgJr"
      }
    },
    {
      "cell_type": "code",
      "source": [
        "rf = RandomForestClassifier(max_depth= 6)\n",
        "rf.fit(X_train, y_train)\n",
        "y_train_pred = rf.predict(X_train)\n",
        "print('Confusion Matrix: \\n',confusion_matrix(y_train, y_train_pred))\n",
        "print('Accuracy Score train: ', rf.score(X_train, y_train))\n",
        "\n",
        "y_test_pred = rf.predict(X_test)\n",
        "print('Confusion Matrix: \\n',confusion_matrix(y_test, y_test_pred))\n",
        "print('Accuracy Score test: ', rf.score(X_test, y_test))"
      ],
      "metadata": {
        "colab": {
          "base_uri": "https://localhost:8080/"
        },
        "outputId": "51619431-47b9-4404-a0b0-554dde4a57e0",
        "id": "K-oZ7fUiQKlo"
      },
      "execution_count": null,
      "outputs": [
        {
          "output_type": "stream",
          "name": "stdout",
          "text": [
            "Confusion Matrix: \n",
            " [[  0   0   5   0   0   0]\n",
            " [  0   1  16   9   0   0]\n",
            " [  0   0 327  57   2   0]\n",
            " [  0   0  62 306   2   0]\n",
            " [  0   0   0  45  69   0]\n",
            " [  0   0   0   9   3   1]]\n",
            "Accuracy Score train:  0.7702407002188184\n",
            "Confusion Matrix: \n",
            " [[ 0  0  1  0  0  0]\n",
            " [ 0  0  4  3  0  0]\n",
            " [ 0  0 77 19  1  0]\n",
            " [ 0  0 22 67  3  0]\n",
            " [ 0  0  3 17  9  0]\n",
            " [ 0  0  0  3  0  0]]\n",
            "Accuracy Score test:  0.6681222707423581\n"
          ]
        }
      ]
    },
    {
      "cell_type": "code",
      "source": [
        "def run_rf(X_train, X_test, y_train, y_test):\n",
        "  clf = RandomForestClassifier(max_depth = 6)\n",
        "  clf.fit(X_train, y_train)\n",
        "  print('train data score:',clf.score(X_train, y_train))\n",
        "  print('test data score:',clf.score(X_test, y_test))"
      ],
      "metadata": {
        "id": "pZdvQIXYQlpz"
      },
      "execution_count": null,
      "outputs": []
    },
    {
      "cell_type": "code",
      "source": [
        "%%time\n",
        "for index in range(1, 12, 1):\n",
        "  sel = RFE(RandomForestClassifier(), n_features_to_select= index)\n",
        "  sel.fit(X_train, y_train)\n",
        "  X_train_rf = sel.transform(X_train)\n",
        "  X_test_rf = sel.transform(X_test)\n",
        "  print('selected feature: ', index)\n",
        "  run_rf(X_train_rf, X_test_rf, y_train, y_test)\n",
        "  print()"
      ],
      "metadata": {
        "colab": {
          "base_uri": "https://localhost:8080/"
        },
        "outputId": "7011e024-00c2-4766-aaa4-cbe364d94f47",
        "id": "2ARCGi3FQlp0"
      },
      "execution_count": null,
      "outputs": [
        {
          "output_type": "stream",
          "name": "stdout",
          "text": [
            "selected feature:  1\n",
            "train data score: 0.5448577680525164\n",
            "test data score: 0.4978165938864629\n",
            "\n",
            "selected feature:  2\n",
            "train data score: 0.6214442013129103\n",
            "test data score: 0.4978165938864629\n",
            "\n",
            "selected feature:  3\n",
            "train data score: 0.6947483588621444\n",
            "test data score: 0.6157205240174672\n",
            "\n",
            "selected feature:  4\n",
            "train data score: 0.7428884026258206\n",
            "test data score: 0.6637554585152838\n",
            "\n",
            "selected feature:  5\n",
            "train data score: 0.7549234135667396\n",
            "test data score: 0.6462882096069869\n",
            "\n",
            "selected feature:  6\n",
            "train data score: 0.7538293216630197\n",
            "test data score: 0.6681222707423581\n",
            "\n",
            "selected feature:  7\n",
            "train data score: 0.7603938730853391\n",
            "test data score: 0.6593886462882096\n",
            "\n",
            "selected feature:  8\n",
            "train data score: 0.7571115973741794\n",
            "test data score: 0.6681222707423581\n",
            "\n",
            "selected feature:  9\n",
            "train data score: 0.7757111597374179\n",
            "test data score: 0.6506550218340611\n",
            "\n",
            "selected feature:  10\n",
            "train data score: 0.7768052516411379\n",
            "test data score: 0.6812227074235808\n",
            "\n",
            "selected feature:  11\n",
            "train data score: 0.774617067833698\n",
            "test data score: 0.6550218340611353\n",
            "\n",
            "CPU times: user 22.7 s, sys: 175 ms, total: 22.9 s\n",
            "Wall time: 24.5 s\n"
          ]
        }
      ]
    },
    {
      "cell_type": "markdown",
      "source": [
        "It means here, also there is no need to feature selection. As the accuracy is highest when we use all features"
      ],
      "metadata": {
        "id": "xfMlBlYlRZZw"
      }
    },
    {
      "cell_type": "markdown",
      "source": [
        "**SVM**"
      ],
      "metadata": {
        "id": "AWLIz8t8Rvxk"
      }
    },
    {
      "cell_type": "code",
      "source": [
        "from sklearn.svm import SVC\n",
        "svc = SVC()\n",
        "svc.fit(X_train, y_train)"
      ],
      "metadata": {
        "colab": {
          "base_uri": "https://localhost:8080/"
        },
        "id": "7_5TBnUDQ-I7",
        "outputId": "fe980c5c-ee2c-4c6c-d4eb-59d02c2bb7a3"
      },
      "execution_count": null,
      "outputs": [
        {
          "output_type": "execute_result",
          "data": {
            "text/plain": [
              "SVC()"
            ]
          },
          "metadata": {},
          "execution_count": 36
        }
      ]
    },
    {
      "cell_type": "code",
      "source": [
        "y_train_pred = svc.predict(X_train)\n",
        "print('Confusion Matrix: \\n',confusion_matrix(y_train, y_train_pred))\n",
        "print('Accuracy Score: ', svc.score(X_train, y_train))"
      ],
      "metadata": {
        "colab": {
          "base_uri": "https://localhost:8080/"
        },
        "outputId": "04712658-2a26-49c7-beaa-d43c3f02e7b1",
        "id": "9ZaC_0GdSL32"
      },
      "execution_count": null,
      "outputs": [
        {
          "output_type": "stream",
          "name": "stdout",
          "text": [
            "Confusion Matrix: \n",
            " [[  0   0   1   4   0   0]\n",
            " [  0   0   6  20   0   0]\n",
            " [  0   0 155 231   0   0]\n",
            " [  0   0  69 301   0   0]\n",
            " [  0   0  12 100   2   0]\n",
            " [  0   0   1  12   0   0]]\n",
            "Accuracy Score:  0.5010940919037199\n"
          ]
        }
      ]
    },
    {
      "cell_type": "code",
      "source": [
        "y_test_pred = svc.predict(X_test)\n",
        "print('Confusion Matrix: \\n',confusion_matrix(y_test, y_test_pred))\n",
        "print('Accuracy Score: ', svc.score(X_test, y_test))"
      ],
      "metadata": {
        "colab": {
          "base_uri": "https://localhost:8080/"
        },
        "outputId": "d749b856-90dd-43d4-be03-c7c273978cd5",
        "id": "kq-I1dYmSL34"
      },
      "execution_count": null,
      "outputs": [
        {
          "output_type": "stream",
          "name": "stdout",
          "text": [
            "Confusion Matrix: \n",
            " [[ 0  0  0  1  0  0]\n",
            " [ 0  0  2  5  0  0]\n",
            " [ 0  0 42 55  0  0]\n",
            " [ 0  0 10 82  0  0]\n",
            " [ 0  0  2 27  0  0]\n",
            " [ 0  0  0  3  0  0]]\n",
            "Accuracy Score:  0.5414847161572053\n"
          ]
        }
      ]
    },
    {
      "cell_type": "markdown",
      "source": [
        "Model is **Underfitted**"
      ],
      "metadata": {
        "id": "kU3w2c2XSXOB"
      }
    },
    {
      "cell_type": "code",
      "source": [
        "def with_kernel(kernel):\n",
        "  for x in ['rbf', 'linear', 'poly']:\n",
        "    svc = SVC(kernel = x)\n",
        "    svc.fit(X_train, y_train)\n",
        "    print('for kernel', x)\n",
        "    print('Accuracy Score: ', svc.score(X_train, y_train))\n",
        "    print('Accuracy Score: ', svc.score(X_test, y_test))\n",
        "    print()"
      ],
      "metadata": {
        "id": "kHKyLZBnSGvT"
      },
      "execution_count": null,
      "outputs": []
    },
    {
      "cell_type": "code",
      "source": [
        "Kernel_list = ['rbf', 'linear', 'poly']"
      ],
      "metadata": {
        "id": "BmyEof5UUDdr"
      },
      "execution_count": null,
      "outputs": []
    },
    {
      "cell_type": "code",
      "source": [
        "with_kernel(Kernel_list)"
      ],
      "metadata": {
        "colab": {
          "base_uri": "https://localhost:8080/"
        },
        "id": "DXQs04MgTaB7",
        "outputId": "1a4e6a1a-0d16-4331-e3b5-62eea755340c"
      },
      "execution_count": null,
      "outputs": [
        {
          "output_type": "stream",
          "name": "stdout",
          "text": [
            "for kernel rbf\n",
            "Accuracy Score:  0.5010940919037199\n",
            "Accuracy Score:  0.5414847161572053\n",
            "\n",
            "for kernel linear\n",
            "Accuracy Score:  0.5831509846827133\n",
            "Accuracy Score:  0.62882096069869\n",
            "\n",
            "for kernel poly\n",
            "Accuracy Score:  0.47702407002188185\n",
            "Accuracy Score:  0.519650655021834\n",
            "\n"
          ]
        }
      ]
    },
    {
      "cell_type": "markdown",
      "source": [
        "It is clear that linear kernel gives best accuracy among all the kernel."
      ],
      "metadata": {
        "id": "CmBvmmooVukb"
      }
    },
    {
      "cell_type": "markdown",
      "source": [
        "**Gradient Boosting**"
      ],
      "metadata": {
        "id": "UU9a2EI-V48X"
      }
    },
    {
      "cell_type": "code",
      "source": [
        "from sklearn.ensemble import GradientBoostingClassifier\n",
        "gb = GradientBoostingClassifier()\n",
        "gb.fit(X_train, y_train)"
      ],
      "metadata": {
        "colab": {
          "base_uri": "https://localhost:8080/"
        },
        "id": "VFD9VKNDTebC",
        "outputId": "82bdd3ba-6488-405e-d48a-e19a1066a38d"
      },
      "execution_count": null,
      "outputs": [
        {
          "output_type": "execute_result",
          "data": {
            "text/plain": [
              "GradientBoostingClassifier()"
            ]
          },
          "metadata": {},
          "execution_count": 42
        }
      ]
    },
    {
      "cell_type": "code",
      "source": [
        "y_train_pred = gb.predict(X_train)\n",
        "print('Confusion Matrix: \\n',confusion_matrix(y_train, y_train_pred))\n",
        "print('Accuracy Score: ', gb.score(X_train, y_train))"
      ],
      "metadata": {
        "colab": {
          "base_uri": "https://localhost:8080/"
        },
        "id": "PbHBov01WQiR",
        "outputId": "d23c56cc-06c9-4af1-e8b1-3ef8a2258964"
      },
      "execution_count": null,
      "outputs": [
        {
          "output_type": "stream",
          "name": "stdout",
          "text": [
            "Confusion Matrix: \n",
            " [[  5   0   0   0   0   0]\n",
            " [  0  24   1   1   0   0]\n",
            " [  0   0 362  23   1   0]\n",
            " [  0   0  23 347   0   0]\n",
            " [  0   0   0  10 104   0]\n",
            " [  0   0   0   0   0  13]]\n",
            "Accuracy Score:  0.9354485776805251\n"
          ]
        }
      ]
    },
    {
      "cell_type": "code",
      "source": [
        "y_test_pred = gb.predict(X_test)\n",
        "print('Confusion Matrix: \\n',confusion_matrix(y_test, y_test_pred))\n",
        "print('Accuracy Score: ', gb.score(X_test, y_test))"
      ],
      "metadata": {
        "colab": {
          "base_uri": "https://localhost:8080/"
        },
        "id": "0-xexU7MWXEh",
        "outputId": "dc77b3d9-c3e8-43f4-e2ba-7484a10ad94c"
      },
      "execution_count": null,
      "outputs": [
        {
          "output_type": "stream",
          "name": "stdout",
          "text": [
            "Confusion Matrix: \n",
            " [[ 0  0  1  0  0  0]\n",
            " [ 0  0  4  3  0  0]\n",
            " [ 0  2 78 16  1  0]\n",
            " [ 0  0 24 59  9  0]\n",
            " [ 0  0  4 11 13  1]\n",
            " [ 0  0  0  3  0  0]]\n",
            "Accuracy Score:  0.6550218340611353\n"
          ]
        }
      ]
    },
    {
      "cell_type": "markdown",
      "source": [
        "Also this model is **overfitted**"
      ],
      "metadata": {
        "id": "Sj4EzCdsWeaM"
      }
    },
    {
      "cell_type": "code",
      "source": [
        "max_depth_range = np.arange(1,15,1)\n",
        "for x in max_depth_range:\n",
        "  dt = GradientBoostingClassifier(max_depth= x)\n",
        "  dt.fit(X_train, y_train)\n",
        "  print('for max_deoth: ', x)\n",
        "  print('Accuracy Score train: ', dt.score(X_train, y_train))\n",
        "  print('Accuracy Score test: ', dt.score(X_test, y_test))\n",
        "  print()"
      ],
      "metadata": {
        "colab": {
          "base_uri": "https://localhost:8080/"
        },
        "outputId": "4a19688c-9618-481b-8219-5bd6ecdf7c3e",
        "id": "SsoYGmQWWweF"
      },
      "execution_count": null,
      "outputs": [
        {
          "output_type": "stream",
          "name": "stdout",
          "text": [
            "for max_deoth:  1\n",
            "Accuracy Score train:  0.6783369803063457\n",
            "Accuracy Score test:  0.6419213973799127\n",
            "\n",
            "for max_deoth:  2\n",
            "Accuracy Score train:  0.8085339168490153\n",
            "Accuracy Score test:  0.6812227074235808\n",
            "\n",
            "for max_deoth:  3\n",
            "Accuracy Score train:  0.936542669584245\n",
            "Accuracy Score test:  0.6812227074235808\n",
            "\n",
            "for max_deoth:  4\n",
            "Accuracy Score train:  0.9978118161925602\n",
            "Accuracy Score test:  0.6855895196506551\n",
            "\n",
            "for max_deoth:  5\n",
            "Accuracy Score train:  1.0\n",
            "Accuracy Score test:  0.6681222707423581\n",
            "\n",
            "for max_deoth:  6\n",
            "Accuracy Score train:  1.0\n",
            "Accuracy Score test:  0.6724890829694323\n",
            "\n",
            "for max_deoth:  7\n",
            "Accuracy Score train:  1.0\n",
            "Accuracy Score test:  0.6462882096069869\n",
            "\n",
            "for max_deoth:  8\n",
            "Accuracy Score train:  1.0\n",
            "Accuracy Score test:  0.6681222707423581\n",
            "\n",
            "for max_deoth:  9\n",
            "Accuracy Score train:  1.0\n",
            "Accuracy Score test:  0.6899563318777293\n",
            "\n",
            "for max_deoth:  10\n",
            "Accuracy Score train:  1.0\n",
            "Accuracy Score test:  0.6375545851528385\n",
            "\n",
            "for max_deoth:  11\n",
            "Accuracy Score train:  1.0\n",
            "Accuracy Score test:  0.6550218340611353\n",
            "\n",
            "for max_deoth:  12\n",
            "Accuracy Score train:  1.0\n",
            "Accuracy Score test:  0.6200873362445415\n",
            "\n",
            "for max_deoth:  13\n",
            "Accuracy Score train:  1.0\n",
            "Accuracy Score test:  0.5938864628820961\n",
            "\n",
            "for max_deoth:  14\n",
            "Accuracy Score train:  1.0\n",
            "Accuracy Score test:  0.5720524017467249\n",
            "\n"
          ]
        }
      ]
    },
    {
      "cell_type": "code",
      "source": [
        "max_depth_range = np.arange(2, 15, 1)\n",
        "for x in max_depth_range:\n",
        "  dt = GradientBoostingClassifier(max_depth= 1, learning_rate=0.1)\n",
        "  dt.fit(X_train, y_train)\n",
        "  print('for min_samples_split: ', x)\n",
        "  print('Accuracy Score train: ', dt.score(X_train, y_train))\n",
        "  print('Accuracy Score test: ', dt.score(X_test, y_test))\n",
        "  print()"
      ],
      "metadata": {
        "colab": {
          "base_uri": "https://localhost:8080/"
        },
        "id": "6gEHp39WW8Qh",
        "outputId": "cbb312d9-e422-459b-9a20-5d2eb4700507"
      },
      "execution_count": null,
      "outputs": [
        {
          "output_type": "stream",
          "name": "stdout",
          "text": [
            "for min_samples_split:  2\n",
            "Accuracy Score train:  0.6783369803063457\n",
            "Accuracy Score test:  0.6419213973799127\n",
            "\n",
            "for min_samples_split:  3\n",
            "Accuracy Score train:  0.6783369803063457\n",
            "Accuracy Score test:  0.6419213973799127\n",
            "\n",
            "for min_samples_split:  4\n",
            "Accuracy Score train:  0.6783369803063457\n",
            "Accuracy Score test:  0.6419213973799127\n",
            "\n",
            "for min_samples_split:  5\n",
            "Accuracy Score train:  0.6783369803063457\n",
            "Accuracy Score test:  0.6419213973799127\n",
            "\n",
            "for min_samples_split:  6\n",
            "Accuracy Score train:  0.6783369803063457\n",
            "Accuracy Score test:  0.6419213973799127\n",
            "\n",
            "for min_samples_split:  7\n",
            "Accuracy Score train:  0.6783369803063457\n",
            "Accuracy Score test:  0.6419213973799127\n",
            "\n",
            "for min_samples_split:  8\n",
            "Accuracy Score train:  0.6783369803063457\n",
            "Accuracy Score test:  0.6419213973799127\n",
            "\n",
            "for min_samples_split:  9\n",
            "Accuracy Score train:  0.6783369803063457\n",
            "Accuracy Score test:  0.6419213973799127\n",
            "\n",
            "for min_samples_split:  10\n",
            "Accuracy Score train:  0.6783369803063457\n",
            "Accuracy Score test:  0.6419213973799127\n",
            "\n",
            "for min_samples_split:  11\n",
            "Accuracy Score train:  0.6783369803063457\n",
            "Accuracy Score test:  0.6419213973799127\n",
            "\n",
            "for min_samples_split:  12\n",
            "Accuracy Score train:  0.6783369803063457\n",
            "Accuracy Score test:  0.6419213973799127\n",
            "\n",
            "for min_samples_split:  13\n",
            "Accuracy Score train:  0.6783369803063457\n",
            "Accuracy Score test:  0.6419213973799127\n",
            "\n",
            "for min_samples_split:  14\n",
            "Accuracy Score train:  0.6783369803063457\n",
            "Accuracy Score test:  0.6419213973799127\n",
            "\n"
          ]
        }
      ]
    },
    {
      "cell_type": "markdown",
      "source": [
        "**XG Boost**"
      ],
      "metadata": {
        "id": "MBY8m2zob0Hl"
      }
    },
    {
      "cell_type": "code",
      "source": [
        "from xgboost import XGBClassifier\n",
        "xgb = XGBClassifier()\n",
        "xgb.fit(X_train, y_train)"
      ],
      "metadata": {
        "colab": {
          "base_uri": "https://localhost:8080/"
        },
        "id": "VcIIcWk_ZFxJ",
        "outputId": "c402dc72-4258-4346-a2a3-657e502a9621"
      },
      "execution_count": null,
      "outputs": [
        {
          "output_type": "execute_result",
          "data": {
            "text/plain": [
              "XGBClassifier(objective='multi:softprob')"
            ]
          },
          "metadata": {},
          "execution_count": 47
        }
      ]
    },
    {
      "cell_type": "code",
      "source": [
        "y_train_pred = xgb.predict(X_train)\n",
        "print('Confusion Matrix: \\n',confusion_matrix(y_train, y_train_pred))\n",
        "print('Accuracy Score: ', xgb.score(X_train, y_train))"
      ],
      "metadata": {
        "colab": {
          "base_uri": "https://localhost:8080/"
        },
        "outputId": "9ca05fcd-84de-4d15-f23f-e04970d8bea1",
        "id": "pfcE9elvdLRQ"
      },
      "execution_count": null,
      "outputs": [
        {
          "output_type": "stream",
          "name": "stdout",
          "text": [
            "Confusion Matrix: \n",
            " [[  5   0   0   0   0   0]\n",
            " [  0  14   7   5   0   0]\n",
            " [  0   0 336  49   1   0]\n",
            " [  0   0  49 316   5   0]\n",
            " [  0   0   0  23  91   0]\n",
            " [  0   0   0   3   0  10]]\n",
            "Accuracy Score:  0.8446389496717724\n"
          ]
        }
      ]
    },
    {
      "cell_type": "code",
      "source": [
        "y_test_pred = xgb.predict(X_test)\n",
        "print('Confusion Matrix: \\n',confusion_matrix(y_test, y_test_pred))\n",
        "print('Accuracy Score: ', xgb.score(X_test, y_test))"
      ],
      "metadata": {
        "colab": {
          "base_uri": "https://localhost:8080/"
        },
        "outputId": "7ef99201-0119-4a95-f217-5c57948919ff",
        "id": "5BXuNbJCdLRS"
      },
      "execution_count": null,
      "outputs": [
        {
          "output_type": "stream",
          "name": "stdout",
          "text": [
            "Confusion Matrix: \n",
            " [[ 0  1  0  0  0  0]\n",
            " [ 0  0  4  2  1  0]\n",
            " [ 1  0 79 17  0  0]\n",
            " [ 0  0 25 59  7  1]\n",
            " [ 0  0  3 12 13  1]\n",
            " [ 0  0  0  3  0  0]]\n",
            "Accuracy Score:  0.6593886462882096\n"
          ]
        }
      ]
    },
    {
      "cell_type": "code",
      "source": [
        "max_depth_range = np.arange(1,15,1)\n",
        "for x in max_depth_range:\n",
        "  dt = XGBClassifier(max_depth= x)\n",
        "  dt.fit(X_train, y_train)\n",
        "  print('for max_deoth: ', x)\n",
        "  print('Accuracy Score train: ', dt.score(X_train, y_train))\n",
        "  print('Accuracy Score test: ', dt.score(X_test, y_test))\n",
        "  print()"
      ],
      "metadata": {
        "colab": {
          "base_uri": "https://localhost:8080/"
        },
        "id": "yNT3rMdadQpm",
        "outputId": "5da0d367-3bb0-4721-f95c-edb84889de1e"
      },
      "execution_count": null,
      "outputs": [
        {
          "output_type": "stream",
          "name": "stdout",
          "text": [
            "for max_deoth:  1\n",
            "Accuracy Score train:  0.6269146608315098\n",
            "Accuracy Score test:  0.6331877729257642\n",
            "\n",
            "for max_deoth:  2\n",
            "Accuracy Score train:  0.737417943107221\n",
            "Accuracy Score test:  0.6768558951965066\n",
            "\n",
            "for max_deoth:  3\n",
            "Accuracy Score train:  0.8446389496717724\n",
            "Accuracy Score test:  0.6593886462882096\n",
            "\n",
            "for max_deoth:  4\n",
            "Accuracy Score train:  0.9431072210065645\n",
            "Accuracy Score test:  0.6812227074235808\n",
            "\n",
            "for max_deoth:  5\n",
            "Accuracy Score train:  0.9857768052516411\n",
            "Accuracy Score test:  0.6724890829694323\n",
            "\n",
            "for max_deoth:  6\n",
            "Accuracy Score train:  0.9967177242888403\n",
            "Accuracy Score test:  0.6681222707423581\n",
            "\n",
            "for max_deoth:  7\n",
            "Accuracy Score train:  1.0\n",
            "Accuracy Score test:  0.6812227074235808\n",
            "\n",
            "for max_deoth:  8\n",
            "Accuracy Score train:  1.0\n",
            "Accuracy Score test:  0.6812227074235808\n",
            "\n",
            "for max_deoth:  9\n",
            "Accuracy Score train:  1.0\n",
            "Accuracy Score test:  0.6637554585152838\n",
            "\n",
            "for max_deoth:  10\n",
            "Accuracy Score train:  1.0\n",
            "Accuracy Score test:  0.6593886462882096\n",
            "\n",
            "for max_deoth:  11\n",
            "Accuracy Score train:  1.0\n",
            "Accuracy Score test:  0.6724890829694323\n",
            "\n",
            "for max_deoth:  12\n",
            "Accuracy Score train:  1.0\n",
            "Accuracy Score test:  0.6681222707423581\n",
            "\n",
            "for max_deoth:  13\n",
            "Accuracy Score train:  1.0\n",
            "Accuracy Score test:  0.6593886462882096\n",
            "\n",
            "for max_deoth:  14\n",
            "Accuracy Score train:  1.0\n",
            "Accuracy Score test:  0.6724890829694323\n",
            "\n"
          ]
        }
      ]
    },
    {
      "cell_type": "markdown",
      "source": [
        "At that point of time, all the model give low accuracy, after Bias-Variance tradeoff. We have two things to do.\n",
        "\n",
        "1.   **Apply SMOTE to increase the training dataset**\n",
        "2.   **Principal Component Analysis**"
      ],
      "metadata": {
        "id": "agO3gQDXWu54"
      }
    },
    {
      "cell_type": "code",
      "source": [
        "from imblearn.over_sampling import SMOTE "
      ],
      "metadata": {
        "id": "TKb8v03deCfI"
      },
      "execution_count": null,
      "outputs": []
    },
    {
      "cell_type": "code",
      "source": [
        "unique, count = np.unique(y_train, return_counts= True)\n",
        "y_train_dict_value_count = {k:v for (k,v) in zip(unique, count)}\n",
        "y_train_dict_value_count"
      ],
      "metadata": {
        "colab": {
          "base_uri": "https://localhost:8080/"
        },
        "id": "K8c04Cq1zxEO",
        "outputId": "73bd2576-b74e-40ce-d083-f58b9e88b0a5"
      },
      "execution_count": null,
      "outputs": [
        {
          "output_type": "execute_result",
          "data": {
            "text/plain": [
              "{3: 5, 4: 26, 5: 386, 6: 370, 7: 114, 8: 13}"
            ]
          },
          "metadata": {},
          "execution_count": 52
        }
      ]
    },
    {
      "cell_type": "code",
      "source": [
        "sm = SMOTE(\"minority\")"
      ],
      "metadata": {
        "id": "f4RLr5pf4Sgr"
      },
      "execution_count": null,
      "outputs": []
    },
    {
      "cell_type": "code",
      "source": [
        "X_train_res1, y_train_res1 = sm.fit_resample(X_train,y_train)\n",
        "X_train_res2, y_train_res2 = sm.fit_resample(X_train_res1,y_train_res1)\n",
        "X_train_res3, y_train_res3 = sm.fit_resample(X_train_res2,y_train_res2)\n",
        "X_train_res4, y_train_res4 = sm.fit_resample(X_train_res3,y_train_res3)"
      ],
      "metadata": {
        "id": "L7aM8bKd0qul",
        "colab": {
          "base_uri": "https://localhost:8080/",
          "height": 363
        },
        "outputId": "7731b05a-58ec-49b7-819b-44ffd51ad7bc"
      },
      "execution_count": null,
      "outputs": [
        {
          "output_type": "error",
          "ename": "ValueError",
          "evalue": "ignored",
          "traceback": [
            "\u001b[0;31m---------------------------------------------------------------------------\u001b[0m",
            "\u001b[0;31mValueError\u001b[0m                                Traceback (most recent call last)",
            "\u001b[0;32m<ipython-input-54-4ac7fff8528e>\u001b[0m in \u001b[0;36m<module>\u001b[0;34m()\u001b[0m\n\u001b[0;32m----> 1\u001b[0;31m \u001b[0mX_train_res1\u001b[0m\u001b[0;34m,\u001b[0m \u001b[0my_train_res1\u001b[0m \u001b[0;34m=\u001b[0m \u001b[0msm\u001b[0m\u001b[0;34m.\u001b[0m\u001b[0mfit_resample\u001b[0m\u001b[0;34m(\u001b[0m\u001b[0mX_train\u001b[0m\u001b[0;34m,\u001b[0m\u001b[0my_train\u001b[0m\u001b[0;34m)\u001b[0m\u001b[0;34m\u001b[0m\u001b[0;34m\u001b[0m\u001b[0m\n\u001b[0m\u001b[1;32m      2\u001b[0m \u001b[0mX_train_res2\u001b[0m\u001b[0;34m,\u001b[0m \u001b[0my_train_res2\u001b[0m \u001b[0;34m=\u001b[0m \u001b[0msm\u001b[0m\u001b[0;34m.\u001b[0m\u001b[0mfit_resample\u001b[0m\u001b[0;34m(\u001b[0m\u001b[0mX_train_res1\u001b[0m\u001b[0;34m,\u001b[0m\u001b[0my_train_res1\u001b[0m\u001b[0;34m)\u001b[0m\u001b[0;34m\u001b[0m\u001b[0;34m\u001b[0m\u001b[0m\n\u001b[1;32m      3\u001b[0m \u001b[0mX_train_res3\u001b[0m\u001b[0;34m,\u001b[0m \u001b[0my_train_res3\u001b[0m \u001b[0;34m=\u001b[0m \u001b[0msm\u001b[0m\u001b[0;34m.\u001b[0m\u001b[0mfit_resample\u001b[0m\u001b[0;34m(\u001b[0m\u001b[0mX_train_res2\u001b[0m\u001b[0;34m,\u001b[0m\u001b[0my_train_res2\u001b[0m\u001b[0;34m)\u001b[0m\u001b[0;34m\u001b[0m\u001b[0;34m\u001b[0m\u001b[0m\n\u001b[1;32m      4\u001b[0m \u001b[0mX_train_res4\u001b[0m\u001b[0;34m,\u001b[0m \u001b[0my_train_res4\u001b[0m \u001b[0;34m=\u001b[0m \u001b[0msm\u001b[0m\u001b[0;34m.\u001b[0m\u001b[0mfit_resample\u001b[0m\u001b[0;34m(\u001b[0m\u001b[0mX_train_res3\u001b[0m\u001b[0;34m,\u001b[0m\u001b[0my_train_res3\u001b[0m\u001b[0;34m)\u001b[0m\u001b[0;34m\u001b[0m\u001b[0;34m\u001b[0m\u001b[0m\n",
            "\u001b[0;32m/usr/local/lib/python3.7/dist-packages/imblearn/base.py\u001b[0m in \u001b[0;36mfit_resample\u001b[0;34m(self, X, y)\u001b[0m\n\u001b[1;32m     81\u001b[0m         )\n\u001b[1;32m     82\u001b[0m \u001b[0;34m\u001b[0m\u001b[0m\n\u001b[0;32m---> 83\u001b[0;31m         \u001b[0moutput\u001b[0m \u001b[0;34m=\u001b[0m \u001b[0mself\u001b[0m\u001b[0;34m.\u001b[0m\u001b[0m_fit_resample\u001b[0m\u001b[0;34m(\u001b[0m\u001b[0mX\u001b[0m\u001b[0;34m,\u001b[0m \u001b[0my\u001b[0m\u001b[0;34m)\u001b[0m\u001b[0;34m\u001b[0m\u001b[0;34m\u001b[0m\u001b[0m\n\u001b[0m\u001b[1;32m     84\u001b[0m \u001b[0;34m\u001b[0m\u001b[0m\n\u001b[1;32m     85\u001b[0m         y_ = (\n",
            "\u001b[0;32m/usr/local/lib/python3.7/dist-packages/imblearn/over_sampling/_smote/base.py\u001b[0m in \u001b[0;36m_fit_resample\u001b[0;34m(self, X, y)\u001b[0m\n\u001b[1;32m    307\u001b[0m \u001b[0;34m\u001b[0m\u001b[0m\n\u001b[1;32m    308\u001b[0m             \u001b[0mself\u001b[0m\u001b[0;34m.\u001b[0m\u001b[0mnn_k_\u001b[0m\u001b[0;34m.\u001b[0m\u001b[0mfit\u001b[0m\u001b[0;34m(\u001b[0m\u001b[0mX_class\u001b[0m\u001b[0;34m)\u001b[0m\u001b[0;34m\u001b[0m\u001b[0;34m\u001b[0m\u001b[0m\n\u001b[0;32m--> 309\u001b[0;31m             \u001b[0mnns\u001b[0m \u001b[0;34m=\u001b[0m \u001b[0mself\u001b[0m\u001b[0;34m.\u001b[0m\u001b[0mnn_k_\u001b[0m\u001b[0;34m.\u001b[0m\u001b[0mkneighbors\u001b[0m\u001b[0;34m(\u001b[0m\u001b[0mX_class\u001b[0m\u001b[0;34m,\u001b[0m \u001b[0mreturn_distance\u001b[0m\u001b[0;34m=\u001b[0m\u001b[0;32mFalse\u001b[0m\u001b[0;34m)\u001b[0m\u001b[0;34m[\u001b[0m\u001b[0;34m:\u001b[0m\u001b[0;34m,\u001b[0m \u001b[0;36m1\u001b[0m\u001b[0;34m:\u001b[0m\u001b[0;34m]\u001b[0m\u001b[0;34m\u001b[0m\u001b[0;34m\u001b[0m\u001b[0m\n\u001b[0m\u001b[1;32m    310\u001b[0m             X_new, y_new = self._make_samples(\n\u001b[1;32m    311\u001b[0m                 \u001b[0mX_class\u001b[0m\u001b[0;34m,\u001b[0m \u001b[0my\u001b[0m\u001b[0;34m.\u001b[0m\u001b[0mdtype\u001b[0m\u001b[0;34m,\u001b[0m \u001b[0mclass_sample\u001b[0m\u001b[0;34m,\u001b[0m \u001b[0mX_class\u001b[0m\u001b[0;34m,\u001b[0m \u001b[0mnns\u001b[0m\u001b[0;34m,\u001b[0m \u001b[0mn_samples\u001b[0m\u001b[0;34m,\u001b[0m \u001b[0;36m1.0\u001b[0m\u001b[0;34m\u001b[0m\u001b[0;34m\u001b[0m\u001b[0m\n",
            "\u001b[0;32m/usr/local/lib/python3.7/dist-packages/sklearn/neighbors/_base.py\u001b[0m in \u001b[0;36mkneighbors\u001b[0;34m(self, X, n_neighbors, return_distance)\u001b[0m\n\u001b[1;32m    727\u001b[0m             raise ValueError(\n\u001b[1;32m    728\u001b[0m                 \u001b[0;34m\"Expected n_neighbors <= n_samples, \"\u001b[0m\u001b[0;34m\u001b[0m\u001b[0;34m\u001b[0m\u001b[0m\n\u001b[0;32m--> 729\u001b[0;31m                 \u001b[0;34m\" but n_samples = %d, n_neighbors = %d\"\u001b[0m \u001b[0;34m%\u001b[0m \u001b[0;34m(\u001b[0m\u001b[0mn_samples_fit\u001b[0m\u001b[0;34m,\u001b[0m \u001b[0mn_neighbors\u001b[0m\u001b[0;34m)\u001b[0m\u001b[0;34m\u001b[0m\u001b[0;34m\u001b[0m\u001b[0m\n\u001b[0m\u001b[1;32m    730\u001b[0m             )\n\u001b[1;32m    731\u001b[0m \u001b[0;34m\u001b[0m\u001b[0m\n",
            "\u001b[0;31mValueError\u001b[0m: Expected n_neighbors <= n_samples,  but n_samples = 5, n_neighbors = 6"
          ]
        }
      ]
    },
    {
      "cell_type": "code",
      "source": [
        "unique, count = np.unique(y_train_res4, return_counts= True)\n",
        "y_train_smote_value_count = {k:v for (k,v) in zip(unique, count)}\n",
        "y_train_smote_value_count"
      ],
      "metadata": {
        "id": "j9FvnkJm5fPf"
      },
      "execution_count": null,
      "outputs": []
    },
    {
      "cell_type": "code",
      "source": [
        ""
      ],
      "metadata": {
        "id": "aIu3lJFa5in_"
      },
      "execution_count": null,
      "outputs": []
    }
  ]
}