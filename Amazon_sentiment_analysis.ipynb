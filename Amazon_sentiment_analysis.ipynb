{
 "cells": [
  {
   "cell_type": "markdown",
   "id": "5b83f282",
   "metadata": {},
   "source": [
    "## Sentiment Analysis of Amazon-Reviews\n",
    "The reviews have been collected using a tool called \"ParseHub\". The tool can be downloaded from its official website https://www.parsehub.com/. The tool simulates human web browsing behavior like opening a web page, logging into an account, entering text, pointing-and-clicking the web element, etc. Just click the information on the website in the built-in browser and start the extraction, and you will get the structured data you need.\n",
    "In our case, we clicked on the required elements like the reviews, ratings etc. "
   ]
  },
  {
   "cell_type": "markdown",
   "id": "9d11c1ae",
   "metadata": {},
   "source": [
    "Importing important libraries"
   ]
  },
  {
   "cell_type": "code",
   "execution_count": null,
   "id": "1b7bd9b4",
   "metadata": {},
   "outputs": [],
   "source": [
    "import pandas as pd\n",
    "import numpy as np\n",
    "import matplotlib.pyplot as plt\n",
    "import seaborn as sns\n",
    "!pip install textblob\n",
    "import textblob"
   ]
  },
  {
   "cell_type": "markdown",
   "id": "83cbf8fd",
   "metadata": {},
   "source": [
    "Read the csv file using read_csv (i.e. bulid in function of pandas)"
   ]
  },
  {
   "cell_type": "code",
   "execution_count": 2,
   "id": "0705390d",
   "metadata": {},
   "outputs": [],
   "source": [
    "df = pd.read_csv('Reviews_amazon.csv')"
   ]
  },
  {
   "cell_type": "code",
   "execution_count": 3,
   "id": "094fdedd",
   "metadata": {},
   "outputs": [
    {
     "data": {
      "text/html": [
       "<div>\n",
       "<style scoped>\n",
       "    .dataframe tbody tr th:only-of-type {\n",
       "        vertical-align: middle;\n",
       "    }\n",
       "\n",
       "    .dataframe tbody tr th {\n",
       "        vertical-align: top;\n",
       "    }\n",
       "\n",
       "    .dataframe thead th {\n",
       "        text-align: right;\n",
       "    }\n",
       "</style>\n",
       "<table border=\"1\" class=\"dataframe\">\n",
       "  <thead>\n",
       "    <tr style=\"text-align: right;\">\n",
       "      <th></th>\n",
       "      <th>Reviwes_name</th>\n",
       "      <th>Reviwes_Ratings</th>\n",
       "      <th>Reviwes_Ratings_url</th>\n",
       "    </tr>\n",
       "  </thead>\n",
       "  <tbody>\n",
       "    <tr>\n",
       "      <th>0</th>\n",
       "      <td>Dont buy this it is not worth for money. It is...</td>\n",
       "      <td>1.0 out of 5 stars</td>\n",
       "      <td>https://www.amazon.in/gp/customer-reviews/RDIM...</td>\n",
       "    </tr>\n",
       "    <tr>\n",
       "      <th>1</th>\n",
       "      <td>Pros:-\\n1. Display (Best display you can get a...</td>\n",
       "      <td>5.0 out of 5 stars</td>\n",
       "      <td>https://www.amazon.in/gp/customer-reviews/R120...</td>\n",
       "    </tr>\n",
       "    <tr>\n",
       "      <th>2</th>\n",
       "      <td>Cons:\\n1.Good phone at this price.\\n2.Display ...</td>\n",
       "      <td>4.0 out of 5 stars</td>\n",
       "      <td>https://www.amazon.in/gp/customer-reviews/R2WR...</td>\n",
       "    </tr>\n",
       "    <tr>\n",
       "      <th>3</th>\n",
       "      <td>So greatful to Amazon for sending me such a ni...</td>\n",
       "      <td>1.0 out of 5 stars</td>\n",
       "      <td>https://www.amazon.in/gp/customer-reviews/RKJS...</td>\n",
       "    </tr>\n",
       "    <tr>\n",
       "      <th>4</th>\n",
       "      <td>I am sure there will be many reviewers who wil...</td>\n",
       "      <td>4.0 out of 5 stars</td>\n",
       "      <td>https://www.amazon.in/gp/customer-reviews/RI96...</td>\n",
       "    </tr>\n",
       "  </tbody>\n",
       "</table>\n",
       "</div>"
      ],
      "text/plain": [
       "                                        Reviwes_name     Reviwes_Ratings  \\\n",
       "0  Dont buy this it is not worth for money. It is...  1.0 out of 5 stars   \n",
       "1  Pros:-\\n1. Display (Best display you can get a...  5.0 out of 5 stars   \n",
       "2  Cons:\\n1.Good phone at this price.\\n2.Display ...  4.0 out of 5 stars   \n",
       "3  So greatful to Amazon for sending me such a ni...  1.0 out of 5 stars   \n",
       "4  I am sure there will be many reviewers who wil...  4.0 out of 5 stars   \n",
       "\n",
       "                                 Reviwes_Ratings_url  \n",
       "0  https://www.amazon.in/gp/customer-reviews/RDIM...  \n",
       "1  https://www.amazon.in/gp/customer-reviews/R120...  \n",
       "2  https://www.amazon.in/gp/customer-reviews/R2WR...  \n",
       "3  https://www.amazon.in/gp/customer-reviews/RKJS...  \n",
       "4  https://www.amazon.in/gp/customer-reviews/RI96...  "
      ]
     },
     "execution_count": 3,
     "metadata": {},
     "output_type": "execute_result"
    }
   ],
   "source": [
    "df.head()"
   ]
  },
  {
   "cell_type": "code",
   "execution_count": 4,
   "id": "ed67285f",
   "metadata": {},
   "outputs": [],
   "source": [
    "X = df['Reviwes_Ratings']"
   ]
  },
  {
   "cell_type": "code",
   "execution_count": 5,
   "id": "aedd7a29",
   "metadata": {},
   "outputs": [],
   "source": [
    "df.drop(['Reviwes_Ratings_url', 'Reviwes_Ratings'], axis = 1, inplace = True)"
   ]
  },
  {
   "cell_type": "code",
   "execution_count": 6,
   "id": "e3000c2c",
   "metadata": {},
   "outputs": [
    {
     "data": {
      "text/html": [
       "<div>\n",
       "<style scoped>\n",
       "    .dataframe tbody tr th:only-of-type {\n",
       "        vertical-align: middle;\n",
       "    }\n",
       "\n",
       "    .dataframe tbody tr th {\n",
       "        vertical-align: top;\n",
       "    }\n",
       "\n",
       "    .dataframe thead th {\n",
       "        text-align: right;\n",
       "    }\n",
       "</style>\n",
       "<table border=\"1\" class=\"dataframe\">\n",
       "  <thead>\n",
       "    <tr style=\"text-align: right;\">\n",
       "      <th></th>\n",
       "      <th>Reviwes_name</th>\n",
       "    </tr>\n",
       "  </thead>\n",
       "  <tbody>\n",
       "    <tr>\n",
       "      <th>0</th>\n",
       "      <td>Dont buy this it is not worth for money. It is...</td>\n",
       "    </tr>\n",
       "    <tr>\n",
       "      <th>1</th>\n",
       "      <td>Pros:-\\n1. Display (Best display you can get a...</td>\n",
       "    </tr>\n",
       "    <tr>\n",
       "      <th>2</th>\n",
       "      <td>Cons:\\n1.Good phone at this price.\\n2.Display ...</td>\n",
       "    </tr>\n",
       "  </tbody>\n",
       "</table>\n",
       "</div>"
      ],
      "text/plain": [
       "                                        Reviwes_name\n",
       "0  Dont buy this it is not worth for money. It is...\n",
       "1  Pros:-\\n1. Display (Best display you can get a...\n",
       "2  Cons:\\n1.Good phone at this price.\\n2.Display ..."
      ]
     },
     "execution_count": 6,
     "metadata": {},
     "output_type": "execute_result"
    }
   ],
   "source": [
    "df.head(3)"
   ]
  },
  {
   "cell_type": "markdown",
   "id": "d3a49b3e",
   "metadata": {},
   "source": [
    "Before the sentiment analysis, I must have to perform some data - cleaning process for which i have to import some important libraries."
   ]
  },
  {
   "cell_type": "code",
   "execution_count": null,
   "id": "e3fdced6",
   "metadata": {},
   "outputs": [],
   "source": [
    "import nltk\n",
    "import re\n",
    "nltk.download('stopwords')\n",
    "from nltk.corpus import stopwords\n",
    "from nltk.stem.porter import PorterStemmer"
   ]
  },
  {
   "cell_type": "markdown",
   "id": "050742f8",
   "metadata": {},
   "source": [
    "In data cleaning i perform following things-\n",
    "1. All the stopwords from the data is removed\n",
    "2. Convert all the character into lower case\n",
    "3. Perfrom stemming on the data-set\n",
    "4. Store all the preprocessed data into the same row."
   ]
  },
  {
   "cell_type": "code",
   "execution_count": 7,
   "id": "4543928b",
   "metadata": {},
   "outputs": [
    {
     "name": "stderr",
     "output_type": "stream",
     "text": [
      "[nltk_data] Downloading package stopwords to\n",
      "[nltk_data]     C:\\Users\\THINKPAD\\AppData\\Roaming\\nltk_data...\n",
      "[nltk_data]   Package stopwords is already up-to-date!\n"
     ]
    }
   ],
   "source": [
    "corpus = []\n",
    "for i in range(len(df)):\n",
    "  review = re.sub('[^a-zA-Z]', ' ', str(df['Reviwes_name'][i]))\n",
    "  review = review.lower()\n",
    "  review = review.split()\n",
    "  ps = PorterStemmer()\n",
    "  all_stopwords = stopwords.words('english')\n",
    "  all_stopwords.remove('not')\n",
    "  review = [ps.stem(word) for word in review if not word in set(all_stopwords)]\n",
    "  review = ' '.join(review)\n",
    "  df['Reviwes_name'][i] = review"
   ]
  },
  {
   "cell_type": "code",
   "execution_count": null,
   "id": "34276a6f",
   "metadata": {},
   "outputs": [],
   "source": [
    "df.head()"
   ]
  },
  {
   "cell_type": "markdown",
   "id": "94e9c8d2",
   "metadata": {},
   "source": [
    "It performs different operations on textual data such as noun phrase extraction, sentiment analysis, classification, translation, etc."
   ]
  },
  {
   "cell_type": "code",
   "execution_count": 8,
   "id": "c61a8b7e",
   "metadata": {},
   "outputs": [],
   "source": [
    "from textblob import TextBlob"
   ]
  },
  {
   "cell_type": "code",
   "execution_count": 9,
   "id": "27ed3031",
   "metadata": {},
   "outputs": [],
   "source": [
    "for i in range (len(df)) :\n",
    "   df['sentiment_scores_tb'] = [round(TextBlob(article).sentiment.polarity, 3) for article in df['Reviwes_name']]\n",
    "   df['sentiment_category_tb'] = ['positive' if score > 0 \n",
    "                             else 'negative' if score < 0 \n",
    "                                 else 'neutral' \n",
    "                                     for score in df['sentiment_scores_tb']]"
   ]
  },
  {
   "cell_type": "code",
   "execution_count": 10,
   "id": "b555f59d",
   "metadata": {},
   "outputs": [
    {
     "name": "stdout",
     "output_type": "stream",
     "text": [
      "0      negative\n",
      "1      positive\n",
      "2      positive\n",
      "3      positive\n",
      "4      positive\n",
      "         ...   \n",
      "445     neutral\n",
      "446    positive\n",
      "447    positive\n",
      "448    positive\n",
      "449    positive\n",
      "Name: sentiment_category_tb, Length: 450, dtype: object\n"
     ]
    }
   ],
   "source": [
    "print(df['sentiment_category_tb'])"
   ]
  },
  {
   "cell_type": "code",
   "execution_count": 11,
   "id": "4f9d19e3",
   "metadata": {
    "scrolled": false
   },
   "outputs": [
    {
     "data": {
      "text/html": [
       "<div>\n",
       "<style scoped>\n",
       "    .dataframe tbody tr th:only-of-type {\n",
       "        vertical-align: middle;\n",
       "    }\n",
       "\n",
       "    .dataframe tbody tr th {\n",
       "        vertical-align: top;\n",
       "    }\n",
       "\n",
       "    .dataframe thead th {\n",
       "        text-align: right;\n",
       "    }\n",
       "</style>\n",
       "<table border=\"1\" class=\"dataframe\">\n",
       "  <thead>\n",
       "    <tr style=\"text-align: right;\">\n",
       "      <th></th>\n",
       "      <th>Reviwes_name</th>\n",
       "      <th>sentiment_scores_tb</th>\n",
       "      <th>sentiment_category_tb</th>\n",
       "    </tr>\n",
       "  </thead>\n",
       "  <tbody>\n",
       "    <tr>\n",
       "      <th>0</th>\n",
       "      <td>dont buy not worth money work slow</td>\n",
       "      <td>-0.225</td>\n",
       "      <td>negative</td>\n",
       "    </tr>\n",
       "    <tr>\n",
       "      <th>1</th>\n",
       "      <td>pro display best display get price e super amo...</td>\n",
       "      <td>0.203</td>\n",
       "      <td>positive</td>\n",
       "    </tr>\n",
       "    <tr>\n",
       "      <th>2</th>\n",
       "      <td>con good phone price display qualiti realli gr...</td>\n",
       "      <td>0.523</td>\n",
       "      <td>positive</td>\n",
       "    </tr>\n",
       "    <tr>\n",
       "      <th>3</th>\n",
       "      <td>great amazon send nice product alreadi land sa...</td>\n",
       "      <td>0.232</td>\n",
       "      <td>positive</td>\n",
       "    </tr>\n",
       "    <tr>\n",
       "      <th>4</th>\n",
       "      <td>sure mani review depth analysi list pro con de...</td>\n",
       "      <td>0.168</td>\n",
       "      <td>positive</td>\n",
       "    </tr>\n",
       "  </tbody>\n",
       "</table>\n",
       "</div>"
      ],
      "text/plain": [
       "                                        Reviwes_name  sentiment_scores_tb  \\\n",
       "0                 dont buy not worth money work slow               -0.225   \n",
       "1  pro display best display get price e super amo...                0.203   \n",
       "2  con good phone price display qualiti realli gr...                0.523   \n",
       "3  great amazon send nice product alreadi land sa...                0.232   \n",
       "4  sure mani review depth analysi list pro con de...                0.168   \n",
       "\n",
       "  sentiment_category_tb  \n",
       "0              negative  \n",
       "1              positive  \n",
       "2              positive  \n",
       "3              positive  \n",
       "4              positive  "
      ]
     },
     "execution_count": 11,
     "metadata": {},
     "output_type": "execute_result"
    }
   ],
   "source": [
    "df.head()"
   ]
  },
  {
   "cell_type": "code",
   "execution_count": 13,
   "id": "2b82672a",
   "metadata": {},
   "outputs": [],
   "source": [
    "final_df = pd.concat([df,X], axis=1)"
   ]
  },
  {
   "cell_type": "code",
   "execution_count": 15,
   "id": "cd721f64",
   "metadata": {},
   "outputs": [
    {
     "data": {
      "text/html": [
       "<div>\n",
       "<style scoped>\n",
       "    .dataframe tbody tr th:only-of-type {\n",
       "        vertical-align: middle;\n",
       "    }\n",
       "\n",
       "    .dataframe tbody tr th {\n",
       "        vertical-align: top;\n",
       "    }\n",
       "\n",
       "    .dataframe thead th {\n",
       "        text-align: right;\n",
       "    }\n",
       "</style>\n",
       "<table border=\"1\" class=\"dataframe\">\n",
       "  <thead>\n",
       "    <tr style=\"text-align: right;\">\n",
       "      <th></th>\n",
       "      <th>Reviwes_name</th>\n",
       "      <th>sentiment_scores_tb</th>\n",
       "      <th>sentiment_category_tb</th>\n",
       "      <th>Reviwes_Ratings</th>\n",
       "    </tr>\n",
       "  </thead>\n",
       "  <tbody>\n",
       "    <tr>\n",
       "      <th>0</th>\n",
       "      <td>dont buy not worth money work slow</td>\n",
       "      <td>-0.225</td>\n",
       "      <td>negative</td>\n",
       "      <td>1.0 out of 5 stars</td>\n",
       "    </tr>\n",
       "    <tr>\n",
       "      <th>1</th>\n",
       "      <td>pro display best display get price e super amo...</td>\n",
       "      <td>0.203</td>\n",
       "      <td>positive</td>\n",
       "      <td>5.0 out of 5 stars</td>\n",
       "    </tr>\n",
       "    <tr>\n",
       "      <th>2</th>\n",
       "      <td>con good phone price display qualiti realli gr...</td>\n",
       "      <td>0.523</td>\n",
       "      <td>positive</td>\n",
       "      <td>4.0 out of 5 stars</td>\n",
       "    </tr>\n",
       "    <tr>\n",
       "      <th>3</th>\n",
       "      <td>great amazon send nice product alreadi land sa...</td>\n",
       "      <td>0.232</td>\n",
       "      <td>positive</td>\n",
       "      <td>1.0 out of 5 stars</td>\n",
       "    </tr>\n",
       "    <tr>\n",
       "      <th>4</th>\n",
       "      <td>sure mani review depth analysi list pro con de...</td>\n",
       "      <td>0.168</td>\n",
       "      <td>positive</td>\n",
       "      <td>4.0 out of 5 stars</td>\n",
       "    </tr>\n",
       "    <tr>\n",
       "      <th>...</th>\n",
       "      <td>...</td>\n",
       "      <td>...</td>\n",
       "      <td>...</td>\n",
       "      <td>...</td>\n",
       "    </tr>\n",
       "    <tr>\n",
       "      <th>445</th>\n",
       "      <td>phone excel item dearer k inr last sale make d...</td>\n",
       "      <td>0.000</td>\n",
       "      <td>neutral</td>\n",
       "      <td>5.0 out of 5 stars</td>\n",
       "    </tr>\n",
       "    <tr>\n",
       "      <th>446</th>\n",
       "      <td>phone good given star one thing want say much ...</td>\n",
       "      <td>0.625</td>\n",
       "      <td>positive</td>\n",
       "      <td>5.0 out of 5 stars</td>\n",
       "    </tr>\n",
       "    <tr>\n",
       "      <th>447</th>\n",
       "      <td>best batteri back rang decent camera qualiti l...</td>\n",
       "      <td>0.342</td>\n",
       "      <td>positive</td>\n",
       "      <td>5.0 out of 5 stars</td>\n",
       "    </tr>\n",
       "    <tr>\n",
       "      <th>448</th>\n",
       "      <td>overal best smartphon daili use social media b...</td>\n",
       "      <td>0.046</td>\n",
       "      <td>positive</td>\n",
       "      <td>5.0 out of 5 stars</td>\n",
       "    </tr>\n",
       "    <tr>\n",
       "      <th>449</th>\n",
       "      <td>bought phone new year sale use one month nice ...</td>\n",
       "      <td>0.202</td>\n",
       "      <td>positive</td>\n",
       "      <td>5.0 out of 5 stars</td>\n",
       "    </tr>\n",
       "  </tbody>\n",
       "</table>\n",
       "<p>450 rows × 4 columns</p>\n",
       "</div>"
      ],
      "text/plain": [
       "                                          Reviwes_name  sentiment_scores_tb  \\\n",
       "0                   dont buy not worth money work slow               -0.225   \n",
       "1    pro display best display get price e super amo...                0.203   \n",
       "2    con good phone price display qualiti realli gr...                0.523   \n",
       "3    great amazon send nice product alreadi land sa...                0.232   \n",
       "4    sure mani review depth analysi list pro con de...                0.168   \n",
       "..                                                 ...                  ...   \n",
       "445  phone excel item dearer k inr last sale make d...                0.000   \n",
       "446  phone good given star one thing want say much ...                0.625   \n",
       "447  best batteri back rang decent camera qualiti l...                0.342   \n",
       "448  overal best smartphon daili use social media b...                0.046   \n",
       "449  bought phone new year sale use one month nice ...                0.202   \n",
       "\n",
       "    sentiment_category_tb     Reviwes_Ratings  \n",
       "0                negative  1.0 out of 5 stars  \n",
       "1                positive  5.0 out of 5 stars  \n",
       "2                positive  4.0 out of 5 stars  \n",
       "3                positive  1.0 out of 5 stars  \n",
       "4                positive  4.0 out of 5 stars  \n",
       "..                    ...                 ...  \n",
       "445               neutral  5.0 out of 5 stars  \n",
       "446              positive  5.0 out of 5 stars  \n",
       "447              positive  5.0 out of 5 stars  \n",
       "448              positive  5.0 out of 5 stars  \n",
       "449              positive  5.0 out of 5 stars  \n",
       "\n",
       "[450 rows x 4 columns]"
      ]
     },
     "execution_count": 15,
     "metadata": {},
     "output_type": "execute_result"
    }
   ],
   "source": [
    "final_df"
   ]
  },
  {
   "cell_type": "markdown",
   "id": "c6c6a823",
   "metadata": {},
   "source": [
    "It is clear that reviews have negative sentiment have low rating"
   ]
  },
  {
   "cell_type": "code",
   "execution_count": 21,
   "id": "b1c4ad86",
   "metadata": {},
   "outputs": [
    {
     "name": "stdout",
     "output_type": "stream",
     "text": [
      "Collecting openpyxl\n",
      "  Downloading openpyxl-3.0.9-py2.py3-none-any.whl (242 kB)\n",
      "     ------------------------------------ 242.2/242.2 KB 644.2 kB/s eta 0:00:00\n",
      "Collecting et-xmlfile\n",
      "  Downloading et_xmlfile-1.1.0-py3-none-any.whl (4.7 kB)\n",
      "Installing collected packages: et-xmlfile, openpyxl\n",
      "Successfully installed et-xmlfile-1.1.0 openpyxl-3.0.9\n",
      "Note: you may need to restart the kernel to use updated packages.\n"
     ]
    }
   ],
   "source": [
    "pip install openpyxl"
   ]
  },
  {
   "cell_type": "code",
   "execution_count": 22,
   "id": "e9f48b4a",
   "metadata": {},
   "outputs": [],
   "source": [
    "final_df.to_excel('final review sentiment.xlsx', index = False)"
   ]
  },
  {
   "cell_type": "code",
   "execution_count": 23,
   "id": "3afce93f",
   "metadata": {},
   "outputs": [
    {
     "data": {
      "text/html": [
       "<a href='final review sentiment.xlsx' target='_blank'>final review sentiment.xlsx</a><br>"
      ],
      "text/plain": [
       "D:\\jupyter-notebook\\final review sentiment.xlsx"
      ]
     },
     "execution_count": 23,
     "metadata": {},
     "output_type": "execute_result"
    }
   ],
   "source": [
    "from IPython.display import FileLink\n",
    "FileLink('final review sentiment.xlsx')"
   ]
  },
  {
   "cell_type": "code",
   "execution_count": null,
   "id": "0fe12bba",
   "metadata": {},
   "outputs": [],
   "source": []
  }
 ],
 "metadata": {
  "kernelspec": {
   "display_name": "Python 3 (ipykernel)",
   "language": "python",
   "name": "python3"
  },
  "language_info": {
   "codemirror_mode": {
    "name": "ipython",
    "version": 3
   },
   "file_extension": ".py",
   "mimetype": "text/x-python",
   "name": "python",
   "nbconvert_exporter": "python",
   "pygments_lexer": "ipython3",
   "version": "3.10.4"
  }
 },
 "nbformat": 4,
 "nbformat_minor": 5
}
